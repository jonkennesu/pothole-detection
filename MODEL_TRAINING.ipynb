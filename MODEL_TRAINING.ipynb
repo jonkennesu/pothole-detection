{
  "nbformat": 4,
  "nbformat_minor": 0,
  "metadata": {
    "colab": {
      "provenance": [],
      "gpuType": "A100"
    },
    "kernelspec": {
      "name": "python3",
      "display_name": "Python 3"
    },
    "language_info": {
      "name": "python"
    },
    "accelerator": "GPU"
  },
  "cells": [
    {
      "cell_type": "code",
      "execution_count": null,
      "metadata": {
        "colab": {
          "base_uri": "https://localhost:8080/"
        },
        "id": "GFzvQHz_Ytek",
        "outputId": "530ebc48-9c8e-4ae0-aefe-ce48beb9bdb1"
      },
      "outputs": [
        {
          "output_type": "stream",
          "name": "stdout",
          "text": [
            "Ultralytics 8.3.142 🚀 Python-3.11.12 torch-2.6.0+cu124 CUDA:0 (NVIDIA A100-SXM4-40GB, 40507MiB)\n",
            "Setup complete ✅ (12 CPUs, 83.5 GB RAM, 42.9/112.6 GB disk)\n"
          ]
        }
      ],
      "source": [
        "%pip install ultralytics\n",
        "import ultralytics\n",
        "ultralytics.checks()"
      ]
    },
    {
      "cell_type": "code",
      "source": [
        "from google.colab import drive\n",
        "drive.mount('/content/drive')"
      ],
      "metadata": {
        "colab": {
          "base_uri": "https://localhost:8080/"
        },
        "id": "S7h_7ozkYzbM",
        "outputId": "226fc602-1b11-4a83-b5b8-e2304b24977d"
      },
      "execution_count": null,
      "outputs": [
        {
          "output_type": "stream",
          "name": "stdout",
          "text": [
            "Drive already mounted at /content/drive; to attempt to forcibly remount, call drive.mount(\"/content/drive\", force_remount=True).\n"
          ]
        }
      ]
    },
    {
      "cell_type": "code",
      "source": [
        "import os\n",
        "# Check the extracted directory structure\n",
        "data_dir = \"/content/drive/MyDrive/FINALPROJECT_DATASET1/POTHOLE\"\n",
        "print(\"Extracted files:\", os.listdir(data_dir))"
      ],
      "metadata": {
        "colab": {
          "base_uri": "https://localhost:8080/"
        },
        "id": "gztKFXdt4-CE",
        "outputId": "dd5c2ce8-55ba-49be-a452-3eb4783f09f4"
      },
      "execution_count": null,
      "outputs": [
        {
          "output_type": "stream",
          "name": "stdout",
          "text": [
            "Extracted files: ['data.yaml', 'README.dataset.txt', 'README.roboflow.txt', 'train', 'test', 'valid']\n"
          ]
        }
      ]
    },
    {
      "cell_type": "code",
      "source": [
        "import os\n",
        "from glob import glob\n",
        "\n",
        "splits = ['train', 'valid', 'test']\n",
        "\n",
        "# Count images\n",
        "for split in splits:\n",
        "    img_path = os.path.join(data_dir, split, 'images')\n",
        "    img_count = len(glob(os.path.join(img_path, '*.jpg'))) + len(glob(os.path.join(img_path, '*.png')))\n",
        "    print(f\"{split.capitalize()} set: {img_count} images\")"
      ],
      "metadata": {
        "colab": {
          "base_uri": "https://localhost:8080/"
        },
        "id": "iRrYI-QY5XTK",
        "outputId": "e817fce5-1e82-4cc6-9330-fd4d69fbc4be"
      },
      "execution_count": null,
      "outputs": [
        {
          "output_type": "stream",
          "name": "stdout",
          "text": [
            "Train set: 465 images\n",
            "Valid set: 133 images\n",
            "Test set: 67 images\n"
          ]
        }
      ]
    },
    {
      "cell_type": "markdown",
      "source": [
        "# RT-DETR"
      ],
      "metadata": {
        "id": "p715hw-C8sGp"
      }
    },
    {
      "cell_type": "code",
      "source": [
        "from ultralytics import RTDETR\n",
        "\n",
        "model = RTDETR('rtdetr-l.pt')\n",
        "\n",
        "model.train(\n",
        "    data='/content/drive/MyDrive/FINALPROJECT_DATASET1/POTHOLE/data.yaml',\n",
        "    epochs=100,\n",
        "    imgsz=640,\n",
        "    batch=16,\n",
        "    patience=10,\n",
        "    device='cuda',\n",
        "    name='pothole_rtdetr_l'\n",
        ")"
      ],
      "metadata": {
        "colab": {
          "base_uri": "https://localhost:8080/"
        },
        "id": "uF3zmrs07xKp",
        "outputId": "07514d15-2fb0-4707-c8b0-b5d5e72390df"
      },
      "execution_count": null,
      "outputs": [
        {
          "output_type": "stream",
          "name": "stdout",
          "text": [
            "Ultralytics 8.3.142 🚀 Python-3.11.12 torch-2.6.0+cu124 CUDA:0 (NVIDIA A100-SXM4-40GB, 40507MiB)\n",
            "\u001b[34m\u001b[1mengine/trainer: \u001b[0magnostic_nms=False, amp=True, augment=False, auto_augment=randaugment, batch=16, bgr=0.0, box=7.5, cache=False, cfg=None, classes=None, close_mosaic=10, cls=0.5, conf=None, copy_paste=0.0, copy_paste_mode=flip, cos_lr=False, cutmix=0.0, data=/content/drive/MyDrive/FINALPROJECT_DATASET1/POTHOLE/data.yaml, degrees=0.0, deterministic=True, device=0, dfl=1.5, dnn=False, dropout=0.0, dynamic=False, embed=None, epochs=100, erasing=0.4, exist_ok=False, fliplr=0.5, flipud=0.0, format=torchscript, fraction=1.0, freeze=None, half=False, hsv_h=0.015, hsv_s=0.7, hsv_v=0.4, imgsz=640, int8=False, iou=0.7, keras=False, kobj=1.0, line_width=None, lr0=0.01, lrf=0.01, mask_ratio=4, max_det=300, mixup=0.0, mode=train, model=rtdetr-l.pt, momentum=0.937, mosaic=1.0, multi_scale=False, name=pothole_rtdetr_l2, nbs=64, nms=False, opset=None, optimize=False, optimizer=auto, overlap_mask=True, patience=10, perspective=0.0, plots=True, pose=12.0, pretrained=True, profile=False, project=None, rect=False, resume=False, retina_masks=False, save=True, save_conf=False, save_crop=False, save_dir=runs/detect/pothole_rtdetr_l2, save_frames=False, save_json=False, save_period=-1, save_txt=False, scale=0.5, seed=0, shear=0.0, show=False, show_boxes=True, show_conf=True, show_labels=True, simplify=True, single_cls=False, source=None, split=val, stream_buffer=False, task=detect, time=None, tracker=botsort.yaml, translate=0.1, val=True, verbose=True, vid_stride=1, visualize=False, warmup_bias_lr=0.1, warmup_epochs=3.0, warmup_momentum=0.8, weight_decay=0.0005, workers=8, workspace=None\n",
            "Overriding model.yaml nc=80 with nc=1\n",
            "WARNING ⚠️ no model scale passed. Assuming scale='l'.\n",
            "\n",
            "                   from  n    params  module                                       arguments                     \n",
            "  0                  -1  1     25248  ultralytics.nn.modules.block.HGStem          [3, 32, 48]                   \n",
            "  1                  -1  6    155072  ultralytics.nn.modules.block.HGBlock         [48, 48, 128, 3, 6]           \n",
            "  2                  -1  1      1408  ultralytics.nn.modules.conv.DWConv           [128, 128, 3, 2, 1, False]    \n",
            "  3                  -1  6    839296  ultralytics.nn.modules.block.HGBlock         [128, 96, 512, 3, 6]          \n",
            "  4                  -1  1      5632  ultralytics.nn.modules.conv.DWConv           [512, 512, 3, 2, 1, False]    \n",
            "  5                  -1  6   1695360  ultralytics.nn.modules.block.HGBlock         [512, 192, 1024, 5, 6, True, False]\n",
            "  6                  -1  6   2055808  ultralytics.nn.modules.block.HGBlock         [1024, 192, 1024, 5, 6, True, True]\n",
            "  7                  -1  6   2055808  ultralytics.nn.modules.block.HGBlock         [1024, 192, 1024, 5, 6, True, True]\n",
            "  8                  -1  1     11264  ultralytics.nn.modules.conv.DWConv           [1024, 1024, 3, 2, 1, False]  \n",
            "  9                  -1  6   6708480  ultralytics.nn.modules.block.HGBlock         [1024, 384, 2048, 5, 6, True, False]\n",
            " 10                  -1  1    524800  ultralytics.nn.modules.conv.Conv             [2048, 256, 1, 1, None, 1, 1, False]\n",
            " 11                  -1  1    789760  ultralytics.nn.modules.transformer.AIFI      [256, 1024, 8]                \n",
            " 12                  -1  1     66048  ultralytics.nn.modules.conv.Conv             [256, 256, 1, 1]              \n",
            " 13                  -1  1         0  torch.nn.modules.upsampling.Upsample         [None, 2, 'nearest']          \n",
            " 14                   7  1    262656  ultralytics.nn.modules.conv.Conv             [1024, 256, 1, 1, None, 1, 1, False]\n",
            " 15            [-2, -1]  1         0  ultralytics.nn.modules.conv.Concat           [1]                           \n",
            " 16                  -1  3   2232320  ultralytics.nn.modules.block.RepC3           [512, 256, 3]                 \n",
            " 17                  -1  1     66048  ultralytics.nn.modules.conv.Conv             [256, 256, 1, 1]              \n",
            " 18                  -1  1         0  torch.nn.modules.upsampling.Upsample         [None, 2, 'nearest']          \n",
            " 19                   3  1    131584  ultralytics.nn.modules.conv.Conv             [512, 256, 1, 1, None, 1, 1, False]\n",
            " 20            [-2, -1]  1         0  ultralytics.nn.modules.conv.Concat           [1]                           \n",
            " 21                  -1  3   2232320  ultralytics.nn.modules.block.RepC3           [512, 256, 3]                 \n",
            " 22                  -1  1    590336  ultralytics.nn.modules.conv.Conv             [256, 256, 3, 2]              \n",
            " 23            [-1, 17]  1         0  ultralytics.nn.modules.conv.Concat           [1]                           \n",
            " 24                  -1  3   2232320  ultralytics.nn.modules.block.RepC3           [512, 256, 3]                 \n",
            " 25                  -1  1    590336  ultralytics.nn.modules.conv.Conv             [256, 256, 3, 2]              \n",
            " 26            [-1, 12]  1         0  ultralytics.nn.modules.conv.Concat           [1]                           \n",
            " 27                  -1  3   2232320  ultralytics.nn.modules.block.RepC3           [512, 256, 3]                 \n",
            " 28        [21, 24, 27]  1   7303907  ultralytics.nn.modules.head.RTDETRDecoder    [1, [256, 256, 256]]          \n",
            "rt-detr-l summary: 457 layers, 32,808,131 parameters, 32,808,131 gradients, 108.0 GFLOPs\n",
            "\n",
            "Transferred 926/941 items from pretrained weights\n",
            "\u001b[34m\u001b[1mAMP: \u001b[0mrunning Automatic Mixed Precision (AMP) checks...\n",
            "\u001b[34m\u001b[1mAMP: \u001b[0mchecks passed ✅\n",
            "\u001b[34m\u001b[1mtrain: \u001b[0mFast image access ✅ (ping: 0.5±0.1 ms, read: 33.4±14.3 MB/s, size: 72.0 KB)\n"
          ]
        },
        {
          "output_type": "stream",
          "name": "stderr",
          "text": [
            "\u001b[34m\u001b[1mtrain: \u001b[0mScanning /content/drive/.shortcut-targets-by-id/12YKpieMOElYxQXm2s9MtLNp2JzIsTT88/FINALPROJECT_DATASET1/POTHOLE/train/labels.cache... 465 images, 0 backgrounds, 0 corrupt: 100%|██████████| 465/465 [00:00<?, ?it/s]\n"
          ]
        },
        {
          "output_type": "stream",
          "name": "stdout",
          "text": [
            "\u001b[34m\u001b[1malbumentations: \u001b[0mBlur(p=0.01, blur_limit=(3, 7)), MedianBlur(p=0.01, blur_limit=(3, 7)), ToGray(p=0.01, method='weighted_average', num_output_channels=3), CLAHE(p=0.01, clip_limit=(1.0, 4.0), tile_grid_size=(8, 8))\n",
            "\u001b[34m\u001b[1mval: \u001b[0mFast image access ✅ (ping: 6.5±12.5 ms, read: 9.5±5.6 MB/s, size: 72.5 KB)\n"
          ]
        },
        {
          "output_type": "stream",
          "name": "stderr",
          "text": [
            "\u001b[34m\u001b[1mval: \u001b[0mScanning /content/drive/.shortcut-targets-by-id/12YKpieMOElYxQXm2s9MtLNp2JzIsTT88/FINALPROJECT_DATASET1/POTHOLE/valid/labels.cache... 133 images, 0 backgrounds, 0 corrupt: 100%|██████████| 133/133 [00:00<?, ?it/s]\n"
          ]
        },
        {
          "output_type": "stream",
          "name": "stdout",
          "text": [
            "Plotting labels to runs/detect/pothole_rtdetr_l2/labels.jpg... \n",
            "\u001b[34m\u001b[1moptimizer:\u001b[0m 'optimizer=auto' found, ignoring 'lr0=0.01' and 'momentum=0.937' and determining best 'optimizer', 'lr0' and 'momentum' automatically... \n",
            "\u001b[34m\u001b[1moptimizer:\u001b[0m AdamW(lr=0.002, momentum=0.9) with parameter groups 143 weight(decay=0.0), 206 weight(decay=0.0005), 226 bias(decay=0.0)\n",
            "Image sizes 640 train, 640 val\n",
            "Using 8 dataloader workers\n",
            "Logging results to \u001b[1mruns/detect/pothole_rtdetr_l2\u001b[0m\n",
            "Starting training for 100 epochs...\n",
            "\n",
            "      Epoch    GPU_mem  giou_loss   cls_loss    l1_loss  Instances       Size\n"
          ]
        },
        {
          "output_type": "stream",
          "name": "stderr",
          "text": [
            "  0%|          | 0/30 [00:00<?, ?it/s]/usr/local/lib/python3.11/dist-packages/torch/autograd/graph.py:823: UserWarning: grid_sampler_2d_backward_cuda does not have a deterministic implementation, but you set 'torch.use_deterministic_algorithms(True, warn_only=True)'. You can file an issue at https://github.com/pytorch/pytorch/issues to help us prioritize adding deterministic support for this operation. (Triggered internally at /pytorch/aten/src/ATen/Context.cpp:92.)\n",
            "  return Variable._execution_engine.run_backward(  # Calls into the C++ engine to run the backward pass\n",
            "      1/100      12.4G     0.7924      2.089     0.4463          4        640: 100%|██████████| 30/30 [00:13<00:00,  2.24it/s]\n",
            "                 Class     Images  Instances      Box(P          R      mAP50  mAP50-95): 100%|██████████| 5/5 [00:01<00:00,  4.62it/s]"
          ]
        },
        {
          "output_type": "stream",
          "name": "stdout",
          "text": [
            "                   all        133        330       0.27        0.3      0.248       0.15\n"
          ]
        },
        {
          "output_type": "stream",
          "name": "stderr",
          "text": [
            "\n"
          ]
        },
        {
          "output_type": "stream",
          "name": "stdout",
          "text": [
            "\n",
            "      Epoch    GPU_mem  giou_loss   cls_loss    l1_loss  Instances       Size\n"
          ]
        },
        {
          "output_type": "stream",
          "name": "stderr",
          "text": [
            "  0%|          | 0/30 [00:00<?, ?it/s]/usr/local/lib/python3.11/dist-packages/torch/autograd/graph.py:823: UserWarning: grid_sampler_2d_backward_cuda does not have a deterministic implementation, but you set 'torch.use_deterministic_algorithms(True, warn_only=True)'. You can file an issue at https://github.com/pytorch/pytorch/issues to help us prioritize adding deterministic support for this operation. (Triggered internally at /pytorch/aten/src/ATen/Context.cpp:92.)\n",
            "  return Variable._execution_engine.run_backward(  # Calls into the C++ engine to run the backward pass\n",
            "      2/100      13.3G     0.6021      0.614     0.3254          1        640: 100%|██████████| 30/30 [00:11<00:00,  2.53it/s]\n",
            "                 Class     Images  Instances      Box(P          R      mAP50  mAP50-95): 100%|██████████| 5/5 [00:00<00:00,  5.19it/s]"
          ]
        },
        {
          "output_type": "stream",
          "name": "stdout",
          "text": [
            "                   all        133        330      0.609      0.594      0.618      0.361\n"
          ]
        },
        {
          "output_type": "stream",
          "name": "stderr",
          "text": [
            "\n"
          ]
        },
        {
          "output_type": "stream",
          "name": "stdout",
          "text": [
            "\n",
            "      Epoch    GPU_mem  giou_loss   cls_loss    l1_loss  Instances       Size\n"
          ]
        },
        {
          "output_type": "stream",
          "name": "stderr",
          "text": [
            "  0%|          | 0/30 [00:00<?, ?it/s]/usr/local/lib/python3.11/dist-packages/torch/autograd/graph.py:823: UserWarning: grid_sampler_2d_backward_cuda does not have a deterministic implementation, but you set 'torch.use_deterministic_algorithms(True, warn_only=True)'. You can file an issue at https://github.com/pytorch/pytorch/issues to help us prioritize adding deterministic support for this operation. (Triggered internally at /pytorch/aten/src/ATen/Context.cpp:92.)\n",
            "  return Variable._execution_engine.run_backward(  # Calls into the C++ engine to run the backward pass\n",
            "      3/100      13.4G     0.6004     0.6273     0.3241          3        640: 100%|██████████| 30/30 [00:11<00:00,  2.61it/s]\n",
            "                 Class     Images  Instances      Box(P          R      mAP50  mAP50-95): 100%|██████████| 5/5 [00:00<00:00,  6.24it/s]"
          ]
        },
        {
          "output_type": "stream",
          "name": "stdout",
          "text": [
            "                   all        133        330       0.13     0.0303     0.0141    0.00713\n"
          ]
        },
        {
          "output_type": "stream",
          "name": "stderr",
          "text": [
            "\n"
          ]
        },
        {
          "output_type": "stream",
          "name": "stdout",
          "text": [
            "\n",
            "      Epoch    GPU_mem  giou_loss   cls_loss    l1_loss  Instances       Size\n"
          ]
        },
        {
          "output_type": "stream",
          "name": "stderr",
          "text": [
            "  0%|          | 0/30 [00:00<?, ?it/s]/usr/local/lib/python3.11/dist-packages/torch/autograd/graph.py:823: UserWarning: grid_sampler_2d_backward_cuda does not have a deterministic implementation, but you set 'torch.use_deterministic_algorithms(True, warn_only=True)'. You can file an issue at https://github.com/pytorch/pytorch/issues to help us prioritize adding deterministic support for this operation. (Triggered internally at /pytorch/aten/src/ATen/Context.cpp:92.)\n",
            "  return Variable._execution_engine.run_backward(  # Calls into the C++ engine to run the backward pass\n",
            "      4/100      13.5G     0.6306     0.6476     0.3245          3        640: 100%|██████████| 30/30 [00:11<00:00,  2.63it/s]\n",
            "                 Class     Images  Instances      Box(P          R      mAP50  mAP50-95): 100%|██████████| 5/5 [00:00<00:00,  6.13it/s]"
          ]
        },
        {
          "output_type": "stream",
          "name": "stdout",
          "text": [
            "                   all        133        330     0.0511    0.00303    0.00101   0.000396\n"
          ]
        },
        {
          "output_type": "stream",
          "name": "stderr",
          "text": [
            "\n"
          ]
        },
        {
          "output_type": "stream",
          "name": "stdout",
          "text": [
            "\n",
            "      Epoch    GPU_mem  giou_loss   cls_loss    l1_loss  Instances       Size\n"
          ]
        },
        {
          "output_type": "stream",
          "name": "stderr",
          "text": [
            "  0%|          | 0/30 [00:00<?, ?it/s]/usr/local/lib/python3.11/dist-packages/torch/autograd/graph.py:823: UserWarning: grid_sampler_2d_backward_cuda does not have a deterministic implementation, but you set 'torch.use_deterministic_algorithms(True, warn_only=True)'. You can file an issue at https://github.com/pytorch/pytorch/issues to help us prioritize adding deterministic support for this operation. (Triggered internally at /pytorch/aten/src/ATen/Context.cpp:92.)\n",
            "  return Variable._execution_engine.run_backward(  # Calls into the C++ engine to run the backward pass\n",
            "      5/100      13.5G     0.5821       0.65     0.2861          7        640: 100%|██████████| 30/30 [00:11<00:00,  2.61it/s]\n",
            "                 Class     Images  Instances      Box(P          R      mAP50  mAP50-95): 100%|██████████| 5/5 [00:00<00:00,  5.36it/s]"
          ]
        },
        {
          "output_type": "stream",
          "name": "stdout",
          "text": [
            "                   all        133        330      0.427      0.218      0.189     0.0988\n"
          ]
        },
        {
          "output_type": "stream",
          "name": "stderr",
          "text": [
            "\n"
          ]
        },
        {
          "output_type": "stream",
          "name": "stdout",
          "text": [
            "\n",
            "      Epoch    GPU_mem  giou_loss   cls_loss    l1_loss  Instances       Size\n"
          ]
        },
        {
          "output_type": "stream",
          "name": "stderr",
          "text": [
            "  0%|          | 0/30 [00:00<?, ?it/s]/usr/local/lib/python3.11/dist-packages/torch/autograd/graph.py:823: UserWarning: grid_sampler_2d_backward_cuda does not have a deterministic implementation, but you set 'torch.use_deterministic_algorithms(True, warn_only=True)'. You can file an issue at https://github.com/pytorch/pytorch/issues to help us prioritize adding deterministic support for this operation. (Triggered internally at /pytorch/aten/src/ATen/Context.cpp:92.)\n",
            "  return Variable._execution_engine.run_backward(  # Calls into the C++ engine to run the backward pass\n",
            "      6/100      13.5G     0.5512     0.6033     0.2789          7        640: 100%|██████████| 30/30 [00:11<00:00,  2.62it/s]\n",
            "                 Class     Images  Instances      Box(P          R      mAP50  mAP50-95): 100%|██████████| 5/5 [00:00<00:00,  5.27it/s]"
          ]
        },
        {
          "output_type": "stream",
          "name": "stdout",
          "text": [
            "                   all        133        330      0.719      0.472       0.55      0.321\n"
          ]
        },
        {
          "output_type": "stream",
          "name": "stderr",
          "text": [
            "\n"
          ]
        },
        {
          "output_type": "stream",
          "name": "stdout",
          "text": [
            "\n",
            "      Epoch    GPU_mem  giou_loss   cls_loss    l1_loss  Instances       Size\n"
          ]
        },
        {
          "output_type": "stream",
          "name": "stderr",
          "text": [
            "  0%|          | 0/30 [00:00<?, ?it/s]/usr/local/lib/python3.11/dist-packages/torch/autograd/graph.py:823: UserWarning: grid_sampler_2d_backward_cuda does not have a deterministic implementation, but you set 'torch.use_deterministic_algorithms(True, warn_only=True)'. You can file an issue at https://github.com/pytorch/pytorch/issues to help us prioritize adding deterministic support for this operation. (Triggered internally at /pytorch/aten/src/ATen/Context.cpp:92.)\n",
            "  return Variable._execution_engine.run_backward(  # Calls into the C++ engine to run the backward pass\n",
            "      7/100      13.5G     0.5459     0.6235     0.2745          7        640: 100%|██████████| 30/30 [00:11<00:00,  2.62it/s]\n",
            "                 Class     Images  Instances      Box(P          R      mAP50  mAP50-95): 100%|██████████| 5/5 [00:00<00:00,  5.38it/s]"
          ]
        },
        {
          "output_type": "stream",
          "name": "stdout",
          "text": [
            "                   all        133        330      0.655      0.545      0.608      0.366\n"
          ]
        },
        {
          "output_type": "stream",
          "name": "stderr",
          "text": [
            "\n"
          ]
        },
        {
          "output_type": "stream",
          "name": "stdout",
          "text": [
            "\n",
            "      Epoch    GPU_mem  giou_loss   cls_loss    l1_loss  Instances       Size\n"
          ]
        },
        {
          "output_type": "stream",
          "name": "stderr",
          "text": [
            "  0%|          | 0/30 [00:00<?, ?it/s]/usr/local/lib/python3.11/dist-packages/torch/autograd/graph.py:823: UserWarning: grid_sampler_2d_backward_cuda does not have a deterministic implementation, but you set 'torch.use_deterministic_algorithms(True, warn_only=True)'. You can file an issue at https://github.com/pytorch/pytorch/issues to help us prioritize adding deterministic support for this operation. (Triggered internally at /pytorch/aten/src/ATen/Context.cpp:92.)\n",
            "  return Variable._execution_engine.run_backward(  # Calls into the C++ engine to run the backward pass\n",
            "      8/100      13.5G     0.5326      0.648     0.2618          1        640: 100%|██████████| 30/30 [00:11<00:00,  2.62it/s]\n",
            "                 Class     Images  Instances      Box(P          R      mAP50  mAP50-95): 100%|██████████| 5/5 [00:00<00:00,  5.38it/s]"
          ]
        },
        {
          "output_type": "stream",
          "name": "stdout",
          "text": [
            "                   all        133        330      0.651      0.538      0.575      0.316\n"
          ]
        },
        {
          "output_type": "stream",
          "name": "stderr",
          "text": [
            "\n"
          ]
        },
        {
          "output_type": "stream",
          "name": "stdout",
          "text": [
            "\n",
            "      Epoch    GPU_mem  giou_loss   cls_loss    l1_loss  Instances       Size\n"
          ]
        },
        {
          "output_type": "stream",
          "name": "stderr",
          "text": [
            "  0%|          | 0/30 [00:00<?, ?it/s]/usr/local/lib/python3.11/dist-packages/torch/autograd/graph.py:823: UserWarning: grid_sampler_2d_backward_cuda does not have a deterministic implementation, but you set 'torch.use_deterministic_algorithms(True, warn_only=True)'. You can file an issue at https://github.com/pytorch/pytorch/issues to help us prioritize adding deterministic support for this operation. (Triggered internally at /pytorch/aten/src/ATen/Context.cpp:92.)\n",
            "  return Variable._execution_engine.run_backward(  # Calls into the C++ engine to run the backward pass\n",
            "      9/100      13.5G     0.5069     0.7416     0.2607          3        640: 100%|██████████| 30/30 [00:11<00:00,  2.64it/s]\n",
            "                 Class     Images  Instances      Box(P          R      mAP50  mAP50-95): 100%|██████████| 5/5 [00:00<00:00,  5.22it/s]"
          ]
        },
        {
          "output_type": "stream",
          "name": "stdout",
          "text": [
            "                   all        133        330      0.683      0.523      0.555      0.311\n"
          ]
        },
        {
          "output_type": "stream",
          "name": "stderr",
          "text": [
            "\n"
          ]
        },
        {
          "output_type": "stream",
          "name": "stdout",
          "text": [
            "\n",
            "      Epoch    GPU_mem  giou_loss   cls_loss    l1_loss  Instances       Size\n"
          ]
        },
        {
          "output_type": "stream",
          "name": "stderr",
          "text": [
            "  0%|          | 0/30 [00:00<?, ?it/s]/usr/local/lib/python3.11/dist-packages/torch/autograd/graph.py:823: UserWarning: grid_sampler_2d_backward_cuda does not have a deterministic implementation, but you set 'torch.use_deterministic_algorithms(True, warn_only=True)'. You can file an issue at https://github.com/pytorch/pytorch/issues to help us prioritize adding deterministic support for this operation. (Triggered internally at /pytorch/aten/src/ATen/Context.cpp:92.)\n",
            "  return Variable._execution_engine.run_backward(  # Calls into the C++ engine to run the backward pass\n",
            "     10/100      13.5G     0.4998     0.6084     0.2747          1        640: 100%|██████████| 30/30 [00:11<00:00,  2.62it/s]\n",
            "                 Class     Images  Instances      Box(P          R      mAP50  mAP50-95): 100%|██████████| 5/5 [00:00<00:00,  5.28it/s]"
          ]
        },
        {
          "output_type": "stream",
          "name": "stdout",
          "text": [
            "                   all        133        330      0.684      0.533      0.557      0.285\n"
          ]
        },
        {
          "output_type": "stream",
          "name": "stderr",
          "text": [
            "\n"
          ]
        },
        {
          "output_type": "stream",
          "name": "stdout",
          "text": [
            "\n",
            "      Epoch    GPU_mem  giou_loss   cls_loss    l1_loss  Instances       Size\n"
          ]
        },
        {
          "output_type": "stream",
          "name": "stderr",
          "text": [
            "  0%|          | 0/30 [00:00<?, ?it/s]/usr/local/lib/python3.11/dist-packages/torch/autograd/graph.py:823: UserWarning: grid_sampler_2d_backward_cuda does not have a deterministic implementation, but you set 'torch.use_deterministic_algorithms(True, warn_only=True)'. You can file an issue at https://github.com/pytorch/pytorch/issues to help us prioritize adding deterministic support for this operation. (Triggered internally at /pytorch/aten/src/ATen/Context.cpp:92.)\n",
            "  return Variable._execution_engine.run_backward(  # Calls into the C++ engine to run the backward pass\n",
            "     11/100      13.5G     0.5003     0.7188     0.2726          1        640: 100%|██████████| 30/30 [00:11<00:00,  2.62it/s]\n",
            "                 Class     Images  Instances      Box(P          R      mAP50  mAP50-95): 100%|██████████| 5/5 [00:00<00:00,  5.33it/s]"
          ]
        },
        {
          "output_type": "stream",
          "name": "stdout",
          "text": [
            "                   all        133        330      0.558      0.528      0.521      0.304\n"
          ]
        },
        {
          "output_type": "stream",
          "name": "stderr",
          "text": [
            "\n"
          ]
        },
        {
          "output_type": "stream",
          "name": "stdout",
          "text": [
            "\n",
            "      Epoch    GPU_mem  giou_loss   cls_loss    l1_loss  Instances       Size\n"
          ]
        },
        {
          "output_type": "stream",
          "name": "stderr",
          "text": [
            "  0%|          | 0/30 [00:00<?, ?it/s]/usr/local/lib/python3.11/dist-packages/torch/autograd/graph.py:823: UserWarning: grid_sampler_2d_backward_cuda does not have a deterministic implementation, but you set 'torch.use_deterministic_algorithms(True, warn_only=True)'. You can file an issue at https://github.com/pytorch/pytorch/issues to help us prioritize adding deterministic support for this operation. (Triggered internally at /pytorch/aten/src/ATen/Context.cpp:92.)\n",
            "  return Variable._execution_engine.run_backward(  # Calls into the C++ engine to run the backward pass\n",
            "     12/100      13.5G     0.5127     0.6832     0.2746          3        640: 100%|██████████| 30/30 [00:11<00:00,  2.62it/s]\n",
            "                 Class     Images  Instances      Box(P          R      mAP50  mAP50-95): 100%|██████████| 5/5 [00:00<00:00,  5.25it/s]"
          ]
        },
        {
          "output_type": "stream",
          "name": "stdout",
          "text": [
            "                   all        133        330      0.561      0.548      0.507      0.278\n"
          ]
        },
        {
          "output_type": "stream",
          "name": "stderr",
          "text": [
            "\n"
          ]
        },
        {
          "output_type": "stream",
          "name": "stdout",
          "text": [
            "\n",
            "      Epoch    GPU_mem  giou_loss   cls_loss    l1_loss  Instances       Size\n"
          ]
        },
        {
          "output_type": "stream",
          "name": "stderr",
          "text": [
            "  0%|          | 0/30 [00:00<?, ?it/s]/usr/local/lib/python3.11/dist-packages/torch/autograd/graph.py:823: UserWarning: grid_sampler_2d_backward_cuda does not have a deterministic implementation, but you set 'torch.use_deterministic_algorithms(True, warn_only=True)'. You can file an issue at https://github.com/pytorch/pytorch/issues to help us prioritize adding deterministic support for this operation. (Triggered internally at /pytorch/aten/src/ATen/Context.cpp:92.)\n",
            "  return Variable._execution_engine.run_backward(  # Calls into the C++ engine to run the backward pass\n",
            "     13/100      13.5G     0.5187     0.6143     0.2662          4        640: 100%|██████████| 30/30 [00:11<00:00,  2.64it/s]\n",
            "                 Class     Images  Instances      Box(P          R      mAP50  mAP50-95): 100%|██████████| 5/5 [00:00<00:00,  5.19it/s]"
          ]
        },
        {
          "output_type": "stream",
          "name": "stdout",
          "text": [
            "                   all        133        330      0.707      0.509      0.582      0.348\n"
          ]
        },
        {
          "output_type": "stream",
          "name": "stderr",
          "text": [
            "\n"
          ]
        },
        {
          "output_type": "stream",
          "name": "stdout",
          "text": [
            "\n",
            "      Epoch    GPU_mem  giou_loss   cls_loss    l1_loss  Instances       Size\n"
          ]
        },
        {
          "output_type": "stream",
          "name": "stderr",
          "text": [
            "  0%|          | 0/30 [00:00<?, ?it/s]/usr/local/lib/python3.11/dist-packages/torch/autograd/graph.py:823: UserWarning: grid_sampler_2d_backward_cuda does not have a deterministic implementation, but you set 'torch.use_deterministic_algorithms(True, warn_only=True)'. You can file an issue at https://github.com/pytorch/pytorch/issues to help us prioritize adding deterministic support for this operation. (Triggered internally at /pytorch/aten/src/ATen/Context.cpp:92.)\n",
            "  return Variable._execution_engine.run_backward(  # Calls into the C++ engine to run the backward pass\n",
            "     14/100      13.6G     0.5128     0.6419     0.2596          6        640: 100%|██████████| 30/30 [00:11<00:00,  2.61it/s]\n",
            "                 Class     Images  Instances      Box(P          R      mAP50  mAP50-95): 100%|██████████| 5/5 [00:00<00:00,  5.12it/s]"
          ]
        },
        {
          "output_type": "stream",
          "name": "stdout",
          "text": [
            "                   all        133        330      0.755      0.458      0.525      0.303\n"
          ]
        },
        {
          "output_type": "stream",
          "name": "stderr",
          "text": [
            "\n"
          ]
        },
        {
          "output_type": "stream",
          "name": "stdout",
          "text": [
            "\n",
            "      Epoch    GPU_mem  giou_loss   cls_loss    l1_loss  Instances       Size\n"
          ]
        },
        {
          "output_type": "stream",
          "name": "stderr",
          "text": [
            "  0%|          | 0/30 [00:00<?, ?it/s]/usr/local/lib/python3.11/dist-packages/torch/autograd/graph.py:823: UserWarning: grid_sampler_2d_backward_cuda does not have a deterministic implementation, but you set 'torch.use_deterministic_algorithms(True, warn_only=True)'. You can file an issue at https://github.com/pytorch/pytorch/issues to help us prioritize adding deterministic support for this operation. (Triggered internally at /pytorch/aten/src/ATen/Context.cpp:92.)\n",
            "  return Variable._execution_engine.run_backward(  # Calls into the C++ engine to run the backward pass\n",
            "     15/100      13.6G     0.4923     0.6202     0.2333         13        640: 100%|██████████| 30/30 [00:11<00:00,  2.63it/s]\n",
            "                 Class     Images  Instances      Box(P          R      mAP50  mAP50-95): 100%|██████████| 5/5 [00:00<00:00,  5.08it/s]"
          ]
        },
        {
          "output_type": "stream",
          "name": "stdout",
          "text": [
            "                   all        133        330      0.677      0.635      0.675      0.418\n"
          ]
        },
        {
          "output_type": "stream",
          "name": "stderr",
          "text": [
            "\n"
          ]
        },
        {
          "output_type": "stream",
          "name": "stdout",
          "text": [
            "\n",
            "      Epoch    GPU_mem  giou_loss   cls_loss    l1_loss  Instances       Size\n"
          ]
        },
        {
          "output_type": "stream",
          "name": "stderr",
          "text": [
            "  0%|          | 0/30 [00:00<?, ?it/s]/usr/local/lib/python3.11/dist-packages/torch/autograd/graph.py:823: UserWarning: grid_sampler_2d_backward_cuda does not have a deterministic implementation, but you set 'torch.use_deterministic_algorithms(True, warn_only=True)'. You can file an issue at https://github.com/pytorch/pytorch/issues to help us prioritize adding deterministic support for this operation. (Triggered internally at /pytorch/aten/src/ATen/Context.cpp:92.)\n",
            "  return Variable._execution_engine.run_backward(  # Calls into the C++ engine to run the backward pass\n",
            "     16/100      13.6G     0.4747     0.6072     0.2477          1        640: 100%|██████████| 30/30 [00:11<00:00,  2.59it/s]\n",
            "                 Class     Images  Instances      Box(P          R      mAP50  mAP50-95): 100%|██████████| 5/5 [00:00<00:00,  5.34it/s]"
          ]
        },
        {
          "output_type": "stream",
          "name": "stdout",
          "text": [
            "                   all        133        330      0.721      0.591      0.663      0.405\n"
          ]
        },
        {
          "output_type": "stream",
          "name": "stderr",
          "text": [
            "\n"
          ]
        },
        {
          "output_type": "stream",
          "name": "stdout",
          "text": [
            "\n",
            "      Epoch    GPU_mem  giou_loss   cls_loss    l1_loss  Instances       Size\n"
          ]
        },
        {
          "output_type": "stream",
          "name": "stderr",
          "text": [
            "  0%|          | 0/30 [00:00<?, ?it/s]/usr/local/lib/python3.11/dist-packages/torch/autograd/graph.py:823: UserWarning: grid_sampler_2d_backward_cuda does not have a deterministic implementation, but you set 'torch.use_deterministic_algorithms(True, warn_only=True)'. You can file an issue at https://github.com/pytorch/pytorch/issues to help us prioritize adding deterministic support for this operation. (Triggered internally at /pytorch/aten/src/ATen/Context.cpp:92.)\n",
            "  return Variable._execution_engine.run_backward(  # Calls into the C++ engine to run the backward pass\n",
            "     17/100      13.6G     0.4615      0.664      0.227          1        640: 100%|██████████| 30/30 [00:11<00:00,  2.61it/s]\n",
            "                 Class     Images  Instances      Box(P          R      mAP50  mAP50-95): 100%|██████████| 5/5 [00:00<00:00,  5.24it/s]"
          ]
        },
        {
          "output_type": "stream",
          "name": "stdout",
          "text": [
            "                   all        133        330      0.714      0.589      0.675      0.412\n"
          ]
        },
        {
          "output_type": "stream",
          "name": "stderr",
          "text": [
            "\n"
          ]
        },
        {
          "output_type": "stream",
          "name": "stdout",
          "text": [
            "\n",
            "      Epoch    GPU_mem  giou_loss   cls_loss    l1_loss  Instances       Size\n"
          ]
        },
        {
          "output_type": "stream",
          "name": "stderr",
          "text": [
            "  0%|          | 0/30 [00:00<?, ?it/s]/usr/local/lib/python3.11/dist-packages/torch/autograd/graph.py:823: UserWarning: grid_sampler_2d_backward_cuda does not have a deterministic implementation, but you set 'torch.use_deterministic_algorithms(True, warn_only=True)'. You can file an issue at https://github.com/pytorch/pytorch/issues to help us prioritize adding deterministic support for this operation. (Triggered internally at /pytorch/aten/src/ATen/Context.cpp:92.)\n",
            "  return Variable._execution_engine.run_backward(  # Calls into the C++ engine to run the backward pass\n",
            "     18/100      13.6G     0.4799      0.651      0.256          7        640: 100%|██████████| 30/30 [00:11<00:00,  2.60it/s]\n",
            "                 Class     Images  Instances      Box(P          R      mAP50  mAP50-95): 100%|██████████| 5/5 [00:00<00:00,  5.22it/s]"
          ]
        },
        {
          "output_type": "stream",
          "name": "stdout",
          "text": [
            "                   all        133        330      0.689      0.473      0.537      0.304\n"
          ]
        },
        {
          "output_type": "stream",
          "name": "stderr",
          "text": [
            "\n"
          ]
        },
        {
          "output_type": "stream",
          "name": "stdout",
          "text": [
            "\n",
            "      Epoch    GPU_mem  giou_loss   cls_loss    l1_loss  Instances       Size\n"
          ]
        },
        {
          "output_type": "stream",
          "name": "stderr",
          "text": [
            "  0%|          | 0/30 [00:00<?, ?it/s]/usr/local/lib/python3.11/dist-packages/torch/autograd/graph.py:823: UserWarning: grid_sampler_2d_backward_cuda does not have a deterministic implementation, but you set 'torch.use_deterministic_algorithms(True, warn_only=True)'. You can file an issue at https://github.com/pytorch/pytorch/issues to help us prioritize adding deterministic support for this operation. (Triggered internally at /pytorch/aten/src/ATen/Context.cpp:92.)\n",
            "  return Variable._execution_engine.run_backward(  # Calls into the C++ engine to run the backward pass\n",
            "     19/100      13.6G     0.4737     0.6123     0.2577          2        640: 100%|██████████| 30/30 [00:11<00:00,  2.63it/s]\n",
            "                 Class     Images  Instances      Box(P          R      mAP50  mAP50-95): 100%|██████████| 5/5 [00:00<00:00,  5.22it/s]"
          ]
        },
        {
          "output_type": "stream",
          "name": "stdout",
          "text": [
            "                   all        133        330      0.757      0.603      0.671      0.419\n"
          ]
        },
        {
          "output_type": "stream",
          "name": "stderr",
          "text": [
            "\n"
          ]
        },
        {
          "output_type": "stream",
          "name": "stdout",
          "text": [
            "\n",
            "      Epoch    GPU_mem  giou_loss   cls_loss    l1_loss  Instances       Size\n"
          ]
        },
        {
          "output_type": "stream",
          "name": "stderr",
          "text": [
            "  0%|          | 0/30 [00:00<?, ?it/s]/usr/local/lib/python3.11/dist-packages/torch/autograd/graph.py:823: UserWarning: grid_sampler_2d_backward_cuda does not have a deterministic implementation, but you set 'torch.use_deterministic_algorithms(True, warn_only=True)'. You can file an issue at https://github.com/pytorch/pytorch/issues to help us prioritize adding deterministic support for this operation. (Triggered internally at /pytorch/aten/src/ATen/Context.cpp:92.)\n",
            "  return Variable._execution_engine.run_backward(  # Calls into the C++ engine to run the backward pass\n",
            "     20/100      13.6G     0.4496     0.6288     0.2346          0        640: 100%|██████████| 30/30 [00:11<00:00,  2.62it/s]\n",
            "                 Class     Images  Instances      Box(P          R      mAP50  mAP50-95): 100%|██████████| 5/5 [00:00<00:00,  5.29it/s]"
          ]
        },
        {
          "output_type": "stream",
          "name": "stdout",
          "text": [
            "                   all        133        330       0.74      0.585       0.66      0.408\n"
          ]
        },
        {
          "output_type": "stream",
          "name": "stderr",
          "text": [
            "\n"
          ]
        },
        {
          "output_type": "stream",
          "name": "stdout",
          "text": [
            "\n",
            "      Epoch    GPU_mem  giou_loss   cls_loss    l1_loss  Instances       Size\n"
          ]
        },
        {
          "output_type": "stream",
          "name": "stderr",
          "text": [
            "  0%|          | 0/30 [00:00<?, ?it/s]/usr/local/lib/python3.11/dist-packages/torch/autograd/graph.py:823: UserWarning: grid_sampler_2d_backward_cuda does not have a deterministic implementation, but you set 'torch.use_deterministic_algorithms(True, warn_only=True)'. You can file an issue at https://github.com/pytorch/pytorch/issues to help us prioritize adding deterministic support for this operation. (Triggered internally at /pytorch/aten/src/ATen/Context.cpp:92.)\n",
            "  return Variable._execution_engine.run_backward(  # Calls into the C++ engine to run the backward pass\n",
            "     21/100      13.6G     0.4818     0.7107     0.2326          4        640: 100%|██████████| 30/30 [00:11<00:00,  2.64it/s]\n",
            "                 Class     Images  Instances      Box(P          R      mAP50  mAP50-95): 100%|██████████| 5/5 [00:00<00:00,  5.23it/s]"
          ]
        },
        {
          "output_type": "stream",
          "name": "stdout",
          "text": [
            "                   all        133        330      0.692      0.627      0.665      0.415\n"
          ]
        },
        {
          "output_type": "stream",
          "name": "stderr",
          "text": [
            "\n"
          ]
        },
        {
          "output_type": "stream",
          "name": "stdout",
          "text": [
            "\n",
            "      Epoch    GPU_mem  giou_loss   cls_loss    l1_loss  Instances       Size\n"
          ]
        },
        {
          "output_type": "stream",
          "name": "stderr",
          "text": [
            "  0%|          | 0/30 [00:00<?, ?it/s]/usr/local/lib/python3.11/dist-packages/torch/autograd/graph.py:823: UserWarning: grid_sampler_2d_backward_cuda does not have a deterministic implementation, but you set 'torch.use_deterministic_algorithms(True, warn_only=True)'. You can file an issue at https://github.com/pytorch/pytorch/issues to help us prioritize adding deterministic support for this operation. (Triggered internally at /pytorch/aten/src/ATen/Context.cpp:92.)\n",
            "  return Variable._execution_engine.run_backward(  # Calls into the C++ engine to run the backward pass\n",
            "     22/100      13.6G     0.4671     0.5905     0.2315          2        640: 100%|██████████| 30/30 [00:11<00:00,  2.61it/s]\n",
            "                 Class     Images  Instances      Box(P          R      mAP50  mAP50-95): 100%|██████████| 5/5 [00:00<00:00,  5.31it/s]"
          ]
        },
        {
          "output_type": "stream",
          "name": "stdout",
          "text": [
            "                   all        133        330      0.717      0.558      0.652      0.403\n"
          ]
        },
        {
          "output_type": "stream",
          "name": "stderr",
          "text": [
            "\n"
          ]
        },
        {
          "output_type": "stream",
          "name": "stdout",
          "text": [
            "\n",
            "      Epoch    GPU_mem  giou_loss   cls_loss    l1_loss  Instances       Size\n"
          ]
        },
        {
          "output_type": "stream",
          "name": "stderr",
          "text": [
            "  0%|          | 0/30 [00:00<?, ?it/s]/usr/local/lib/python3.11/dist-packages/torch/autograd/graph.py:823: UserWarning: grid_sampler_2d_backward_cuda does not have a deterministic implementation, but you set 'torch.use_deterministic_algorithms(True, warn_only=True)'. You can file an issue at https://github.com/pytorch/pytorch/issues to help us prioritize adding deterministic support for this operation. (Triggered internally at /pytorch/aten/src/ATen/Context.cpp:92.)\n",
            "  return Variable._execution_engine.run_backward(  # Calls into the C++ engine to run the backward pass\n",
            "     23/100      13.6G      0.475     0.5603     0.2296          8        640: 100%|██████████| 30/30 [00:11<00:00,  2.63it/s]\n",
            "                 Class     Images  Instances      Box(P          R      mAP50  mAP50-95): 100%|██████████| 5/5 [00:00<00:00,  5.23it/s]"
          ]
        },
        {
          "output_type": "stream",
          "name": "stdout",
          "text": [
            "                   all        133        330      0.738       0.57      0.663      0.402\n"
          ]
        },
        {
          "output_type": "stream",
          "name": "stderr",
          "text": [
            "\n"
          ]
        },
        {
          "output_type": "stream",
          "name": "stdout",
          "text": [
            "\n",
            "      Epoch    GPU_mem  giou_loss   cls_loss    l1_loss  Instances       Size\n"
          ]
        },
        {
          "output_type": "stream",
          "name": "stderr",
          "text": [
            "  0%|          | 0/30 [00:00<?, ?it/s]/usr/local/lib/python3.11/dist-packages/torch/autograd/graph.py:823: UserWarning: grid_sampler_2d_backward_cuda does not have a deterministic implementation, but you set 'torch.use_deterministic_algorithms(True, warn_only=True)'. You can file an issue at https://github.com/pytorch/pytorch/issues to help us prioritize adding deterministic support for this operation. (Triggered internally at /pytorch/aten/src/ATen/Context.cpp:92.)\n",
            "  return Variable._execution_engine.run_backward(  # Calls into the C++ engine to run the backward pass\n",
            "     24/100      13.6G     0.4405     0.5779     0.2098          2        640: 100%|██████████| 30/30 [00:11<00:00,  2.60it/s]\n",
            "                 Class     Images  Instances      Box(P          R      mAP50  mAP50-95): 100%|██████████| 5/5 [00:00<00:00,  5.04it/s]"
          ]
        },
        {
          "output_type": "stream",
          "name": "stdout",
          "text": [
            "                   all        133        330      0.686      0.645      0.688      0.417\n"
          ]
        },
        {
          "output_type": "stream",
          "name": "stderr",
          "text": [
            "\n"
          ]
        },
        {
          "output_type": "stream",
          "name": "stdout",
          "text": [
            "\n",
            "      Epoch    GPU_mem  giou_loss   cls_loss    l1_loss  Instances       Size\n"
          ]
        },
        {
          "output_type": "stream",
          "name": "stderr",
          "text": [
            "  0%|          | 0/30 [00:00<?, ?it/s]/usr/local/lib/python3.11/dist-packages/torch/autograd/graph.py:823: UserWarning: grid_sampler_2d_backward_cuda does not have a deterministic implementation, but you set 'torch.use_deterministic_algorithms(True, warn_only=True)'. You can file an issue at https://github.com/pytorch/pytorch/issues to help us prioritize adding deterministic support for this operation. (Triggered internally at /pytorch/aten/src/ATen/Context.cpp:92.)\n",
            "  return Variable._execution_engine.run_backward(  # Calls into the C++ engine to run the backward pass\n",
            "     25/100      13.6G     0.4774     0.5591     0.2775          2        640: 100%|██████████| 30/30 [00:11<00:00,  2.62it/s]\n",
            "                 Class     Images  Instances      Box(P          R      mAP50  mAP50-95): 100%|██████████| 5/5 [00:00<00:00,  5.02it/s]"
          ]
        },
        {
          "output_type": "stream",
          "name": "stdout",
          "text": [
            "                   all        133        330      0.676      0.615      0.648      0.395\n"
          ]
        },
        {
          "output_type": "stream",
          "name": "stderr",
          "text": [
            "\n"
          ]
        },
        {
          "output_type": "stream",
          "name": "stdout",
          "text": [
            "\n",
            "      Epoch    GPU_mem  giou_loss   cls_loss    l1_loss  Instances       Size\n"
          ]
        },
        {
          "output_type": "stream",
          "name": "stderr",
          "text": [
            "  0%|          | 0/30 [00:00<?, ?it/s]/usr/local/lib/python3.11/dist-packages/torch/autograd/graph.py:823: UserWarning: grid_sampler_2d_backward_cuda does not have a deterministic implementation, but you set 'torch.use_deterministic_algorithms(True, warn_only=True)'. You can file an issue at https://github.com/pytorch/pytorch/issues to help us prioritize adding deterministic support for this operation. (Triggered internally at /pytorch/aten/src/ATen/Context.cpp:92.)\n",
            "  return Variable._execution_engine.run_backward(  # Calls into the C++ engine to run the backward pass\n",
            "     26/100      13.6G     0.4467     0.6186      0.227          0        640: 100%|██████████| 30/30 [00:11<00:00,  2.64it/s]\n",
            "                 Class     Images  Instances      Box(P          R      mAP50  mAP50-95): 100%|██████████| 5/5 [00:01<00:00,  4.92it/s]"
          ]
        },
        {
          "output_type": "stream",
          "name": "stdout",
          "text": [
            "                   all        133        330      0.773      0.577      0.681      0.432\n"
          ]
        },
        {
          "output_type": "stream",
          "name": "stderr",
          "text": [
            "\n"
          ]
        },
        {
          "output_type": "stream",
          "name": "stdout",
          "text": [
            "\n",
            "      Epoch    GPU_mem  giou_loss   cls_loss    l1_loss  Instances       Size\n"
          ]
        },
        {
          "output_type": "stream",
          "name": "stderr",
          "text": [
            "  0%|          | 0/30 [00:00<?, ?it/s]/usr/local/lib/python3.11/dist-packages/torch/autograd/graph.py:823: UserWarning: grid_sampler_2d_backward_cuda does not have a deterministic implementation, but you set 'torch.use_deterministic_algorithms(True, warn_only=True)'. You can file an issue at https://github.com/pytorch/pytorch/issues to help us prioritize adding deterministic support for this operation. (Triggered internally at /pytorch/aten/src/ATen/Context.cpp:92.)\n",
            "  return Variable._execution_engine.run_backward(  # Calls into the C++ engine to run the backward pass\n",
            "     27/100      13.6G     0.4438     0.6761     0.2183          1        640: 100%|██████████| 30/30 [00:11<00:00,  2.61it/s]\n",
            "                 Class     Images  Instances      Box(P          R      mAP50  mAP50-95): 100%|██████████| 5/5 [00:00<00:00,  5.26it/s]"
          ]
        },
        {
          "output_type": "stream",
          "name": "stdout",
          "text": [
            "                   all        133        330       0.75      0.599      0.641      0.397\n"
          ]
        },
        {
          "output_type": "stream",
          "name": "stderr",
          "text": [
            "\n"
          ]
        },
        {
          "output_type": "stream",
          "name": "stdout",
          "text": [
            "\n",
            "      Epoch    GPU_mem  giou_loss   cls_loss    l1_loss  Instances       Size\n"
          ]
        },
        {
          "output_type": "stream",
          "name": "stderr",
          "text": [
            "  0%|          | 0/30 [00:00<?, ?it/s]/usr/local/lib/python3.11/dist-packages/torch/autograd/graph.py:823: UserWarning: grid_sampler_2d_backward_cuda does not have a deterministic implementation, but you set 'torch.use_deterministic_algorithms(True, warn_only=True)'. You can file an issue at https://github.com/pytorch/pytorch/issues to help us prioritize adding deterministic support for this operation. (Triggered internally at /pytorch/aten/src/ATen/Context.cpp:92.)\n",
            "  return Variable._execution_engine.run_backward(  # Calls into the C++ engine to run the backward pass\n",
            "     28/100      13.6G     0.4473       0.61     0.2194         14        640: 100%|██████████| 30/30 [00:11<00:00,  2.63it/s]\n",
            "                 Class     Images  Instances      Box(P          R      mAP50  mAP50-95): 100%|██████████| 5/5 [00:00<00:00,  5.28it/s]"
          ]
        },
        {
          "output_type": "stream",
          "name": "stdout",
          "text": [
            "                   all        133        330      0.704      0.594      0.625      0.389\n"
          ]
        },
        {
          "output_type": "stream",
          "name": "stderr",
          "text": [
            "\n"
          ]
        },
        {
          "output_type": "stream",
          "name": "stdout",
          "text": [
            "\n",
            "      Epoch    GPU_mem  giou_loss   cls_loss    l1_loss  Instances       Size\n"
          ]
        },
        {
          "output_type": "stream",
          "name": "stderr",
          "text": [
            "  0%|          | 0/30 [00:00<?, ?it/s]/usr/local/lib/python3.11/dist-packages/torch/autograd/graph.py:823: UserWarning: grid_sampler_2d_backward_cuda does not have a deterministic implementation, but you set 'torch.use_deterministic_algorithms(True, warn_only=True)'. You can file an issue at https://github.com/pytorch/pytorch/issues to help us prioritize adding deterministic support for this operation. (Triggered internally at /pytorch/aten/src/ATen/Context.cpp:92.)\n",
            "  return Variable._execution_engine.run_backward(  # Calls into the C++ engine to run the backward pass\n",
            "     29/100      13.6G     0.4419      0.561     0.2176          1        640: 100%|██████████| 30/30 [00:11<00:00,  2.64it/s]\n",
            "                 Class     Images  Instances      Box(P          R      mAP50  mAP50-95): 100%|██████████| 5/5 [00:00<00:00,  5.12it/s]"
          ]
        },
        {
          "output_type": "stream",
          "name": "stdout",
          "text": [
            "                   all        133        330      0.823      0.619      0.712      0.446\n"
          ]
        },
        {
          "output_type": "stream",
          "name": "stderr",
          "text": [
            "\n"
          ]
        },
        {
          "output_type": "stream",
          "name": "stdout",
          "text": [
            "\n",
            "      Epoch    GPU_mem  giou_loss   cls_loss    l1_loss  Instances       Size\n"
          ]
        },
        {
          "output_type": "stream",
          "name": "stderr",
          "text": [
            "  0%|          | 0/30 [00:00<?, ?it/s]/usr/local/lib/python3.11/dist-packages/torch/autograd/graph.py:823: UserWarning: grid_sampler_2d_backward_cuda does not have a deterministic implementation, but you set 'torch.use_deterministic_algorithms(True, warn_only=True)'. You can file an issue at https://github.com/pytorch/pytorch/issues to help us prioritize adding deterministic support for this operation. (Triggered internally at /pytorch/aten/src/ATen/Context.cpp:92.)\n",
            "  return Variable._execution_engine.run_backward(  # Calls into the C++ engine to run the backward pass\n",
            "     30/100      13.6G     0.4589     0.5577     0.2146          6        640: 100%|██████████| 30/30 [00:11<00:00,  2.60it/s]\n",
            "                 Class     Images  Instances      Box(P          R      mAP50  mAP50-95): 100%|██████████| 5/5 [00:00<00:00,  5.18it/s]"
          ]
        },
        {
          "output_type": "stream",
          "name": "stdout",
          "text": [
            "                   all        133        330      0.817      0.627      0.721      0.455\n"
          ]
        },
        {
          "output_type": "stream",
          "name": "stderr",
          "text": [
            "\n"
          ]
        },
        {
          "output_type": "stream",
          "name": "stdout",
          "text": [
            "\n",
            "      Epoch    GPU_mem  giou_loss   cls_loss    l1_loss  Instances       Size\n"
          ]
        },
        {
          "output_type": "stream",
          "name": "stderr",
          "text": [
            "  0%|          | 0/30 [00:00<?, ?it/s]/usr/local/lib/python3.11/dist-packages/torch/autograd/graph.py:823: UserWarning: grid_sampler_2d_backward_cuda does not have a deterministic implementation, but you set 'torch.use_deterministic_algorithms(True, warn_only=True)'. You can file an issue at https://github.com/pytorch/pytorch/issues to help us prioritize adding deterministic support for this operation. (Triggered internally at /pytorch/aten/src/ATen/Context.cpp:92.)\n",
            "  return Variable._execution_engine.run_backward(  # Calls into the C++ engine to run the backward pass\n",
            "     31/100      13.6G     0.4323     0.5328     0.2243          4        640: 100%|██████████| 30/30 [00:11<00:00,  2.62it/s]\n",
            "                 Class     Images  Instances      Box(P          R      mAP50  mAP50-95): 100%|██████████| 5/5 [00:00<00:00,  5.31it/s]"
          ]
        },
        {
          "output_type": "stream",
          "name": "stdout",
          "text": [
            "                   all        133        330      0.782       0.64      0.707      0.454\n"
          ]
        },
        {
          "output_type": "stream",
          "name": "stderr",
          "text": [
            "\n"
          ]
        },
        {
          "output_type": "stream",
          "name": "stdout",
          "text": [
            "\n",
            "      Epoch    GPU_mem  giou_loss   cls_loss    l1_loss  Instances       Size\n"
          ]
        },
        {
          "output_type": "stream",
          "name": "stderr",
          "text": [
            "  0%|          | 0/30 [00:00<?, ?it/s]/usr/local/lib/python3.11/dist-packages/torch/autograd/graph.py:823: UserWarning: grid_sampler_2d_backward_cuda does not have a deterministic implementation, but you set 'torch.use_deterministic_algorithms(True, warn_only=True)'. You can file an issue at https://github.com/pytorch/pytorch/issues to help us prioritize adding deterministic support for this operation. (Triggered internally at /pytorch/aten/src/ATen/Context.cpp:92.)\n",
            "  return Variable._execution_engine.run_backward(  # Calls into the C++ engine to run the backward pass\n",
            "     32/100      13.6G     0.4055     0.5343      0.195          4        640: 100%|██████████| 30/30 [00:11<00:00,  2.59it/s]\n",
            "                 Class     Images  Instances      Box(P          R      mAP50  mAP50-95): 100%|██████████| 5/5 [00:00<00:00,  5.14it/s]"
          ]
        },
        {
          "output_type": "stream",
          "name": "stdout",
          "text": [
            "                   all        133        330      0.747      0.667      0.707      0.434\n"
          ]
        },
        {
          "output_type": "stream",
          "name": "stderr",
          "text": [
            "\n"
          ]
        },
        {
          "output_type": "stream",
          "name": "stdout",
          "text": [
            "\n",
            "      Epoch    GPU_mem  giou_loss   cls_loss    l1_loss  Instances       Size\n"
          ]
        },
        {
          "output_type": "stream",
          "name": "stderr",
          "text": [
            "  0%|          | 0/30 [00:00<?, ?it/s]/usr/local/lib/python3.11/dist-packages/torch/autograd/graph.py:823: UserWarning: grid_sampler_2d_backward_cuda does not have a deterministic implementation, but you set 'torch.use_deterministic_algorithms(True, warn_only=True)'. You can file an issue at https://github.com/pytorch/pytorch/issues to help us prioritize adding deterministic support for this operation. (Triggered internally at /pytorch/aten/src/ATen/Context.cpp:92.)\n",
            "  return Variable._execution_engine.run_backward(  # Calls into the C++ engine to run the backward pass\n",
            "     33/100      13.6G     0.4354     0.5236     0.2199          4        640: 100%|██████████| 30/30 [00:11<00:00,  2.61it/s]\n",
            "                 Class     Images  Instances      Box(P          R      mAP50  mAP50-95): 100%|██████████| 5/5 [00:00<00:00,  5.19it/s]"
          ]
        },
        {
          "output_type": "stream",
          "name": "stdout",
          "text": [
            "                   all        133        330      0.762      0.615      0.677      0.421\n"
          ]
        },
        {
          "output_type": "stream",
          "name": "stderr",
          "text": [
            "\n"
          ]
        },
        {
          "output_type": "stream",
          "name": "stdout",
          "text": [
            "\n",
            "      Epoch    GPU_mem  giou_loss   cls_loss    l1_loss  Instances       Size\n"
          ]
        },
        {
          "output_type": "stream",
          "name": "stderr",
          "text": [
            "  0%|          | 0/30 [00:00<?, ?it/s]/usr/local/lib/python3.11/dist-packages/torch/autograd/graph.py:823: UserWarning: grid_sampler_2d_backward_cuda does not have a deterministic implementation, but you set 'torch.use_deterministic_algorithms(True, warn_only=True)'. You can file an issue at https://github.com/pytorch/pytorch/issues to help us prioritize adding deterministic support for this operation. (Triggered internally at /pytorch/aten/src/ATen/Context.cpp:92.)\n",
            "  return Variable._execution_engine.run_backward(  # Calls into the C++ engine to run the backward pass\n",
            "     34/100      13.6G     0.4146     0.5174     0.1976          8        640: 100%|██████████| 30/30 [00:11<00:00,  2.61it/s]\n",
            "                 Class     Images  Instances      Box(P          R      mAP50  mAP50-95): 100%|██████████| 5/5 [00:00<00:00,  5.05it/s]"
          ]
        },
        {
          "output_type": "stream",
          "name": "stdout",
          "text": [
            "                   all        133        330      0.728      0.592      0.633      0.408\n"
          ]
        },
        {
          "output_type": "stream",
          "name": "stderr",
          "text": [
            "\n"
          ]
        },
        {
          "output_type": "stream",
          "name": "stdout",
          "text": [
            "\n",
            "      Epoch    GPU_mem  giou_loss   cls_loss    l1_loss  Instances       Size\n"
          ]
        },
        {
          "output_type": "stream",
          "name": "stderr",
          "text": [
            "  0%|          | 0/30 [00:00<?, ?it/s]/usr/local/lib/python3.11/dist-packages/torch/autograd/graph.py:823: UserWarning: grid_sampler_2d_backward_cuda does not have a deterministic implementation, but you set 'torch.use_deterministic_algorithms(True, warn_only=True)'. You can file an issue at https://github.com/pytorch/pytorch/issues to help us prioritize adding deterministic support for this operation. (Triggered internally at /pytorch/aten/src/ATen/Context.cpp:92.)\n",
            "  return Variable._execution_engine.run_backward(  # Calls into the C++ engine to run the backward pass\n",
            "     35/100      13.6G     0.4055     0.5261     0.1959          6        640: 100%|██████████| 30/30 [00:11<00:00,  2.65it/s]\n",
            "                 Class     Images  Instances      Box(P          R      mAP50  mAP50-95): 100%|██████████| 5/5 [00:00<00:00,  5.13it/s]"
          ]
        },
        {
          "output_type": "stream",
          "name": "stdout",
          "text": [
            "                   all        133        330      0.728      0.676      0.726       0.47\n"
          ]
        },
        {
          "output_type": "stream",
          "name": "stderr",
          "text": [
            "\n"
          ]
        },
        {
          "output_type": "stream",
          "name": "stdout",
          "text": [
            "\n",
            "      Epoch    GPU_mem  giou_loss   cls_loss    l1_loss  Instances       Size\n"
          ]
        },
        {
          "output_type": "stream",
          "name": "stderr",
          "text": [
            "  0%|          | 0/30 [00:00<?, ?it/s]/usr/local/lib/python3.11/dist-packages/torch/autograd/graph.py:823: UserWarning: grid_sampler_2d_backward_cuda does not have a deterministic implementation, but you set 'torch.use_deterministic_algorithms(True, warn_only=True)'. You can file an issue at https://github.com/pytorch/pytorch/issues to help us prioritize adding deterministic support for this operation. (Triggered internally at /pytorch/aten/src/ATen/Context.cpp:92.)\n",
            "  return Variable._execution_engine.run_backward(  # Calls into the C++ engine to run the backward pass\n",
            "     36/100      13.6G     0.4106     0.5913     0.1985          1        640: 100%|██████████| 30/30 [00:11<00:00,  2.59it/s]\n",
            "                 Class     Images  Instances      Box(P          R      mAP50  mAP50-95): 100%|██████████| 5/5 [00:00<00:00,  5.25it/s]"
          ]
        },
        {
          "output_type": "stream",
          "name": "stdout",
          "text": [
            "                   all        133        330      0.743      0.667       0.69      0.434\n"
          ]
        },
        {
          "output_type": "stream",
          "name": "stderr",
          "text": [
            "\n"
          ]
        },
        {
          "output_type": "stream",
          "name": "stdout",
          "text": [
            "\n",
            "      Epoch    GPU_mem  giou_loss   cls_loss    l1_loss  Instances       Size\n"
          ]
        },
        {
          "output_type": "stream",
          "name": "stderr",
          "text": [
            "  0%|          | 0/30 [00:00<?, ?it/s]/usr/local/lib/python3.11/dist-packages/torch/autograd/graph.py:823: UserWarning: grid_sampler_2d_backward_cuda does not have a deterministic implementation, but you set 'torch.use_deterministic_algorithms(True, warn_only=True)'. You can file an issue at https://github.com/pytorch/pytorch/issues to help us prioritize adding deterministic support for this operation. (Triggered internally at /pytorch/aten/src/ATen/Context.cpp:92.)\n",
            "  return Variable._execution_engine.run_backward(  # Calls into the C++ engine to run the backward pass\n",
            "     37/100      13.6G     0.4119     0.5842     0.1919          1        640: 100%|██████████| 30/30 [00:11<00:00,  2.61it/s]\n",
            "                 Class     Images  Instances      Box(P          R      mAP50  mAP50-95): 100%|██████████| 5/5 [00:00<00:00,  5.30it/s]"
          ]
        },
        {
          "output_type": "stream",
          "name": "stdout",
          "text": [
            "                   all        133        330      0.705        0.6      0.665      0.421\n"
          ]
        },
        {
          "output_type": "stream",
          "name": "stderr",
          "text": [
            "\n"
          ]
        },
        {
          "output_type": "stream",
          "name": "stdout",
          "text": [
            "\n",
            "      Epoch    GPU_mem  giou_loss   cls_loss    l1_loss  Instances       Size\n"
          ]
        },
        {
          "output_type": "stream",
          "name": "stderr",
          "text": [
            "  0%|          | 0/30 [00:00<?, ?it/s]/usr/local/lib/python3.11/dist-packages/torch/autograd/graph.py:823: UserWarning: grid_sampler_2d_backward_cuda does not have a deterministic implementation, but you set 'torch.use_deterministic_algorithms(True, warn_only=True)'. You can file an issue at https://github.com/pytorch/pytorch/issues to help us prioritize adding deterministic support for this operation. (Triggered internally at /pytorch/aten/src/ATen/Context.cpp:92.)\n",
            "  return Variable._execution_engine.run_backward(  # Calls into the C++ engine to run the backward pass\n",
            "     38/100      13.6G     0.4454     0.5243     0.2255          5        640: 100%|██████████| 30/30 [00:11<00:00,  2.61it/s]\n",
            "                 Class     Images  Instances      Box(P          R      mAP50  mAP50-95): 100%|██████████| 5/5 [00:00<00:00,  5.28it/s]"
          ]
        },
        {
          "output_type": "stream",
          "name": "stdout",
          "text": [
            "                   all        133        330      0.736       0.67      0.718      0.438\n"
          ]
        },
        {
          "output_type": "stream",
          "name": "stderr",
          "text": [
            "\n"
          ]
        },
        {
          "output_type": "stream",
          "name": "stdout",
          "text": [
            "\n",
            "      Epoch    GPU_mem  giou_loss   cls_loss    l1_loss  Instances       Size\n"
          ]
        },
        {
          "output_type": "stream",
          "name": "stderr",
          "text": [
            "  0%|          | 0/30 [00:00<?, ?it/s]/usr/local/lib/python3.11/dist-packages/torch/autograd/graph.py:823: UserWarning: grid_sampler_2d_backward_cuda does not have a deterministic implementation, but you set 'torch.use_deterministic_algorithms(True, warn_only=True)'. You can file an issue at https://github.com/pytorch/pytorch/issues to help us prioritize adding deterministic support for this operation. (Triggered internally at /pytorch/aten/src/ATen/Context.cpp:92.)\n",
            "  return Variable._execution_engine.run_backward(  # Calls into the C++ engine to run the backward pass\n",
            "     39/100      13.6G     0.4158     0.5326     0.2116          2        640: 100%|██████████| 30/30 [00:11<00:00,  2.63it/s]\n",
            "                 Class     Images  Instances      Box(P          R      mAP50  mAP50-95): 100%|██████████| 5/5 [00:00<00:00,  5.21it/s]"
          ]
        },
        {
          "output_type": "stream",
          "name": "stdout",
          "text": [
            "                   all        133        330       0.75      0.636      0.709      0.453\n"
          ]
        },
        {
          "output_type": "stream",
          "name": "stderr",
          "text": [
            "\n"
          ]
        },
        {
          "output_type": "stream",
          "name": "stdout",
          "text": [
            "\n",
            "      Epoch    GPU_mem  giou_loss   cls_loss    l1_loss  Instances       Size\n"
          ]
        },
        {
          "output_type": "stream",
          "name": "stderr",
          "text": [
            "  0%|          | 0/30 [00:00<?, ?it/s]/usr/local/lib/python3.11/dist-packages/torch/autograd/graph.py:823: UserWarning: grid_sampler_2d_backward_cuda does not have a deterministic implementation, but you set 'torch.use_deterministic_algorithms(True, warn_only=True)'. You can file an issue at https://github.com/pytorch/pytorch/issues to help us prioritize adding deterministic support for this operation. (Triggered internally at /pytorch/aten/src/ATen/Context.cpp:92.)\n",
            "  return Variable._execution_engine.run_backward(  # Calls into the C++ engine to run the backward pass\n",
            "     40/100      13.6G     0.4012     0.5283     0.1829          6        640: 100%|██████████| 30/30 [00:11<00:00,  2.62it/s]\n",
            "                 Class     Images  Instances      Box(P          R      mAP50  mAP50-95): 100%|██████████| 5/5 [00:00<00:00,  5.02it/s]"
          ]
        },
        {
          "output_type": "stream",
          "name": "stdout",
          "text": [
            "                   all        133        330       0.75      0.597      0.656      0.421\n"
          ]
        },
        {
          "output_type": "stream",
          "name": "stderr",
          "text": [
            "\n"
          ]
        },
        {
          "output_type": "stream",
          "name": "stdout",
          "text": [
            "\n",
            "      Epoch    GPU_mem  giou_loss   cls_loss    l1_loss  Instances       Size\n"
          ]
        },
        {
          "output_type": "stream",
          "name": "stderr",
          "text": [
            "  0%|          | 0/30 [00:00<?, ?it/s]/usr/local/lib/python3.11/dist-packages/torch/autograd/graph.py:823: UserWarning: grid_sampler_2d_backward_cuda does not have a deterministic implementation, but you set 'torch.use_deterministic_algorithms(True, warn_only=True)'. You can file an issue at https://github.com/pytorch/pytorch/issues to help us prioritize adding deterministic support for this operation. (Triggered internally at /pytorch/aten/src/ATen/Context.cpp:92.)\n",
            "  return Variable._execution_engine.run_backward(  # Calls into the C++ engine to run the backward pass\n",
            "     41/100      13.6G     0.3943     0.5266     0.1978          1        640: 100%|██████████| 30/30 [00:11<00:00,  2.64it/s]\n",
            "                 Class     Images  Instances      Box(P          R      mAP50  mAP50-95): 100%|██████████| 5/5 [00:00<00:00,  5.17it/s]"
          ]
        },
        {
          "output_type": "stream",
          "name": "stdout",
          "text": [
            "                   all        133        330      0.709      0.618      0.684      0.431\n"
          ]
        },
        {
          "output_type": "stream",
          "name": "stderr",
          "text": [
            "\n"
          ]
        },
        {
          "output_type": "stream",
          "name": "stdout",
          "text": [
            "\n",
            "      Epoch    GPU_mem  giou_loss   cls_loss    l1_loss  Instances       Size\n"
          ]
        },
        {
          "output_type": "stream",
          "name": "stderr",
          "text": [
            "  0%|          | 0/30 [00:00<?, ?it/s]/usr/local/lib/python3.11/dist-packages/torch/autograd/graph.py:823: UserWarning: grid_sampler_2d_backward_cuda does not have a deterministic implementation, but you set 'torch.use_deterministic_algorithms(True, warn_only=True)'. You can file an issue at https://github.com/pytorch/pytorch/issues to help us prioritize adding deterministic support for this operation. (Triggered internally at /pytorch/aten/src/ATen/Context.cpp:92.)\n",
            "  return Variable._execution_engine.run_backward(  # Calls into the C++ engine to run the backward pass\n",
            "     42/100      13.6G     0.4196     0.5533     0.2166          2        640: 100%|██████████| 30/30 [00:11<00:00,  2.60it/s]\n",
            "                 Class     Images  Instances      Box(P          R      mAP50  mAP50-95): 100%|██████████| 5/5 [00:00<00:00,  5.05it/s]"
          ]
        },
        {
          "output_type": "stream",
          "name": "stdout",
          "text": [
            "                   all        133        330       0.74      0.576      0.644      0.394\n"
          ]
        },
        {
          "output_type": "stream",
          "name": "stderr",
          "text": [
            "\n"
          ]
        },
        {
          "output_type": "stream",
          "name": "stdout",
          "text": [
            "\n",
            "      Epoch    GPU_mem  giou_loss   cls_loss    l1_loss  Instances       Size\n"
          ]
        },
        {
          "output_type": "stream",
          "name": "stderr",
          "text": [
            "  0%|          | 0/30 [00:00<?, ?it/s]/usr/local/lib/python3.11/dist-packages/torch/autograd/graph.py:823: UserWarning: grid_sampler_2d_backward_cuda does not have a deterministic implementation, but you set 'torch.use_deterministic_algorithms(True, warn_only=True)'. You can file an issue at https://github.com/pytorch/pytorch/issues to help us prioritize adding deterministic support for this operation. (Triggered internally at /pytorch/aten/src/ATen/Context.cpp:92.)\n",
            "  return Variable._execution_engine.run_backward(  # Calls into the C++ engine to run the backward pass\n",
            "     43/100      13.6G     0.4245     0.5415     0.2195          4        640: 100%|██████████| 30/30 [00:11<00:00,  2.62it/s]\n",
            "                 Class     Images  Instances      Box(P          R      mAP50  mAP50-95): 100%|██████████| 5/5 [00:00<00:00,  5.36it/s]"
          ]
        },
        {
          "output_type": "stream",
          "name": "stdout",
          "text": [
            "                   all        133        330      0.748      0.512      0.612      0.386\n"
          ]
        },
        {
          "output_type": "stream",
          "name": "stderr",
          "text": [
            "\n"
          ]
        },
        {
          "output_type": "stream",
          "name": "stdout",
          "text": [
            "\n",
            "      Epoch    GPU_mem  giou_loss   cls_loss    l1_loss  Instances       Size\n"
          ]
        },
        {
          "output_type": "stream",
          "name": "stderr",
          "text": [
            "  0%|          | 0/30 [00:00<?, ?it/s]/usr/local/lib/python3.11/dist-packages/torch/autograd/graph.py:823: UserWarning: grid_sampler_2d_backward_cuda does not have a deterministic implementation, but you set 'torch.use_deterministic_algorithms(True, warn_only=True)'. You can file an issue at https://github.com/pytorch/pytorch/issues to help us prioritize adding deterministic support for this operation. (Triggered internally at /pytorch/aten/src/ATen/Context.cpp:92.)\n",
            "  return Variable._execution_engine.run_backward(  # Calls into the C++ engine to run the backward pass\n",
            "     44/100      13.6G      0.405     0.5416     0.2038          8        640: 100%|██████████| 30/30 [00:11<00:00,  2.62it/s]\n",
            "                 Class     Images  Instances      Box(P          R      mAP50  mAP50-95): 100%|██████████| 5/5 [00:00<00:00,  5.16it/s]"
          ]
        },
        {
          "output_type": "stream",
          "name": "stdout",
          "text": [
            "                   all        133        330      0.771      0.641      0.714      0.447\n"
          ]
        },
        {
          "output_type": "stream",
          "name": "stderr",
          "text": [
            "\n"
          ]
        },
        {
          "output_type": "stream",
          "name": "stdout",
          "text": [
            "\n",
            "      Epoch    GPU_mem  giou_loss   cls_loss    l1_loss  Instances       Size\n"
          ]
        },
        {
          "output_type": "stream",
          "name": "stderr",
          "text": [
            "  0%|          | 0/30 [00:00<?, ?it/s]/usr/local/lib/python3.11/dist-packages/torch/autograd/graph.py:823: UserWarning: grid_sampler_2d_backward_cuda does not have a deterministic implementation, but you set 'torch.use_deterministic_algorithms(True, warn_only=True)'. You can file an issue at https://github.com/pytorch/pytorch/issues to help us prioritize adding deterministic support for this operation. (Triggered internally at /pytorch/aten/src/ATen/Context.cpp:92.)\n",
            "  return Variable._execution_engine.run_backward(  # Calls into the C++ engine to run the backward pass\n",
            "     45/100      13.6G     0.4182     0.5518     0.2005          4        640: 100%|██████████| 30/30 [00:11<00:00,  2.63it/s]\n",
            "                 Class     Images  Instances      Box(P          R      mAP50  mAP50-95): 100%|██████████| 5/5 [00:00<00:00,  5.13it/s]"
          ]
        },
        {
          "output_type": "stream",
          "name": "stdout",
          "text": [
            "                   all        133        330      0.671      0.615      0.672      0.429\n",
            "\u001b[34m\u001b[1mEarlyStopping: \u001b[0mTraining stopped early as no improvement observed in last 10 epochs. Best results observed at epoch 35, best model saved as best.pt.\n",
            "To update EarlyStopping(patience=10) pass a new patience value, i.e. `patience=300` or use `patience=0` to disable EarlyStopping.\n"
          ]
        },
        {
          "output_type": "stream",
          "name": "stderr",
          "text": [
            "\n"
          ]
        },
        {
          "output_type": "stream",
          "name": "stdout",
          "text": [
            "\n",
            "45 epochs completed in 0.171 hours.\n",
            "Optimizer stripped from runs/detect/pothole_rtdetr_l2/weights/last.pt, 66.1MB\n",
            "Optimizer stripped from runs/detect/pothole_rtdetr_l2/weights/best.pt, 66.1MB\n",
            "\n",
            "Validating runs/detect/pothole_rtdetr_l2/weights/best.pt...\n",
            "Ultralytics 8.3.142 🚀 Python-3.11.12 torch-2.6.0+cu124 CUDA:0 (NVIDIA A100-SXM4-40GB, 40507MiB)\n",
            "rt-detr-l summary: 302 layers, 31,985,795 parameters, 0 gradients, 103.4 GFLOPs\n"
          ]
        },
        {
          "output_type": "stream",
          "name": "stderr",
          "text": [
            "                 Class     Images  Instances      Box(P          R      mAP50  mAP50-95): 100%|██████████| 5/5 [00:01<00:00,  2.61it/s]\n"
          ]
        },
        {
          "output_type": "stream",
          "name": "stdout",
          "text": [
            "                   all        133        330      0.726      0.676      0.726      0.471\n",
            "Speed: 0.2ms preprocess, 4.0ms inference, 0.0ms loss, 0.4ms postprocess per image\n",
            "Results saved to \u001b[1mruns/detect/pothole_rtdetr_l2\u001b[0m\n"
          ]
        },
        {
          "output_type": "execute_result",
          "data": {
            "text/plain": [
              "ultralytics.utils.metrics.DetMetrics object with attributes:\n",
              "\n",
              "ap_class_index: array([0])\n",
              "box: ultralytics.utils.metrics.Metric object\n",
              "confusion_matrix: <ultralytics.utils.metrics.ConfusionMatrix object at 0x7cf25e9f1dd0>\n",
              "curves: ['Precision-Recall(B)', 'F1-Confidence(B)', 'Precision-Confidence(B)', 'Recall-Confidence(B)']\n",
              "curves_results: [[array([          0,    0.001001,    0.002002,    0.003003,    0.004004,    0.005005,    0.006006,    0.007007,    0.008008,    0.009009,     0.01001,    0.011011,    0.012012,    0.013013,    0.014014,    0.015015,    0.016016,    0.017017,    0.018018,    0.019019,     0.02002,    0.021021,    0.022022,    0.023023,\n",
              "          0.024024,    0.025025,    0.026026,    0.027027,    0.028028,    0.029029,     0.03003,    0.031031,    0.032032,    0.033033,    0.034034,    0.035035,    0.036036,    0.037037,    0.038038,    0.039039,     0.04004,    0.041041,    0.042042,    0.043043,    0.044044,    0.045045,    0.046046,    0.047047,\n",
              "          0.048048,    0.049049,     0.05005,    0.051051,    0.052052,    0.053053,    0.054054,    0.055055,    0.056056,    0.057057,    0.058058,    0.059059,     0.06006,    0.061061,    0.062062,    0.063063,    0.064064,    0.065065,    0.066066,    0.067067,    0.068068,    0.069069,     0.07007,    0.071071,\n",
              "          0.072072,    0.073073,    0.074074,    0.075075,    0.076076,    0.077077,    0.078078,    0.079079,     0.08008,    0.081081,    0.082082,    0.083083,    0.084084,    0.085085,    0.086086,    0.087087,    0.088088,    0.089089,     0.09009,    0.091091,    0.092092,    0.093093,    0.094094,    0.095095,\n",
              "          0.096096,    0.097097,    0.098098,    0.099099,      0.1001,      0.1011,      0.1021,      0.1031,      0.1041,     0.10511,     0.10611,     0.10711,     0.10811,     0.10911,     0.11011,     0.11111,     0.11211,     0.11311,     0.11411,     0.11512,     0.11612,     0.11712,     0.11812,     0.11912,\n",
              "           0.12012,     0.12112,     0.12212,     0.12312,     0.12412,     0.12513,     0.12613,     0.12713,     0.12813,     0.12913,     0.13013,     0.13113,     0.13213,     0.13313,     0.13413,     0.13514,     0.13614,     0.13714,     0.13814,     0.13914,     0.14014,     0.14114,     0.14214,     0.14314,\n",
              "           0.14414,     0.14515,     0.14615,     0.14715,     0.14815,     0.14915,     0.15015,     0.15115,     0.15215,     0.15315,     0.15415,     0.15516,     0.15616,     0.15716,     0.15816,     0.15916,     0.16016,     0.16116,     0.16216,     0.16316,     0.16416,     0.16517,     0.16617,     0.16717,\n",
              "           0.16817,     0.16917,     0.17017,     0.17117,     0.17217,     0.17317,     0.17417,     0.17518,     0.17618,     0.17718,     0.17818,     0.17918,     0.18018,     0.18118,     0.18218,     0.18318,     0.18418,     0.18519,     0.18619,     0.18719,     0.18819,     0.18919,     0.19019,     0.19119,\n",
              "           0.19219,     0.19319,     0.19419,      0.1952,      0.1962,      0.1972,      0.1982,      0.1992,      0.2002,      0.2012,      0.2022,      0.2032,      0.2042,     0.20521,     0.20621,     0.20721,     0.20821,     0.20921,     0.21021,     0.21121,     0.21221,     0.21321,     0.21421,     0.21522,\n",
              "           0.21622,     0.21722,     0.21822,     0.21922,     0.22022,     0.22122,     0.22222,     0.22322,     0.22422,     0.22523,     0.22623,     0.22723,     0.22823,     0.22923,     0.23023,     0.23123,     0.23223,     0.23323,     0.23423,     0.23524,     0.23624,     0.23724,     0.23824,     0.23924,\n",
              "           0.24024,     0.24124,     0.24224,     0.24324,     0.24424,     0.24525,     0.24625,     0.24725,     0.24825,     0.24925,     0.25025,     0.25125,     0.25225,     0.25325,     0.25425,     0.25526,     0.25626,     0.25726,     0.25826,     0.25926,     0.26026,     0.26126,     0.26226,     0.26326,\n",
              "           0.26426,     0.26527,     0.26627,     0.26727,     0.26827,     0.26927,     0.27027,     0.27127,     0.27227,     0.27327,     0.27427,     0.27528,     0.27628,     0.27728,     0.27828,     0.27928,     0.28028,     0.28128,     0.28228,     0.28328,     0.28428,     0.28529,     0.28629,     0.28729,\n",
              "           0.28829,     0.28929,     0.29029,     0.29129,     0.29229,     0.29329,     0.29429,      0.2953,      0.2963,      0.2973,      0.2983,      0.2993,      0.3003,      0.3013,      0.3023,      0.3033,      0.3043,     0.30531,     0.30631,     0.30731,     0.30831,     0.30931,     0.31031,     0.31131,\n",
              "           0.31231,     0.31331,     0.31431,     0.31532,     0.31632,     0.31732,     0.31832,     0.31932,     0.32032,     0.32132,     0.32232,     0.32332,     0.32432,     0.32533,     0.32633,     0.32733,     0.32833,     0.32933,     0.33033,     0.33133,     0.33233,     0.33333,     0.33433,     0.33534,\n",
              "           0.33634,     0.33734,     0.33834,     0.33934,     0.34034,     0.34134,     0.34234,     0.34334,     0.34434,     0.34535,     0.34635,     0.34735,     0.34835,     0.34935,     0.35035,     0.35135,     0.35235,     0.35335,     0.35435,     0.35536,     0.35636,     0.35736,     0.35836,     0.35936,\n",
              "           0.36036,     0.36136,     0.36236,     0.36336,     0.36436,     0.36537,     0.36637,     0.36737,     0.36837,     0.36937,     0.37037,     0.37137,     0.37237,     0.37337,     0.37437,     0.37538,     0.37638,     0.37738,     0.37838,     0.37938,     0.38038,     0.38138,     0.38238,     0.38338,\n",
              "           0.38438,     0.38539,     0.38639,     0.38739,     0.38839,     0.38939,     0.39039,     0.39139,     0.39239,     0.39339,     0.39439,      0.3954,      0.3964,      0.3974,      0.3984,      0.3994,      0.4004,      0.4014,      0.4024,      0.4034,      0.4044,     0.40541,     0.40641,     0.40741,\n",
              "           0.40841,     0.40941,     0.41041,     0.41141,     0.41241,     0.41341,     0.41441,     0.41542,     0.41642,     0.41742,     0.41842,     0.41942,     0.42042,     0.42142,     0.42242,     0.42342,     0.42442,     0.42543,     0.42643,     0.42743,     0.42843,     0.42943,     0.43043,     0.43143,\n",
              "           0.43243,     0.43343,     0.43443,     0.43544,     0.43644,     0.43744,     0.43844,     0.43944,     0.44044,     0.44144,     0.44244,     0.44344,     0.44444,     0.44545,     0.44645,     0.44745,     0.44845,     0.44945,     0.45045,     0.45145,     0.45245,     0.45345,     0.45445,     0.45546,\n",
              "           0.45646,     0.45746,     0.45846,     0.45946,     0.46046,     0.46146,     0.46246,     0.46346,     0.46446,     0.46547,     0.46647,     0.46747,     0.46847,     0.46947,     0.47047,     0.47147,     0.47247,     0.47347,     0.47447,     0.47548,     0.47648,     0.47748,     0.47848,     0.47948,\n",
              "           0.48048,     0.48148,     0.48248,     0.48348,     0.48448,     0.48549,     0.48649,     0.48749,     0.48849,     0.48949,     0.49049,     0.49149,     0.49249,     0.49349,     0.49449,      0.4955,      0.4965,      0.4975,      0.4985,      0.4995,      0.5005,      0.5015,      0.5025,      0.5035,\n",
              "            0.5045,     0.50551,     0.50651,     0.50751,     0.50851,     0.50951,     0.51051,     0.51151,     0.51251,     0.51351,     0.51451,     0.51552,     0.51652,     0.51752,     0.51852,     0.51952,     0.52052,     0.52152,     0.52252,     0.52352,     0.52452,     0.52553,     0.52653,     0.52753,\n",
              "           0.52853,     0.52953,     0.53053,     0.53153,     0.53253,     0.53353,     0.53453,     0.53554,     0.53654,     0.53754,     0.53854,     0.53954,     0.54054,     0.54154,     0.54254,     0.54354,     0.54454,     0.54555,     0.54655,     0.54755,     0.54855,     0.54955,     0.55055,     0.55155,\n",
              "           0.55255,     0.55355,     0.55455,     0.55556,     0.55656,     0.55756,     0.55856,     0.55956,     0.56056,     0.56156,     0.56256,     0.56356,     0.56456,     0.56557,     0.56657,     0.56757,     0.56857,     0.56957,     0.57057,     0.57157,     0.57257,     0.57357,     0.57457,     0.57558,\n",
              "           0.57658,     0.57758,     0.57858,     0.57958,     0.58058,     0.58158,     0.58258,     0.58358,     0.58458,     0.58559,     0.58659,     0.58759,     0.58859,     0.58959,     0.59059,     0.59159,     0.59259,     0.59359,     0.59459,      0.5956,      0.5966,      0.5976,      0.5986,      0.5996,\n",
              "            0.6006,      0.6016,      0.6026,      0.6036,      0.6046,     0.60561,     0.60661,     0.60761,     0.60861,     0.60961,     0.61061,     0.61161,     0.61261,     0.61361,     0.61461,     0.61562,     0.61662,     0.61762,     0.61862,     0.61962,     0.62062,     0.62162,     0.62262,     0.62362,\n",
              "           0.62462,     0.62563,     0.62663,     0.62763,     0.62863,     0.62963,     0.63063,     0.63163,     0.63263,     0.63363,     0.63463,     0.63564,     0.63664,     0.63764,     0.63864,     0.63964,     0.64064,     0.64164,     0.64264,     0.64364,     0.64464,     0.64565,     0.64665,     0.64765,\n",
              "           0.64865,     0.64965,     0.65065,     0.65165,     0.65265,     0.65365,     0.65465,     0.65566,     0.65666,     0.65766,     0.65866,     0.65966,     0.66066,     0.66166,     0.66266,     0.66366,     0.66466,     0.66567,     0.66667,     0.66767,     0.66867,     0.66967,     0.67067,     0.67167,\n",
              "           0.67267,     0.67367,     0.67467,     0.67568,     0.67668,     0.67768,     0.67868,     0.67968,     0.68068,     0.68168,     0.68268,     0.68368,     0.68468,     0.68569,     0.68669,     0.68769,     0.68869,     0.68969,     0.69069,     0.69169,     0.69269,     0.69369,     0.69469,      0.6957,\n",
              "            0.6967,      0.6977,      0.6987,      0.6997,      0.7007,      0.7017,      0.7027,      0.7037,      0.7047,     0.70571,     0.70671,     0.70771,     0.70871,     0.70971,     0.71071,     0.71171,     0.71271,     0.71371,     0.71471,     0.71572,     0.71672,     0.71772,     0.71872,     0.71972,\n",
              "           0.72072,     0.72172,     0.72272,     0.72372,     0.72472,     0.72573,     0.72673,     0.72773,     0.72873,     0.72973,     0.73073,     0.73173,     0.73273,     0.73373,     0.73473,     0.73574,     0.73674,     0.73774,     0.73874,     0.73974,     0.74074,     0.74174,     0.74274,     0.74374,\n",
              "           0.74474,     0.74575,     0.74675,     0.74775,     0.74875,     0.74975,     0.75075,     0.75175,     0.75275,     0.75375,     0.75475,     0.75576,     0.75676,     0.75776,     0.75876,     0.75976,     0.76076,     0.76176,     0.76276,     0.76376,     0.76476,     0.76577,     0.76677,     0.76777,\n",
              "           0.76877,     0.76977,     0.77077,     0.77177,     0.77277,     0.77377,     0.77477,     0.77578,     0.77678,     0.77778,     0.77878,     0.77978,     0.78078,     0.78178,     0.78278,     0.78378,     0.78478,     0.78579,     0.78679,     0.78779,     0.78879,     0.78979,     0.79079,     0.79179,\n",
              "           0.79279,     0.79379,     0.79479,      0.7958,      0.7968,      0.7978,      0.7988,      0.7998,      0.8008,      0.8018,      0.8028,      0.8038,      0.8048,     0.80581,     0.80681,     0.80781,     0.80881,     0.80981,     0.81081,     0.81181,     0.81281,     0.81381,     0.81481,     0.81582,\n",
              "           0.81682,     0.81782,     0.81882,     0.81982,     0.82082,     0.82182,     0.82282,     0.82382,     0.82482,     0.82583,     0.82683,     0.82783,     0.82883,     0.82983,     0.83083,     0.83183,     0.83283,     0.83383,     0.83483,     0.83584,     0.83684,     0.83784,     0.83884,     0.83984,\n",
              "           0.84084,     0.84184,     0.84284,     0.84384,     0.84484,     0.84585,     0.84685,     0.84785,     0.84885,     0.84985,     0.85085,     0.85185,     0.85285,     0.85385,     0.85485,     0.85586,     0.85686,     0.85786,     0.85886,     0.85986,     0.86086,     0.86186,     0.86286,     0.86386,\n",
              "           0.86486,     0.86587,     0.86687,     0.86787,     0.86887,     0.86987,     0.87087,     0.87187,     0.87287,     0.87387,     0.87487,     0.87588,     0.87688,     0.87788,     0.87888,     0.87988,     0.88088,     0.88188,     0.88288,     0.88388,     0.88488,     0.88589,     0.88689,     0.88789,\n",
              "           0.88889,     0.88989,     0.89089,     0.89189,     0.89289,     0.89389,     0.89489,      0.8959,      0.8969,      0.8979,      0.8989,      0.8999,      0.9009,      0.9019,      0.9029,      0.9039,      0.9049,     0.90591,     0.90691,     0.90791,     0.90891,     0.90991,     0.91091,     0.91191,\n",
              "           0.91291,     0.91391,     0.91491,     0.91592,     0.91692,     0.91792,     0.91892,     0.91992,     0.92092,     0.92192,     0.92292,     0.92392,     0.92492,     0.92593,     0.92693,     0.92793,     0.92893,     0.92993,     0.93093,     0.93193,     0.93293,     0.93393,     0.93493,     0.93594,\n",
              "           0.93694,     0.93794,     0.93894,     0.93994,     0.94094,     0.94194,     0.94294,     0.94394,     0.94494,     0.94595,     0.94695,     0.94795,     0.94895,     0.94995,     0.95095,     0.95195,     0.95295,     0.95395,     0.95495,     0.95596,     0.95696,     0.95796,     0.95896,     0.95996,\n",
              "           0.96096,     0.96196,     0.96296,     0.96396,     0.96496,     0.96597,     0.96697,     0.96797,     0.96897,     0.96997,     0.97097,     0.97197,     0.97297,     0.97397,     0.97497,     0.97598,     0.97698,     0.97798,     0.97898,     0.97998,     0.98098,     0.98198,     0.98298,     0.98398,\n",
              "           0.98498,     0.98599,     0.98699,     0.98799,     0.98899,     0.98999,     0.99099,     0.99199,     0.99299,     0.99399,     0.99499,       0.996,       0.997,       0.998,       0.999,           1]), array([[          1,           1,           1,           1,           1,           1,           1,           1,           1,           1,           1,           1,           1,           1,           1,           1,           1,           1,           1,           1,           1,           1,           1,\n",
              "                  1,           1,           1,           1,           1,           1,           1,           1,           1,           1,           1,           1,           1,           1,           1,           1,           1,           1,           1,           1,           1,           1,           1,\n",
              "                  1,           1,           1,           1,           1,           1,           1,           1,           1,           1,           1,           1,           1,           1,           1,           1,           1,           1,           1,           1,           1,           1,           1,\n",
              "                  1,           1,           1,           1,           1,           1,           1,           1,           1,           1,           1,           1,           1,           1,           1,           1,           1,           1,           1,           1,           1,           1,           1,\n",
              "                  1,           1,           1,           1,           1,           1,           1,           1,           1,           1,           1,           1,           1,           1,           1,           1,           1,           1,           1,           1,           1,           1,           1,\n",
              "                  1,           1,           1,           1,           1,           1,           1,           1,           1,           1,           1,           1,           1,           1,           1,           1,           1,           1,           1,           1,           1,           1,           1,\n",
              "                  1,           1,     0.98701,     0.98701,     0.98701,     0.98701,     0.98701,     0.98701,     0.98701,     0.98701,     0.98701,     0.98701,     0.98701,     0.98701,     0.98701,     0.98701,     0.98701,     0.98701,     0.98701,     0.98701,     0.98701,     0.98701,     0.98701,\n",
              "            0.98701,     0.98701,     0.98701,     0.98701,     0.98701,     0.98701,     0.98701,     0.98701,     0.98701,     0.98701,     0.98701,     0.98701,     0.98701,     0.98701,     0.98701,     0.98701,     0.98701,     0.98701,     0.98701,     0.98701,     0.98701,     0.98701,     0.98701,\n",
              "            0.98701,     0.98701,     0.98701,     0.98701,     0.98701,     0.98701,     0.98701,     0.98701,     0.98701,     0.98701,     0.98701,     0.98701,     0.98701,     0.98701,     0.98701,     0.98701,     0.98701,     0.98701,     0.98701,     0.98701,     0.98701,     0.98701,     0.98701,\n",
              "            0.98701,     0.98701,     0.98701,     0.98701,     0.98701,     0.98701,     0.98701,     0.98701,     0.98701,     0.98701,     0.98701,     0.98701,     0.98701,     0.98701,     0.98701,     0.98701,     0.98701,     0.98701,     0.98701,     0.98701,     0.98701,     0.98701,     0.98701,\n",
              "            0.98701,     0.97753,     0.97753,     0.97753,     0.97753,     0.97753,     0.97753,     0.97753,     0.97753,     0.97753,     0.97753,     0.97753,     0.97753,     0.97753,     0.97753,     0.97753,     0.97753,     0.97753,     0.97753,     0.97753,     0.97753,     0.97753,     0.97753,\n",
              "            0.97753,     0.97753,     0.97753,     0.97753,     0.97753,     0.97753,     0.97753,     0.97753,     0.97753,     0.97753,     0.97753,     0.97222,     0.97222,     0.97222,     0.97222,     0.97222,     0.97222,     0.97222,     0.97222,     0.97222,     0.97222,     0.97222,     0.97222,\n",
              "            0.97222,     0.97222,     0.97222,     0.97222,     0.97222,     0.97222,     0.97222,     0.97222,     0.97222,     0.97222,     0.97222,     0.97222,     0.97222,     0.97222,     0.97222,     0.97222,     0.97222,     0.97222,     0.97222,     0.97222,     0.97222,     0.97222,     0.97222,\n",
              "            0.97222,     0.97222,     0.97222,     0.97222,     0.97222,     0.97222,     0.97222,     0.97222,     0.97222,     0.97222,     0.97222,     0.97222,     0.97222,     0.97222,     0.97222,     0.97222,     0.97222,     0.97222,     0.97222,     0.96491,     0.96491,     0.96491,     0.96491,\n",
              "            0.96491,     0.96491,     0.96491,     0.96491,     0.96491,     0.96491,     0.96491,     0.96491,     0.96491,     0.96491,     0.96491,     0.95726,     0.95726,     0.95726,     0.95726,     0.95726,     0.95726,     0.95726,     0.94215,     0.94215,     0.94215,     0.94215,     0.94215,\n",
              "            0.94215,     0.93333,     0.93333,     0.93333,     0.93333,     0.93333,     0.93333,     0.93333,     0.93333,     0.93333,     0.93333,     0.93333,     0.93333,     0.93333,     0.93333,     0.93333,     0.93333,     0.93333,     0.93333,     0.93333,     0.93333,     0.93333,     0.93333,\n",
              "            0.93333,     0.93333,     0.93333,     0.93333,     0.93333,     0.93333,     0.93333,     0.93333,     0.93333,     0.93333,     0.93333,     0.93333,     0.93333,     0.93333,     0.92701,     0.92701,     0.92701,     0.92405,     0.92405,     0.92405,     0.92405,     0.92405,     0.92405,\n",
              "            0.92405,     0.92405,     0.92405,     0.92405,     0.92405,     0.92405,     0.92405,     0.92405,     0.92405,     0.92405,     0.92405,     0.92405,     0.92405,     0.92405,     0.92405,     0.92405,     0.92405,     0.92405,     0.92405,     0.92405,     0.92405,     0.92405,     0.92405,\n",
              "            0.92405,     0.92405,     0.92405,     0.92405,     0.92405,     0.92405,     0.92405,     0.92405,     0.92405,     0.92405,     0.92405,     0.92405,     0.92405,     0.92405,     0.92405,     0.92405,     0.92405,     0.92405,     0.92405,     0.92405,     0.92405,     0.92405,     0.92405,\n",
              "            0.92405,     0.92405,     0.92405,     0.92405,     0.92405,     0.91875,     0.91875,     0.91875,     0.91875,     0.91411,     0.91411,     0.91411,     0.91411,     0.91411,     0.91411,     0.90964,     0.90964,     0.90964,     0.90964,     0.90964,     0.90964,     0.90173,     0.90173,\n",
              "            0.90173,     0.90173,     0.90173,     0.90173,     0.90173,     0.90173,     0.90173,     0.90173,     0.90173,     0.90173,     0.90173,     0.90173,     0.90173,     0.89944,     0.89944,     0.89944,     0.89944,     0.89944,     0.89944,     0.89944,     0.89944,     0.89944,     0.89944,\n",
              "            0.89944,     0.89944,     0.89944,     0.89944,     0.89944,      0.8973,      0.8973,      0.8973,      0.8973,      0.8973,      0.8973,      0.8973,      0.8973,      0.8973,      0.8973,      0.8973,      0.8973,      0.8973,      0.8973,      0.8973,     0.89583,     0.89583,     0.89583,\n",
              "            0.89583,     0.89583,     0.89583,     0.89583,     0.89583,     0.89583,     0.89583,     0.89583,     0.89583,     0.89583,     0.89583,     0.89583,     0.89583,     0.89583,     0.89583,     0.89231,     0.89231,     0.89231,     0.89231,     0.89231,     0.89231,     0.88384,     0.88384,\n",
              "            0.88384,        0.88,        0.88,        0.88,     0.87624,     0.87624,     0.87624,     0.87324,     0.87324,     0.87324,     0.87324,     0.87324,     0.87324,     0.87324,     0.87324,     0.87324,     0.87324,     0.87324,     0.87324,     0.87324,     0.87324,     0.87324,     0.87324,\n",
              "            0.87324,     0.87324,     0.87324,     0.87324,     0.87324,     0.87324,     0.87324,     0.87324,     0.87324,     0.87324,     0.87324,     0.87324,     0.86977,     0.86977,     0.86977,     0.86636,     0.86636,     0.86636,     0.86301,     0.86301,     0.86301,     0.85973,     0.85973,\n",
              "            0.85973,     0.84889,     0.84889,     0.84889,     0.83843,     0.83843,     0.83843,      0.8319,      0.8319,      0.8319,     0.82979,     0.82979,     0.82979,     0.82979,     0.82979,     0.82979,     0.80992,     0.80992,     0.80992,     0.80816,     0.80816,     0.80816,     0.80816,\n",
              "            0.80816,     0.80816,     0.80567,     0.80567,     0.80567,     0.79365,     0.79365,     0.79365,     0.79216,     0.79216,     0.79216,     0.79216,     0.79216,     0.79216,     0.78988,     0.78988,     0.78988,     0.77947,     0.77947,     0.77947,     0.77947,     0.77947,     0.77947,\n",
              "            0.77778,     0.77778,     0.77778,     0.77778,     0.77778,     0.77778,     0.77778,     0.77778,     0.77778,     0.77778,     0.77778,     0.77778,     0.77778,     0.77778,     0.77778,     0.75986,     0.75986,     0.75986,     0.75986,     0.75986,     0.75986,     0.75801,     0.75801,\n",
              "            0.75801,     0.74825,     0.74825,     0.74825,     0.74138,     0.74138,     0.74138,      0.7372,      0.7372,      0.7372,     0.73401,     0.73401,     0.73401,     0.73401,     0.73401,     0.73401,     0.73267,     0.73267,     0.73267,     0.73267,     0.73267,     0.73267,     0.73267,\n",
              "            0.73267,     0.73267,     0.73267,     0.73267,     0.73267,     0.73267,     0.72876,     0.72876,     0.72876,     0.72492,     0.72492,     0.72492,     0.72468,     0.72468,     0.72468,     0.72468,     0.72468,     0.72468,     0.72468,     0.72468,     0.72468,     0.72468,     0.72468,\n",
              "            0.72468,     0.72468,     0.72468,     0.72468,     0.71296,     0.71296,     0.71296,     0.71296,     0.71296,     0.71296,     0.69048,     0.69048,     0.69048,      0.6793,      0.6793,      0.6793,     0.67335,     0.67335,     0.67335,     0.67335,     0.67335,     0.67335,     0.66949,\n",
              "            0.66949,     0.66949,     0.66949,     0.66949,     0.66949,     0.66667,     0.66667,     0.66667,     0.66667,     0.66667,     0.66667,     0.66667,     0.66667,     0.66667,     0.65312,     0.65312,     0.65312,     0.64362,     0.64362,     0.64362,     0.63613,     0.63613,     0.63613,\n",
              "            0.62087,     0.62087,     0.62087,      0.6125,      0.6125,      0.6125,     0.60891,     0.60891,     0.60891,     0.60539,     0.60539,     0.60539,     0.57674,     0.57674,     0.57674,      0.5618,      0.5618,      0.5618,      0.5618,      0.5618,      0.5618,     0.56152,     0.56152,\n",
              "            0.56152,     0.56125,     0.56125,     0.56125,        0.55,        0.55,        0.55,     0.54624,     0.54624,     0.54624,     0.52795,     0.52795,     0.52795,     0.52784,     0.52784,     0.52784,     0.52024,     0.52024,     0.52024,     0.52024,     0.47601,     0.47601,     0.47601,\n",
              "            0.46667,     0.46667,     0.46667,     0.46099,     0.46099,     0.46099,     0.43573,     0.43573,     0.43573,      0.4219,      0.4219,      0.4219,     0.37679,     0.37679,     0.37679,     0.36769,     0.36769,     0.36769,     0.35419,     0.35419,     0.35419,     0.35419,     0.35419,\n",
              "            0.35419,     0.35271,     0.35271,     0.35271,     0.33924,     0.33924,     0.33924,     0.33047,     0.33047,     0.33047,     0.30578,     0.30578,     0.30578,     0.29978,     0.29978,     0.29978,     0.29279,     0.29279,     0.29279,     0.27056,     0.27056,     0.27056,     0.26525,\n",
              "            0.26525,     0.26525,     0.25846,     0.25846,     0.25846,      0.2341,      0.2341,      0.2341,     0.22911,     0.22911,     0.22911,       0.229,       0.229,       0.229,     0.22888,     0.22888,     0.22888,     0.22346,     0.22346,     0.22346,     0.22319,     0.22319,     0.22319,\n",
              "             0.2138,      0.2138,      0.2138,     0.19585,     0.19585,     0.19585,      0.1915,      0.1915,      0.1915,     0.18049,     0.18049,     0.18049,     0.17407,     0.17407,     0.17407,     0.17133,     0.17133,     0.17133,     0.17133,     0.17133,     0.17133,      0.1704,      0.1704,\n",
              "             0.1704,     0.16468,     0.16468,     0.16468,     0.16185,     0.16185,     0.16185,     0.10196,     0.10196,     0.10196,     0.09361,     0.09361,     0.09361,    0.093274,    0.093274,    0.093274,    0.093274,    0.090435,    0.090435,    0.090435,    0.082017,    0.082017,    0.082017,\n",
              "           0.074455,    0.074455,    0.074455,    0.066488,    0.066488,    0.066488,    0.061523,    0.061523,    0.061523,    0.059512,    0.059512,    0.059512,    0.053635,    0.053635,    0.053635,    0.049476,    0.049476,    0.049476,    0.041915,    0.041915,    0.041915,    0.039155,    0.039155,\n",
              "           0.039155,    0.036107,    0.036107,    0.036107,    0.036051,    0.036051,    0.036051,    0.035627,    0.035627,    0.035627,    0.028885,    0.028885,    0.028885,    0.028453,    0.028453,    0.028453,    0.027828,    0.027828,    0.027828,    0.025137,    0.025137,    0.025137,    0.023338,\n",
              "           0.023338,    0.023338,    0.012127,    0.012127,    0.012127,   0.0077739,   0.0076215,   0.0074691,   0.0073166,   0.0071642,   0.0070118,   0.0068594,   0.0067069,   0.0065545,   0.0064021,   0.0062496,   0.0060972,   0.0059448,   0.0057923,   0.0056399,   0.0054875,   0.0053351,   0.0051826,\n",
              "          0.0050302,   0.0048778,   0.0047253,   0.0045729,   0.0044205,    0.004268,   0.0041156,   0.0039632,   0.0038108,   0.0036583,   0.0035059,   0.0033535,    0.003201,   0.0030486,   0.0028962,   0.0027437,   0.0025913,   0.0024389,   0.0022865,    0.002134,   0.0019816,   0.0018292,   0.0016767,\n",
              "          0.0015243,   0.0013719,   0.0012194,    0.001067,  0.00091458,  0.00076215,  0.00060972,  0.00045729,  0.00030486,  0.00015243,           0]]), 'Recall', 'Precision'], [array([          0,    0.001001,    0.002002,    0.003003,    0.004004,    0.005005,    0.006006,    0.007007,    0.008008,    0.009009,     0.01001,    0.011011,    0.012012,    0.013013,    0.014014,    0.015015,    0.016016,    0.017017,    0.018018,    0.019019,     0.02002,    0.021021,    0.022022,    0.023023,\n",
              "          0.024024,    0.025025,    0.026026,    0.027027,    0.028028,    0.029029,     0.03003,    0.031031,    0.032032,    0.033033,    0.034034,    0.035035,    0.036036,    0.037037,    0.038038,    0.039039,     0.04004,    0.041041,    0.042042,    0.043043,    0.044044,    0.045045,    0.046046,    0.047047,\n",
              "          0.048048,    0.049049,     0.05005,    0.051051,    0.052052,    0.053053,    0.054054,    0.055055,    0.056056,    0.057057,    0.058058,    0.059059,     0.06006,    0.061061,    0.062062,    0.063063,    0.064064,    0.065065,    0.066066,    0.067067,    0.068068,    0.069069,     0.07007,    0.071071,\n",
              "          0.072072,    0.073073,    0.074074,    0.075075,    0.076076,    0.077077,    0.078078,    0.079079,     0.08008,    0.081081,    0.082082,    0.083083,    0.084084,    0.085085,    0.086086,    0.087087,    0.088088,    0.089089,     0.09009,    0.091091,    0.092092,    0.093093,    0.094094,    0.095095,\n",
              "          0.096096,    0.097097,    0.098098,    0.099099,      0.1001,      0.1011,      0.1021,      0.1031,      0.1041,     0.10511,     0.10611,     0.10711,     0.10811,     0.10911,     0.11011,     0.11111,     0.11211,     0.11311,     0.11411,     0.11512,     0.11612,     0.11712,     0.11812,     0.11912,\n",
              "           0.12012,     0.12112,     0.12212,     0.12312,     0.12412,     0.12513,     0.12613,     0.12713,     0.12813,     0.12913,     0.13013,     0.13113,     0.13213,     0.13313,     0.13413,     0.13514,     0.13614,     0.13714,     0.13814,     0.13914,     0.14014,     0.14114,     0.14214,     0.14314,\n",
              "           0.14414,     0.14515,     0.14615,     0.14715,     0.14815,     0.14915,     0.15015,     0.15115,     0.15215,     0.15315,     0.15415,     0.15516,     0.15616,     0.15716,     0.15816,     0.15916,     0.16016,     0.16116,     0.16216,     0.16316,     0.16416,     0.16517,     0.16617,     0.16717,\n",
              "           0.16817,     0.16917,     0.17017,     0.17117,     0.17217,     0.17317,     0.17417,     0.17518,     0.17618,     0.17718,     0.17818,     0.17918,     0.18018,     0.18118,     0.18218,     0.18318,     0.18418,     0.18519,     0.18619,     0.18719,     0.18819,     0.18919,     0.19019,     0.19119,\n",
              "           0.19219,     0.19319,     0.19419,      0.1952,      0.1962,      0.1972,      0.1982,      0.1992,      0.2002,      0.2012,      0.2022,      0.2032,      0.2042,     0.20521,     0.20621,     0.20721,     0.20821,     0.20921,     0.21021,     0.21121,     0.21221,     0.21321,     0.21421,     0.21522,\n",
              "           0.21622,     0.21722,     0.21822,     0.21922,     0.22022,     0.22122,     0.22222,     0.22322,     0.22422,     0.22523,     0.22623,     0.22723,     0.22823,     0.22923,     0.23023,     0.23123,     0.23223,     0.23323,     0.23423,     0.23524,     0.23624,     0.23724,     0.23824,     0.23924,\n",
              "           0.24024,     0.24124,     0.24224,     0.24324,     0.24424,     0.24525,     0.24625,     0.24725,     0.24825,     0.24925,     0.25025,     0.25125,     0.25225,     0.25325,     0.25425,     0.25526,     0.25626,     0.25726,     0.25826,     0.25926,     0.26026,     0.26126,     0.26226,     0.26326,\n",
              "           0.26426,     0.26527,     0.26627,     0.26727,     0.26827,     0.26927,     0.27027,     0.27127,     0.27227,     0.27327,     0.27427,     0.27528,     0.27628,     0.27728,     0.27828,     0.27928,     0.28028,     0.28128,     0.28228,     0.28328,     0.28428,     0.28529,     0.28629,     0.28729,\n",
              "           0.28829,     0.28929,     0.29029,     0.29129,     0.29229,     0.29329,     0.29429,      0.2953,      0.2963,      0.2973,      0.2983,      0.2993,      0.3003,      0.3013,      0.3023,      0.3033,      0.3043,     0.30531,     0.30631,     0.30731,     0.30831,     0.30931,     0.31031,     0.31131,\n",
              "           0.31231,     0.31331,     0.31431,     0.31532,     0.31632,     0.31732,     0.31832,     0.31932,     0.32032,     0.32132,     0.32232,     0.32332,     0.32432,     0.32533,     0.32633,     0.32733,     0.32833,     0.32933,     0.33033,     0.33133,     0.33233,     0.33333,     0.33433,     0.33534,\n",
              "           0.33634,     0.33734,     0.33834,     0.33934,     0.34034,     0.34134,     0.34234,     0.34334,     0.34434,     0.34535,     0.34635,     0.34735,     0.34835,     0.34935,     0.35035,     0.35135,     0.35235,     0.35335,     0.35435,     0.35536,     0.35636,     0.35736,     0.35836,     0.35936,\n",
              "           0.36036,     0.36136,     0.36236,     0.36336,     0.36436,     0.36537,     0.36637,     0.36737,     0.36837,     0.36937,     0.37037,     0.37137,     0.37237,     0.37337,     0.37437,     0.37538,     0.37638,     0.37738,     0.37838,     0.37938,     0.38038,     0.38138,     0.38238,     0.38338,\n",
              "           0.38438,     0.38539,     0.38639,     0.38739,     0.38839,     0.38939,     0.39039,     0.39139,     0.39239,     0.39339,     0.39439,      0.3954,      0.3964,      0.3974,      0.3984,      0.3994,      0.4004,      0.4014,      0.4024,      0.4034,      0.4044,     0.40541,     0.40641,     0.40741,\n",
              "           0.40841,     0.40941,     0.41041,     0.41141,     0.41241,     0.41341,     0.41441,     0.41542,     0.41642,     0.41742,     0.41842,     0.41942,     0.42042,     0.42142,     0.42242,     0.42342,     0.42442,     0.42543,     0.42643,     0.42743,     0.42843,     0.42943,     0.43043,     0.43143,\n",
              "           0.43243,     0.43343,     0.43443,     0.43544,     0.43644,     0.43744,     0.43844,     0.43944,     0.44044,     0.44144,     0.44244,     0.44344,     0.44444,     0.44545,     0.44645,     0.44745,     0.44845,     0.44945,     0.45045,     0.45145,     0.45245,     0.45345,     0.45445,     0.45546,\n",
              "           0.45646,     0.45746,     0.45846,     0.45946,     0.46046,     0.46146,     0.46246,     0.46346,     0.46446,     0.46547,     0.46647,     0.46747,     0.46847,     0.46947,     0.47047,     0.47147,     0.47247,     0.47347,     0.47447,     0.47548,     0.47648,     0.47748,     0.47848,     0.47948,\n",
              "           0.48048,     0.48148,     0.48248,     0.48348,     0.48448,     0.48549,     0.48649,     0.48749,     0.48849,     0.48949,     0.49049,     0.49149,     0.49249,     0.49349,     0.49449,      0.4955,      0.4965,      0.4975,      0.4985,      0.4995,      0.5005,      0.5015,      0.5025,      0.5035,\n",
              "            0.5045,     0.50551,     0.50651,     0.50751,     0.50851,     0.50951,     0.51051,     0.51151,     0.51251,     0.51351,     0.51451,     0.51552,     0.51652,     0.51752,     0.51852,     0.51952,     0.52052,     0.52152,     0.52252,     0.52352,     0.52452,     0.52553,     0.52653,     0.52753,\n",
              "           0.52853,     0.52953,     0.53053,     0.53153,     0.53253,     0.53353,     0.53453,     0.53554,     0.53654,     0.53754,     0.53854,     0.53954,     0.54054,     0.54154,     0.54254,     0.54354,     0.54454,     0.54555,     0.54655,     0.54755,     0.54855,     0.54955,     0.55055,     0.55155,\n",
              "           0.55255,     0.55355,     0.55455,     0.55556,     0.55656,     0.55756,     0.55856,     0.55956,     0.56056,     0.56156,     0.56256,     0.56356,     0.56456,     0.56557,     0.56657,     0.56757,     0.56857,     0.56957,     0.57057,     0.57157,     0.57257,     0.57357,     0.57457,     0.57558,\n",
              "           0.57658,     0.57758,     0.57858,     0.57958,     0.58058,     0.58158,     0.58258,     0.58358,     0.58458,     0.58559,     0.58659,     0.58759,     0.58859,     0.58959,     0.59059,     0.59159,     0.59259,     0.59359,     0.59459,      0.5956,      0.5966,      0.5976,      0.5986,      0.5996,\n",
              "            0.6006,      0.6016,      0.6026,      0.6036,      0.6046,     0.60561,     0.60661,     0.60761,     0.60861,     0.60961,     0.61061,     0.61161,     0.61261,     0.61361,     0.61461,     0.61562,     0.61662,     0.61762,     0.61862,     0.61962,     0.62062,     0.62162,     0.62262,     0.62362,\n",
              "           0.62462,     0.62563,     0.62663,     0.62763,     0.62863,     0.62963,     0.63063,     0.63163,     0.63263,     0.63363,     0.63463,     0.63564,     0.63664,     0.63764,     0.63864,     0.63964,     0.64064,     0.64164,     0.64264,     0.64364,     0.64464,     0.64565,     0.64665,     0.64765,\n",
              "           0.64865,     0.64965,     0.65065,     0.65165,     0.65265,     0.65365,     0.65465,     0.65566,     0.65666,     0.65766,     0.65866,     0.65966,     0.66066,     0.66166,     0.66266,     0.66366,     0.66466,     0.66567,     0.66667,     0.66767,     0.66867,     0.66967,     0.67067,     0.67167,\n",
              "           0.67267,     0.67367,     0.67467,     0.67568,     0.67668,     0.67768,     0.67868,     0.67968,     0.68068,     0.68168,     0.68268,     0.68368,     0.68468,     0.68569,     0.68669,     0.68769,     0.68869,     0.68969,     0.69069,     0.69169,     0.69269,     0.69369,     0.69469,      0.6957,\n",
              "            0.6967,      0.6977,      0.6987,      0.6997,      0.7007,      0.7017,      0.7027,      0.7037,      0.7047,     0.70571,     0.70671,     0.70771,     0.70871,     0.70971,     0.71071,     0.71171,     0.71271,     0.71371,     0.71471,     0.71572,     0.71672,     0.71772,     0.71872,     0.71972,\n",
              "           0.72072,     0.72172,     0.72272,     0.72372,     0.72472,     0.72573,     0.72673,     0.72773,     0.72873,     0.72973,     0.73073,     0.73173,     0.73273,     0.73373,     0.73473,     0.73574,     0.73674,     0.73774,     0.73874,     0.73974,     0.74074,     0.74174,     0.74274,     0.74374,\n",
              "           0.74474,     0.74575,     0.74675,     0.74775,     0.74875,     0.74975,     0.75075,     0.75175,     0.75275,     0.75375,     0.75475,     0.75576,     0.75676,     0.75776,     0.75876,     0.75976,     0.76076,     0.76176,     0.76276,     0.76376,     0.76476,     0.76577,     0.76677,     0.76777,\n",
              "           0.76877,     0.76977,     0.77077,     0.77177,     0.77277,     0.77377,     0.77477,     0.77578,     0.77678,     0.77778,     0.77878,     0.77978,     0.78078,     0.78178,     0.78278,     0.78378,     0.78478,     0.78579,     0.78679,     0.78779,     0.78879,     0.78979,     0.79079,     0.79179,\n",
              "           0.79279,     0.79379,     0.79479,      0.7958,      0.7968,      0.7978,      0.7988,      0.7998,      0.8008,      0.8018,      0.8028,      0.8038,      0.8048,     0.80581,     0.80681,     0.80781,     0.80881,     0.80981,     0.81081,     0.81181,     0.81281,     0.81381,     0.81481,     0.81582,\n",
              "           0.81682,     0.81782,     0.81882,     0.81982,     0.82082,     0.82182,     0.82282,     0.82382,     0.82482,     0.82583,     0.82683,     0.82783,     0.82883,     0.82983,     0.83083,     0.83183,     0.83283,     0.83383,     0.83483,     0.83584,     0.83684,     0.83784,     0.83884,     0.83984,\n",
              "           0.84084,     0.84184,     0.84284,     0.84384,     0.84484,     0.84585,     0.84685,     0.84785,     0.84885,     0.84985,     0.85085,     0.85185,     0.85285,     0.85385,     0.85485,     0.85586,     0.85686,     0.85786,     0.85886,     0.85986,     0.86086,     0.86186,     0.86286,     0.86386,\n",
              "           0.86486,     0.86587,     0.86687,     0.86787,     0.86887,     0.86987,     0.87087,     0.87187,     0.87287,     0.87387,     0.87487,     0.87588,     0.87688,     0.87788,     0.87888,     0.87988,     0.88088,     0.88188,     0.88288,     0.88388,     0.88488,     0.88589,     0.88689,     0.88789,\n",
              "           0.88889,     0.88989,     0.89089,     0.89189,     0.89289,     0.89389,     0.89489,      0.8959,      0.8969,      0.8979,      0.8989,      0.8999,      0.9009,      0.9019,      0.9029,      0.9039,      0.9049,     0.90591,     0.90691,     0.90791,     0.90891,     0.90991,     0.91091,     0.91191,\n",
              "           0.91291,     0.91391,     0.91491,     0.91592,     0.91692,     0.91792,     0.91892,     0.91992,     0.92092,     0.92192,     0.92292,     0.92392,     0.92492,     0.92593,     0.92693,     0.92793,     0.92893,     0.92993,     0.93093,     0.93193,     0.93293,     0.93393,     0.93493,     0.93594,\n",
              "           0.93694,     0.93794,     0.93894,     0.93994,     0.94094,     0.94194,     0.94294,     0.94394,     0.94494,     0.94595,     0.94695,     0.94795,     0.94895,     0.94995,     0.95095,     0.95195,     0.95295,     0.95395,     0.95495,     0.95596,     0.95696,     0.95796,     0.95896,     0.95996,\n",
              "           0.96096,     0.96196,     0.96296,     0.96396,     0.96496,     0.96597,     0.96697,     0.96797,     0.96897,     0.96997,     0.97097,     0.97197,     0.97297,     0.97397,     0.97497,     0.97598,     0.97698,     0.97798,     0.97898,     0.97998,     0.98098,     0.98198,     0.98298,     0.98398,\n",
              "           0.98498,     0.98599,     0.98699,     0.98799,     0.98899,     0.98999,     0.99099,     0.99199,     0.99299,     0.99399,     0.99499,       0.996,       0.997,       0.998,       0.999,           1]), array([[   0.015561,    0.015561,    0.015561,    0.015561,    0.015561,    0.015561,    0.015561,    0.015561,    0.015564,    0.015569,    0.015937,    0.017532,    0.019759,    0.022065,     0.02423,    0.026119,     0.02767,    0.029151,    0.030621,     0.03205,    0.033491,    0.034869,    0.036319,\n",
              "           0.037779,    0.039323,     0.04089,    0.042479,    0.044025,    0.045515,    0.046982,    0.048703,    0.050187,    0.051826,    0.053495,    0.055214,    0.056865,    0.058646,    0.060331,     0.06238,    0.064204,    0.066202,    0.068288,    0.069687,    0.072022,    0.074069,    0.075962,\n",
              "           0.078247,    0.080176,    0.082775,    0.085167,    0.087587,    0.089689,    0.092231,    0.094246,    0.096653,    0.099152,     0.10172,      0.1044,     0.10728,     0.11031,     0.11253,     0.11479,     0.11711,     0.12005,     0.12311,      0.1257,     0.12787,     0.13049,     0.13343,\n",
              "            0.13659,      0.1388,     0.14156,     0.14407,     0.14786,     0.14989,     0.15342,     0.15628,      0.1592,     0.16321,     0.16583,     0.16848,     0.17002,     0.17232,     0.17551,     0.17856,     0.18114,     0.18403,     0.18683,     0.19085,     0.19367,     0.19596,     0.19898,\n",
              "            0.20161,     0.20417,     0.20745,     0.21045,     0.21354,      0.2163,     0.21955,     0.22247,     0.22486,     0.22727,     0.23003,     0.23331,     0.23571,     0.23846,     0.24148,     0.24405,     0.24698,     0.25042,     0.25305,     0.25632,     0.25839,     0.26072,     0.26379,\n",
              "            0.26608,     0.26917,     0.27155,     0.27342,     0.27613,     0.27842,      0.2811,      0.2843,     0.28589,     0.28777,      0.2892,     0.29264,     0.29571,      0.2979,     0.29892,     0.30278,     0.30591,     0.30838,     0.31134,     0.31252,     0.31497,     0.31797,     0.32145,\n",
              "              0.325,     0.32692,     0.32944,     0.33417,     0.33721,     0.33909,     0.34137,     0.34353,     0.34589,     0.34901,     0.35238,     0.35283,     0.35332,     0.35551,     0.35663,     0.35857,     0.35983,     0.35938,     0.36139,     0.36439,     0.36546,      0.3675,     0.37038,\n",
              "            0.37418,     0.37657,     0.37869,     0.38152,     0.38381,     0.38603,     0.38889,     0.39214,     0.39284,     0.39496,     0.39722,     0.40094,     0.40242,     0.40483,     0.40557,     0.40678,     0.40709,     0.40835,     0.41065,     0.41166,     0.41345,     0.41599,     0.41795,\n",
              "            0.42006,     0.42336,     0.42494,     0.42681,     0.42829,     0.43079,     0.43171,     0.43508,     0.43867,      0.4396,     0.44135,     0.44227,     0.44449,     0.44554,     0.44804,     0.44961,     0.45223,     0.45603,     0.45737,     0.46026,     0.46138,      0.4625,     0.46484,\n",
              "             0.4656,     0.46708,     0.46848,     0.46916,     0.47167,     0.47384,     0.47722,     0.47742,      0.4785,     0.48032,     0.48395,     0.48564,     0.48741,     0.49082,      0.4908,      0.4919,     0.48997,      0.4904,     0.49072,     0.49268,     0.49383,     0.49574,     0.49808,\n",
              "            0.49955,     0.50354,     0.50453,      0.5069,     0.50853,     0.51069,     0.51055,     0.51176,     0.51339,     0.51452,     0.51535,     0.51715,     0.51936,      0.5203,     0.52318,     0.52612,     0.52794,     0.52915,      0.5322,     0.53467,     0.53745,     0.53949,     0.54201,\n",
              "            0.54291,     0.54389,     0.54456,     0.54573,     0.54822,     0.54885,     0.55096,     0.55065,     0.55271,     0.55539,     0.55789,     0.56037,     0.56108,     0.56315,     0.56395,     0.56511,     0.56595,      0.5662,     0.56653,     0.56846,     0.56965,     0.57188,     0.57302,\n",
              "            0.57574,     0.57825,     0.58034,       0.582,     0.58504,     0.58394,     0.58452,     0.58601,     0.58709,     0.58764,     0.58946,     0.59056,     0.59145,     0.59215,     0.59355,     0.59563,     0.59671,     0.59825,     0.59949,     0.60366,     0.60493,     0.60607,     0.61105,\n",
              "            0.61262,     0.61374,     0.61426,     0.61489,      0.6168,     0.61907,     0.62019,     0.62063,     0.62129,      0.6217,     0.62196,     0.62222,     0.62251,     0.62282,     0.62323,     0.62307,     0.62459,     0.62566,     0.62696,       0.628,     0.62657,     0.62574,     0.62598,\n",
              "            0.62622,     0.62656,     0.62709,     0.62785,     0.62896,      0.6302,     0.63285,     0.63367,     0.63422,     0.63534,     0.63758,     0.63886,     0.63801,       0.639,     0.64021,     0.63959,     0.63912,     0.64093,     0.64452,     0.64549,      0.6458,      0.6461,     0.64656,\n",
              "             0.6468,     0.64537,     0.64543,     0.64484,     0.64412,     0.64166,     0.64194,     0.64223,     0.64277,      0.6438,     0.64532,      0.6476,     0.64809,     0.64876,     0.65108,     0.65178,     0.65237,     0.65107,     0.65287,     0.65443,     0.65649,     0.65749,     0.65943,\n",
              "            0.66205,     0.66307,     0.66339,     0.66369,     0.66405,     0.66584,     0.66762,     0.66808,     0.66915,     0.66767,     0.66931,     0.67029,     0.66925,     0.66869,     0.66943,     0.66997,     0.67048,     0.67095,     0.66974,     0.67027,     0.67062,     0.67094,     0.67129,\n",
              "             0.6725,     0.67292,     0.67419,     0.67347,      0.6743,     0.67494,      0.6796,     0.68158,     0.68137,     0.68101,     0.68157,     0.68278,     0.68322,      0.6837,     0.68449,     0.68528,     0.68685,     0.68819,     0.68897,     0.68808,     0.68984,     0.69052,     0.69186,\n",
              "            0.69223,      0.6926,     0.69405,      0.6947,     0.69484,     0.69497,      0.6951,     0.69523,     0.69537,      0.6955,     0.69563,     0.69279,     0.69269,     0.69184,     0.69253,     0.69208,     0.69046,     0.69105,     0.69216,     0.69155,     0.69094,     0.69033,     0.68849,\n",
              "            0.68874,     0.68898,     0.68923,     0.69055,     0.69125,     0.69163,     0.69064,     0.69119,     0.69216,     0.69424,     0.69569,     0.69589,      0.6961,      0.6963,     0.69651,     0.69646,     0.69692,     0.69796,     0.69869,     0.70004,     0.70032,     0.70059,     0.70086,\n",
              "            0.70134,     0.70233,     0.70306,     0.70429,     0.70459,     0.70488,     0.70518,     0.70527,     0.70279,     0.70352,     0.70408,     0.70478,     0.70597,     0.70632,     0.70666,     0.70725,     0.70859,     0.70301,     0.70333,     0.70366,     0.70398,     0.70086,     0.70045,\n",
              "            0.70101,     0.70039,     0.69956,     0.69919,     0.69951,     0.69983,     0.70015,     0.70071,     0.70116,     0.69941,     0.70006,     0.70122,     0.69996,     0.69755,     0.69535,      0.6956,     0.69585,      0.6961,     0.69431,     0.69524,     0.69322,     0.69236,      0.6915,\n",
              "            0.69144,      0.6922,     0.69332,     0.69224,     0.69203,     0.69344,     0.69412,     0.69325,     0.69309,     0.69469,     0.69712,     0.69551,     0.69598,     0.69599,      0.6955,     0.69501,     0.69453,     0.69389,     0.69219,     0.69437,     0.69574,     0.69905,     0.69988,\n",
              "            0.69933,     0.69877,     0.69822,      0.6952,      0.6937,     0.69112,     0.69066,     0.69021,     0.68976,     0.68931,     0.69032,       0.687,     0.68826,      0.6885,     0.68874,     0.68898,     0.68922,     0.68956,     0.68996,     0.69036,     0.69062,     0.69082,     0.69102,\n",
              "            0.69122,     0.69143,     0.69163,     0.69135,       0.691,     0.69064,     0.69029,     0.68994,     0.68959,     0.68984,     0.69045,     0.68826,      0.6871,     0.68643,     0.68541,     0.68762,     0.68909,     0.68947,     0.68905,     0.68862,      0.6882,     0.68777,     0.68761,\n",
              "            0.68792,     0.68822,     0.68853,     0.68859,     0.68836,     0.68812,     0.68789,     0.68765,     0.68742,     0.68719,     0.68695,     0.68672,     0.68648,     0.68618,     0.68584,     0.68551,     0.68517,     0.68483,      0.6845,     0.68416,     0.68518,     0.68391,     0.68456,\n",
              "            0.68538,     0.68721,     0.68791,     0.68808,     0.68825,     0.68841,     0.68858,     0.68875,     0.68891,     0.68951,     0.68916,     0.68776,     0.68696,     0.68616,     0.68574,     0.68616,     0.68658,     0.68622,     0.68462,     0.68687,     0.68467,     0.68612,     0.68675,\n",
              "            0.68724,      0.6876,     0.68797,     0.68602,     0.68686,     0.68799,       0.689,     0.68802,     0.68747,     0.68833,     0.68726,     0.68692,     0.68638,     0.68514,      0.6861,      0.6858,      0.6853,     0.68481,     0.68431,     0.68384,      0.6847,     0.68474,     0.68412,\n",
              "             0.6835,     0.68287,     0.68219,     0.68148,     0.68077,     0.67904,      0.6759,     0.66941,     0.66814,     0.66582,     0.66326,     0.66465,     0.66525,     0.66486,     0.66446,     0.66406,     0.66367,     0.66327,     0.66171,     0.66276,     0.66146,     0.66038,     0.66064,\n",
              "            0.66089,     0.66115,     0.66141,     0.66177,     0.66241,     0.66124,     0.65923,     0.65791,     0.65283,     0.65101,     0.65042,     0.64983,     0.64923,     0.64862,     0.64683,     0.64529,     0.64395,     0.64358,     0.64387,     0.64415,     0.64444,     0.64409,      0.6416,\n",
              "            0.63979,     0.63885,     0.63817,     0.63749,     0.63681,     0.63513,     0.63368,     0.63276,     0.63185,     0.63162,     0.63213,     0.63257,     0.63146,     0.63036,     0.62925,     0.62815,     0.62709,      0.6263,      0.6255,     0.62471,     0.62032,     0.62002,     0.61718,\n",
              "            0.61605,     0.61492,     0.61035,     0.60805,     0.60751,     0.60883,     0.60578,      0.6052,     0.60463,     0.60405,     0.60347,     0.60333,     0.60349,     0.60365,      0.6038,     0.60396,     0.60412,     0.60427,     0.60443,     0.60369,     0.60272,     0.60175,     0.60106,\n",
              "            0.60041,     0.59976,     0.59911,     0.59998,     0.59715,     0.59799,     0.59673,     0.59087,     0.58376,     0.58301,     0.58226,     0.58151,     0.58059,     0.57908,     0.57776,     0.57701,     0.57625,     0.57549,     0.57463,     0.57362,      0.5726,     0.57136,     0.56983,\n",
              "            0.56805,       0.566,     0.56394,     0.56253,     0.56165,     0.56076,     0.56011,     0.56092,     0.55695,     0.54826,     0.54534,     0.54321,     0.54366,     0.54219,     0.54093,     0.54141,     0.54189,     0.53797,     0.53704,     0.53612,     0.53519,     0.53426,     0.53333,\n",
              "            0.52924,     0.52865,     0.52805,     0.52746,     0.52686,     0.52626,     0.52146,     0.51562,      0.5114,     0.50885,      0.5075,     0.50585,      0.5036,     0.50431,     0.50463,     0.50486,     0.50509,     0.50532,     0.50541,     0.50189,     0.50127,     0.50065,     0.50003,\n",
              "            0.49941,     0.49896,     0.49942,     0.49988,     0.50056,     0.49685,     0.49455,     0.49512,     0.49432,     0.48957,     0.48664,     0.47891,     0.47286,     0.47078,     0.46897,     0.46399,     0.46254,      0.4545,     0.45082,     0.44712,     0.43922,     0.42861,     0.42505,\n",
              "             0.4225,     0.41713,     0.41442,     0.41493,     0.41406,     0.41017,       0.401,     0.39827,     0.39629,     0.39051,     0.38072,     0.37346,     0.36122,     0.35621,     0.35411,     0.35079,     0.34492,     0.34427,     0.34362,     0.34296,     0.34231,     0.34165,       0.341,\n",
              "            0.33753,     0.33439,     0.32958,      0.3246,     0.31641,     0.31288,     0.29867,     0.28966,     0.26705,      0.2577,     0.25246,     0.25088,      0.2493,     0.24752,     0.24562,     0.24414,     0.24284,     0.23661,     0.23353,      0.2311,      0.2085,     0.19513,     0.18008,\n",
              "            0.17555,     0.17209,     0.16706,     0.15913,      0.1565,     0.14997,     0.14731,     0.14321,     0.13784,     0.13244,     0.12168,     0.11312,     0.11128,     0.10943,     0.10102,    0.093878,    0.088218,     0.07246,      0.0614,    0.054849,    0.049752,    0.046189,     0.04322,\n",
              "           0.040502,    0.038114,     0.03572,    0.026773,    0.012015,    0.011292,    0.010569,    0.009846,   0.0091221,   0.0083976,   0.0076726,   0.0069471,   0.0062211,           0,           0,           0,           0,           0,           0,           0,           0,           0,           0,\n",
              "                  0,           0,           0,           0,           0,           0,           0,           0,           0,           0,           0,           0,           0,           0,           0,           0,           0,           0,           0,           0,           0,           0,           0,\n",
              "                  0,           0,           0,           0,           0,           0,           0,           0,           0,           0,           0,           0,           0,           0,           0,           0,           0,           0,           0,           0,           0,           0,           0,\n",
              "                  0,           0,           0,           0,           0,           0,           0,           0,           0,           0,           0,           0,           0,           0,           0,           0,           0,           0,           0,           0,           0,           0,           0,\n",
              "                  0,           0,           0,           0,           0,           0,           0,           0,           0,           0,           0]]), 'Confidence', 'F1'], [array([          0,    0.001001,    0.002002,    0.003003,    0.004004,    0.005005,    0.006006,    0.007007,    0.008008,    0.009009,     0.01001,    0.011011,    0.012012,    0.013013,    0.014014,    0.015015,    0.016016,    0.017017,    0.018018,    0.019019,     0.02002,    0.021021,    0.022022,    0.023023,\n",
              "          0.024024,    0.025025,    0.026026,    0.027027,    0.028028,    0.029029,     0.03003,    0.031031,    0.032032,    0.033033,    0.034034,    0.035035,    0.036036,    0.037037,    0.038038,    0.039039,     0.04004,    0.041041,    0.042042,    0.043043,    0.044044,    0.045045,    0.046046,    0.047047,\n",
              "          0.048048,    0.049049,     0.05005,    0.051051,    0.052052,    0.053053,    0.054054,    0.055055,    0.056056,    0.057057,    0.058058,    0.059059,     0.06006,    0.061061,    0.062062,    0.063063,    0.064064,    0.065065,    0.066066,    0.067067,    0.068068,    0.069069,     0.07007,    0.071071,\n",
              "          0.072072,    0.073073,    0.074074,    0.075075,    0.076076,    0.077077,    0.078078,    0.079079,     0.08008,    0.081081,    0.082082,    0.083083,    0.084084,    0.085085,    0.086086,    0.087087,    0.088088,    0.089089,     0.09009,    0.091091,    0.092092,    0.093093,    0.094094,    0.095095,\n",
              "          0.096096,    0.097097,    0.098098,    0.099099,      0.1001,      0.1011,      0.1021,      0.1031,      0.1041,     0.10511,     0.10611,     0.10711,     0.10811,     0.10911,     0.11011,     0.11111,     0.11211,     0.11311,     0.11411,     0.11512,     0.11612,     0.11712,     0.11812,     0.11912,\n",
              "           0.12012,     0.12112,     0.12212,     0.12312,     0.12412,     0.12513,     0.12613,     0.12713,     0.12813,     0.12913,     0.13013,     0.13113,     0.13213,     0.13313,     0.13413,     0.13514,     0.13614,     0.13714,     0.13814,     0.13914,     0.14014,     0.14114,     0.14214,     0.14314,\n",
              "           0.14414,     0.14515,     0.14615,     0.14715,     0.14815,     0.14915,     0.15015,     0.15115,     0.15215,     0.15315,     0.15415,     0.15516,     0.15616,     0.15716,     0.15816,     0.15916,     0.16016,     0.16116,     0.16216,     0.16316,     0.16416,     0.16517,     0.16617,     0.16717,\n",
              "           0.16817,     0.16917,     0.17017,     0.17117,     0.17217,     0.17317,     0.17417,     0.17518,     0.17618,     0.17718,     0.17818,     0.17918,     0.18018,     0.18118,     0.18218,     0.18318,     0.18418,     0.18519,     0.18619,     0.18719,     0.18819,     0.18919,     0.19019,     0.19119,\n",
              "           0.19219,     0.19319,     0.19419,      0.1952,      0.1962,      0.1972,      0.1982,      0.1992,      0.2002,      0.2012,      0.2022,      0.2032,      0.2042,     0.20521,     0.20621,     0.20721,     0.20821,     0.20921,     0.21021,     0.21121,     0.21221,     0.21321,     0.21421,     0.21522,\n",
              "           0.21622,     0.21722,     0.21822,     0.21922,     0.22022,     0.22122,     0.22222,     0.22322,     0.22422,     0.22523,     0.22623,     0.22723,     0.22823,     0.22923,     0.23023,     0.23123,     0.23223,     0.23323,     0.23423,     0.23524,     0.23624,     0.23724,     0.23824,     0.23924,\n",
              "           0.24024,     0.24124,     0.24224,     0.24324,     0.24424,     0.24525,     0.24625,     0.24725,     0.24825,     0.24925,     0.25025,     0.25125,     0.25225,     0.25325,     0.25425,     0.25526,     0.25626,     0.25726,     0.25826,     0.25926,     0.26026,     0.26126,     0.26226,     0.26326,\n",
              "           0.26426,     0.26527,     0.26627,     0.26727,     0.26827,     0.26927,     0.27027,     0.27127,     0.27227,     0.27327,     0.27427,     0.27528,     0.27628,     0.27728,     0.27828,     0.27928,     0.28028,     0.28128,     0.28228,     0.28328,     0.28428,     0.28529,     0.28629,     0.28729,\n",
              "           0.28829,     0.28929,     0.29029,     0.29129,     0.29229,     0.29329,     0.29429,      0.2953,      0.2963,      0.2973,      0.2983,      0.2993,      0.3003,      0.3013,      0.3023,      0.3033,      0.3043,     0.30531,     0.30631,     0.30731,     0.30831,     0.30931,     0.31031,     0.31131,\n",
              "           0.31231,     0.31331,     0.31431,     0.31532,     0.31632,     0.31732,     0.31832,     0.31932,     0.32032,     0.32132,     0.32232,     0.32332,     0.32432,     0.32533,     0.32633,     0.32733,     0.32833,     0.32933,     0.33033,     0.33133,     0.33233,     0.33333,     0.33433,     0.33534,\n",
              "           0.33634,     0.33734,     0.33834,     0.33934,     0.34034,     0.34134,     0.34234,     0.34334,     0.34434,     0.34535,     0.34635,     0.34735,     0.34835,     0.34935,     0.35035,     0.35135,     0.35235,     0.35335,     0.35435,     0.35536,     0.35636,     0.35736,     0.35836,     0.35936,\n",
              "           0.36036,     0.36136,     0.36236,     0.36336,     0.36436,     0.36537,     0.36637,     0.36737,     0.36837,     0.36937,     0.37037,     0.37137,     0.37237,     0.37337,     0.37437,     0.37538,     0.37638,     0.37738,     0.37838,     0.37938,     0.38038,     0.38138,     0.38238,     0.38338,\n",
              "           0.38438,     0.38539,     0.38639,     0.38739,     0.38839,     0.38939,     0.39039,     0.39139,     0.39239,     0.39339,     0.39439,      0.3954,      0.3964,      0.3974,      0.3984,      0.3994,      0.4004,      0.4014,      0.4024,      0.4034,      0.4044,     0.40541,     0.40641,     0.40741,\n",
              "           0.40841,     0.40941,     0.41041,     0.41141,     0.41241,     0.41341,     0.41441,     0.41542,     0.41642,     0.41742,     0.41842,     0.41942,     0.42042,     0.42142,     0.42242,     0.42342,     0.42442,     0.42543,     0.42643,     0.42743,     0.42843,     0.42943,     0.43043,     0.43143,\n",
              "           0.43243,     0.43343,     0.43443,     0.43544,     0.43644,     0.43744,     0.43844,     0.43944,     0.44044,     0.44144,     0.44244,     0.44344,     0.44444,     0.44545,     0.44645,     0.44745,     0.44845,     0.44945,     0.45045,     0.45145,     0.45245,     0.45345,     0.45445,     0.45546,\n",
              "           0.45646,     0.45746,     0.45846,     0.45946,     0.46046,     0.46146,     0.46246,     0.46346,     0.46446,     0.46547,     0.46647,     0.46747,     0.46847,     0.46947,     0.47047,     0.47147,     0.47247,     0.47347,     0.47447,     0.47548,     0.47648,     0.47748,     0.47848,     0.47948,\n",
              "           0.48048,     0.48148,     0.48248,     0.48348,     0.48448,     0.48549,     0.48649,     0.48749,     0.48849,     0.48949,     0.49049,     0.49149,     0.49249,     0.49349,     0.49449,      0.4955,      0.4965,      0.4975,      0.4985,      0.4995,      0.5005,      0.5015,      0.5025,      0.5035,\n",
              "            0.5045,     0.50551,     0.50651,     0.50751,     0.50851,     0.50951,     0.51051,     0.51151,     0.51251,     0.51351,     0.51451,     0.51552,     0.51652,     0.51752,     0.51852,     0.51952,     0.52052,     0.52152,     0.52252,     0.52352,     0.52452,     0.52553,     0.52653,     0.52753,\n",
              "           0.52853,     0.52953,     0.53053,     0.53153,     0.53253,     0.53353,     0.53453,     0.53554,     0.53654,     0.53754,     0.53854,     0.53954,     0.54054,     0.54154,     0.54254,     0.54354,     0.54454,     0.54555,     0.54655,     0.54755,     0.54855,     0.54955,     0.55055,     0.55155,\n",
              "           0.55255,     0.55355,     0.55455,     0.55556,     0.55656,     0.55756,     0.55856,     0.55956,     0.56056,     0.56156,     0.56256,     0.56356,     0.56456,     0.56557,     0.56657,     0.56757,     0.56857,     0.56957,     0.57057,     0.57157,     0.57257,     0.57357,     0.57457,     0.57558,\n",
              "           0.57658,     0.57758,     0.57858,     0.57958,     0.58058,     0.58158,     0.58258,     0.58358,     0.58458,     0.58559,     0.58659,     0.58759,     0.58859,     0.58959,     0.59059,     0.59159,     0.59259,     0.59359,     0.59459,      0.5956,      0.5966,      0.5976,      0.5986,      0.5996,\n",
              "            0.6006,      0.6016,      0.6026,      0.6036,      0.6046,     0.60561,     0.60661,     0.60761,     0.60861,     0.60961,     0.61061,     0.61161,     0.61261,     0.61361,     0.61461,     0.61562,     0.61662,     0.61762,     0.61862,     0.61962,     0.62062,     0.62162,     0.62262,     0.62362,\n",
              "           0.62462,     0.62563,     0.62663,     0.62763,     0.62863,     0.62963,     0.63063,     0.63163,     0.63263,     0.63363,     0.63463,     0.63564,     0.63664,     0.63764,     0.63864,     0.63964,     0.64064,     0.64164,     0.64264,     0.64364,     0.64464,     0.64565,     0.64665,     0.64765,\n",
              "           0.64865,     0.64965,     0.65065,     0.65165,     0.65265,     0.65365,     0.65465,     0.65566,     0.65666,     0.65766,     0.65866,     0.65966,     0.66066,     0.66166,     0.66266,     0.66366,     0.66466,     0.66567,     0.66667,     0.66767,     0.66867,     0.66967,     0.67067,     0.67167,\n",
              "           0.67267,     0.67367,     0.67467,     0.67568,     0.67668,     0.67768,     0.67868,     0.67968,     0.68068,     0.68168,     0.68268,     0.68368,     0.68468,     0.68569,     0.68669,     0.68769,     0.68869,     0.68969,     0.69069,     0.69169,     0.69269,     0.69369,     0.69469,      0.6957,\n",
              "            0.6967,      0.6977,      0.6987,      0.6997,      0.7007,      0.7017,      0.7027,      0.7037,      0.7047,     0.70571,     0.70671,     0.70771,     0.70871,     0.70971,     0.71071,     0.71171,     0.71271,     0.71371,     0.71471,     0.71572,     0.71672,     0.71772,     0.71872,     0.71972,\n",
              "           0.72072,     0.72172,     0.72272,     0.72372,     0.72472,     0.72573,     0.72673,     0.72773,     0.72873,     0.72973,     0.73073,     0.73173,     0.73273,     0.73373,     0.73473,     0.73574,     0.73674,     0.73774,     0.73874,     0.73974,     0.74074,     0.74174,     0.74274,     0.74374,\n",
              "           0.74474,     0.74575,     0.74675,     0.74775,     0.74875,     0.74975,     0.75075,     0.75175,     0.75275,     0.75375,     0.75475,     0.75576,     0.75676,     0.75776,     0.75876,     0.75976,     0.76076,     0.76176,     0.76276,     0.76376,     0.76476,     0.76577,     0.76677,     0.76777,\n",
              "           0.76877,     0.76977,     0.77077,     0.77177,     0.77277,     0.77377,     0.77477,     0.77578,     0.77678,     0.77778,     0.77878,     0.77978,     0.78078,     0.78178,     0.78278,     0.78378,     0.78478,     0.78579,     0.78679,     0.78779,     0.78879,     0.78979,     0.79079,     0.79179,\n",
              "           0.79279,     0.79379,     0.79479,      0.7958,      0.7968,      0.7978,      0.7988,      0.7998,      0.8008,      0.8018,      0.8028,      0.8038,      0.8048,     0.80581,     0.80681,     0.80781,     0.80881,     0.80981,     0.81081,     0.81181,     0.81281,     0.81381,     0.81481,     0.81582,\n",
              "           0.81682,     0.81782,     0.81882,     0.81982,     0.82082,     0.82182,     0.82282,     0.82382,     0.82482,     0.82583,     0.82683,     0.82783,     0.82883,     0.82983,     0.83083,     0.83183,     0.83283,     0.83383,     0.83483,     0.83584,     0.83684,     0.83784,     0.83884,     0.83984,\n",
              "           0.84084,     0.84184,     0.84284,     0.84384,     0.84484,     0.84585,     0.84685,     0.84785,     0.84885,     0.84985,     0.85085,     0.85185,     0.85285,     0.85385,     0.85485,     0.85586,     0.85686,     0.85786,     0.85886,     0.85986,     0.86086,     0.86186,     0.86286,     0.86386,\n",
              "           0.86486,     0.86587,     0.86687,     0.86787,     0.86887,     0.86987,     0.87087,     0.87187,     0.87287,     0.87387,     0.87487,     0.87588,     0.87688,     0.87788,     0.87888,     0.87988,     0.88088,     0.88188,     0.88288,     0.88388,     0.88488,     0.88589,     0.88689,     0.88789,\n",
              "           0.88889,     0.88989,     0.89089,     0.89189,     0.89289,     0.89389,     0.89489,      0.8959,      0.8969,      0.8979,      0.8989,      0.8999,      0.9009,      0.9019,      0.9029,      0.9039,      0.9049,     0.90591,     0.90691,     0.90791,     0.90891,     0.90991,     0.91091,     0.91191,\n",
              "           0.91291,     0.91391,     0.91491,     0.91592,     0.91692,     0.91792,     0.91892,     0.91992,     0.92092,     0.92192,     0.92292,     0.92392,     0.92492,     0.92593,     0.92693,     0.92793,     0.92893,     0.92993,     0.93093,     0.93193,     0.93293,     0.93393,     0.93493,     0.93594,\n",
              "           0.93694,     0.93794,     0.93894,     0.93994,     0.94094,     0.94194,     0.94294,     0.94394,     0.94494,     0.94595,     0.94695,     0.94795,     0.94895,     0.94995,     0.95095,     0.95195,     0.95295,     0.95395,     0.95495,     0.95596,     0.95696,     0.95796,     0.95896,     0.95996,\n",
              "           0.96096,     0.96196,     0.96296,     0.96396,     0.96496,     0.96597,     0.96697,     0.96797,     0.96897,     0.96997,     0.97097,     0.97197,     0.97297,     0.97397,     0.97497,     0.97598,     0.97698,     0.97798,     0.97898,     0.97998,     0.98098,     0.98198,     0.98298,     0.98398,\n",
              "           0.98498,     0.98599,     0.98699,     0.98799,     0.98899,     0.98999,     0.99099,     0.99199,     0.99299,     0.99399,     0.99499,       0.996,       0.997,       0.998,       0.999,           1]), array([[  0.0078446,   0.0078446,   0.0078446,   0.0078446,   0.0078446,   0.0078446,   0.0078446,   0.0078446,   0.0078466,   0.0078489,   0.0080362,   0.0088479,   0.0099834,    0.011162,    0.012272,    0.013242,    0.014041,    0.014804,    0.015563,    0.016301,    0.017047,    0.017762,    0.018515,\n",
              "           0.019275,    0.020079,    0.020897,    0.021728,    0.022537,    0.023319,    0.024091,    0.024998,    0.025782,    0.026648,    0.027532,    0.028445,    0.029329,    0.030277,    0.031176,    0.032272,    0.033249,    0.034322,    0.035445,    0.036213,    0.037476,    0.038586,     0.03962,\n",
              "           0.040865,    0.041924,    0.043348,    0.044662,    0.045995,    0.047155,    0.048563,     0.04969,     0.05103,    0.052425,    0.053872,     0.05538,    0.057006,    0.058715,    0.059989,    0.061279,    0.062614,    0.064297,    0.066058,    0.067569,    0.068825,    0.070344,    0.072054,\n",
              "           0.073905,    0.075223,    0.076846,    0.078326,    0.080569,    0.081804,     0.08391,    0.085624,    0.087379,    0.089804,    0.091424,    0.093038,    0.094046,    0.095453,    0.097418,    0.099297,      0.1009,     0.10274,     0.10449,       0.107,     0.10878,     0.11023,     0.11215,\n",
              "            0.11382,     0.11545,     0.11755,     0.11948,     0.12148,     0.12327,     0.12538,     0.12729,     0.12886,     0.13044,     0.13227,     0.13444,     0.13604,     0.13787,     0.13989,     0.14163,      0.1436,     0.14593,     0.14772,     0.14995,     0.15137,     0.15298,     0.15509,\n",
              "            0.15668,     0.15883,     0.16048,      0.1619,      0.1638,     0.16552,     0.16742,     0.16969,     0.17102,     0.17253,     0.17368,     0.17617,      0.1784,        0.18,     0.18087,      0.1837,     0.18601,     0.18785,     0.19005,     0.19105,     0.19291,     0.19532,     0.19795,\n",
              "            0.20066,     0.20213,     0.20406,     0.20769,     0.21004,     0.21151,     0.21329,     0.21517,     0.21703,     0.21948,     0.22216,     0.22272,     0.22332,     0.22507,     0.22598,     0.22754,     0.22877,     0.22886,     0.23049,     0.23294,     0.23389,     0.23573,      0.2381,\n",
              "            0.24125,     0.24324,     0.24502,     0.24739,     0.24932,      0.2512,     0.25362,      0.2564,       0.257,     0.25911,     0.26105,     0.26428,     0.26588,     0.26798,     0.26864,     0.26969,     0.27029,     0.27141,     0.27344,     0.27434,     0.27593,      0.2782,     0.27995,\n",
              "            0.28185,     0.28483,     0.28626,     0.28796,     0.28931,      0.2916,     0.29282,     0.29593,     0.29926,     0.30054,     0.30218,     0.30304,     0.30513,     0.30655,     0.30892,     0.31042,     0.31292,     0.31656,     0.31786,     0.32066,     0.32174,     0.32284,     0.32512,\n",
              "            0.32586,     0.32731,      0.3287,     0.32985,     0.33235,      0.3345,     0.33788,     0.33861,      0.3397,     0.34154,     0.34522,     0.34694,     0.34876,     0.35225,     0.35281,     0.35395,     0.35312,     0.35357,      0.3539,     0.35594,     0.35715,     0.35915,     0.36161,\n",
              "            0.36316,     0.36739,      0.3691,     0.37164,     0.37339,     0.37573,     0.37625,     0.37756,     0.37934,     0.38058,     0.38148,     0.38346,      0.3859,     0.38693,     0.39013,     0.39341,     0.39545,      0.3968,     0.40025,     0.40305,     0.40622,     0.40855,     0.41145,\n",
              "            0.41249,     0.41362,      0.4144,     0.41575,     0.41865,     0.41938,     0.42185,     0.42235,     0.42478,     0.42795,     0.43093,      0.4339,     0.43523,     0.43817,     0.43914,     0.44055,     0.44157,     0.44188,     0.44227,     0.44463,     0.44609,     0.44883,     0.45024,\n",
              "             0.4536,     0.45672,      0.4602,     0.46247,      0.4665,     0.46584,     0.46674,     0.46864,     0.47002,     0.47072,     0.47307,     0.47531,     0.47676,     0.47768,      0.4795,     0.48222,     0.48364,     0.48567,      0.4873,     0.49284,     0.49453,     0.49605,     0.50277,\n",
              "            0.50489,     0.50641,     0.50713,     0.50798,     0.51059,     0.51371,     0.51526,     0.51586,     0.51677,     0.51735,      0.5177,     0.51806,     0.51847,      0.5189,     0.51947,     0.51982,     0.52273,     0.52422,     0.52606,     0.52752,     0.52688,     0.52714,     0.52749,\n",
              "            0.52783,     0.52831,     0.52906,     0.53014,     0.53173,     0.53351,     0.53731,      0.5385,      0.5393,     0.54092,     0.54417,     0.54604,     0.54568,     0.54778,     0.54956,     0.54948,     0.54952,      0.5522,     0.55754,       0.559,     0.55946,     0.55992,     0.56061,\n",
              "            0.56114,     0.56034,     0.56116,     0.56162,     0.56121,     0.55982,     0.56026,     0.56069,     0.56151,     0.56309,     0.56542,     0.56893,     0.56969,     0.57072,     0.57432,     0.57541,     0.57633,     0.57609,     0.57891,     0.58138,     0.58463,     0.58622,     0.58931,\n",
              "            0.59352,     0.59516,     0.59566,     0.59616,     0.59673,     0.59964,     0.60252,     0.60327,     0.60527,     0.60447,     0.60729,     0.60889,     0.60835,     0.60828,      0.6095,     0.61039,     0.61125,     0.61203,      0.6117,     0.61296,     0.61356,     0.61409,     0.61467,\n",
              "            0.61671,     0.61742,     0.61956,     0.62008,     0.62189,     0.62298,     0.63096,     0.63438,      0.6355,     0.63566,     0.63664,     0.63876,     0.63952,     0.64036,     0.64175,     0.64549,     0.64828,     0.65067,     0.65282,      0.6529,     0.65608,     0.65731,     0.65973,\n",
              "             0.6604,     0.66108,     0.66374,     0.66492,     0.66517,     0.66541,     0.66566,      0.6659,     0.66614,     0.66639,     0.66663,     0.66526,     0.66633,     0.66736,     0.66864,     0.66905,     0.67007,     0.67119,     0.67333,     0.67304,     0.67274,     0.67245,     0.67177,\n",
              "            0.67224,     0.67271,     0.67318,      0.6757,     0.67705,     0.67892,     0.67844,     0.67973,     0.68162,     0.68567,      0.6885,      0.6889,      0.6893,      0.6897,      0.6901,     0.69036,     0.69387,     0.69594,     0.69738,     0.70009,     0.70063,     0.70118,     0.70172,\n",
              "            0.70269,     0.70468,     0.70615,     0.70864,     0.70924,     0.70983,     0.71043,     0.71245,     0.71186,     0.71338,     0.71452,     0.71596,     0.71843,     0.71914,     0.71986,     0.72109,     0.72388,     0.72217,     0.72285,     0.72352,      0.7242,     0.72296,     0.72353,\n",
              "            0.72473,     0.72461,     0.72424,      0.7243,     0.72499,     0.72569,     0.72638,     0.72759,     0.72871,      0.7283,      0.7297,     0.73223,     0.73204,       0.731,     0.73024,     0.73079,     0.73135,     0.73191,     0.73164,     0.73395,     0.73308,     0.73271,     0.73233,\n",
              "            0.73658,      0.7383,     0.74128,     0.74083,     0.74184,      0.7451,     0.74796,      0.7476,     0.74832,     0.75206,     0.75777,     0.75816,     0.75927,     0.75976,     0.75957,     0.75937,     0.75917,     0.75892,     0.75874,     0.76402,     0.76734,     0.77545,     0.77773,\n",
              "            0.77752,     0.77731,      0.7771,     0.77594,     0.77537,     0.77437,      0.7742,     0.77403,     0.77385,     0.77368,     0.77906,     0.77786,     0.78109,     0.78171,     0.78233,     0.78295,     0.78357,     0.78446,     0.78549,     0.78653,      0.7872,     0.78772,     0.78824,\n",
              "            0.78877,     0.78929,     0.78981,     0.78977,     0.78964,     0.78951,     0.78938,     0.78925,     0.78912,     0.79017,      0.7921,      0.7913,     0.79088,     0.79139,     0.79387,     0.79981,     0.80381,     0.80556,     0.80541,     0.80527,     0.80512,     0.80497,     0.80518,\n",
              "            0.80602,     0.80686,      0.8077,     0.80813,     0.80805,     0.80797,     0.80788,      0.8078,     0.80772,     0.80764,     0.80756,     0.80748,      0.8074,      0.8073,     0.80718,     0.80706,     0.80695,     0.80683,     0.80672,      0.8066,     0.80955,     0.80944,      0.8135,\n",
              "            0.81582,     0.82102,     0.82302,      0.8235,     0.82398,     0.82445,     0.82493,     0.82541,     0.82588,     0.82761,     0.82944,       0.829,     0.82875,      0.8285,      0.8287,     0.82992,     0.83114,     0.83171,     0.83121,     0.83821,     0.83774,     0.84232,     0.84423,\n",
              "            0.84571,     0.84681,     0.84791,     0.84851,     0.85111,     0.85457,     0.85955,     0.85929,     0.85972,      0.8624,     0.86268,      0.8649,      0.8661,     0.86578,     0.86933,     0.86966,     0.86953,     0.86941,     0.86928,      0.8692,     0.87199,     0.87315,       0.873,\n",
              "            0.87285,      0.8727,     0.87253,     0.87235,     0.87217,     0.87174,     0.87096,     0.86931,     0.86899,     0.86839,     0.86773,     0.87361,      0.8762,      0.8761,       0.876,     0.87591,     0.87581,     0.87571,     0.87969,     0.88381,     0.88351,     0.88338,      0.8843,\n",
              "            0.88522,     0.88615,     0.88707,     0.88836,      0.8907,     0.89196,     0.89152,     0.89123,     0.89452,     0.89413,       0.894,     0.89387,     0.89374,     0.89361,     0.89322,     0.89289,     0.89259,     0.89313,     0.89423,     0.89533,     0.89643,     0.89718,     0.89665,\n",
              "            0.89626,     0.89606,     0.89592,     0.89577,     0.89562,     0.89526,     0.89495,     0.89475,     0.89455,     0.89543,     0.89748,     0.89943,      0.8992,     0.89897,     0.89874,      0.8985,     0.89828,     0.89811,     0.89794,     0.89777,     0.89683,     0.90066,     0.90109,\n",
              "            0.90085,     0.90062,     0.89965,     0.89916,     0.90358,     0.90946,     0.90904,     0.90892,     0.90881,      0.9087,     0.90858,     0.90897,     0.90968,      0.9104,     0.91111,     0.91182,     0.91254,     0.91325,     0.91397,     0.91397,     0.91378,      0.9136,     0.91347,\n",
              "            0.91335,     0.91323,     0.91311,     0.91868,     0.91831,     0.92228,     0.92378,     0.92278,     0.92155,     0.92142,     0.92129,     0.92116,       0.921,     0.92073,     0.92049,     0.92036,     0.92022,     0.92009,     0.91993,     0.91975,     0.91957,     0.91934,     0.91906,\n",
              "            0.91874,     0.91836,     0.91798,     0.91772,     0.91755,     0.91738,     0.91785,     0.92221,     0.92287,      0.9213,     0.92077,     0.92038,     0.92563,     0.92671,     0.92742,     0.93023,     0.93304,      0.9327,     0.93256,     0.93241,     0.93226,     0.93211,     0.93196,\n",
              "            0.93129,     0.93119,     0.93109,       0.931,      0.9309,      0.9308,     0.92999,       0.929,     0.92826,     0.92782,     0.92758,     0.92728,     0.92688,     0.93363,     0.93585,     0.93743,     0.93901,      0.9406,     0.94213,     0.94162,     0.94153,     0.94144,     0.94134,\n",
              "            0.94125,     0.94172,     0.94499,     0.94826,     0.95318,      0.9568,     0.95776,     0.96206,     0.96481,     0.96437,     0.96409,     0.96336,     0.97173,     0.97157,     0.97143,     0.97104,     0.97092,     0.97028,     0.96997,     0.96966,     0.96898,     0.96803,      0.9677,\n",
              "            0.96746,     0.96694,     0.96814,      0.9737,     0.97745,     0.97718,     0.97654,     0.97635,      0.9762,     0.97577,     0.97502,     0.98696,     0.98648,     0.98625,     0.98615,     0.98599,     0.98571,     0.98568,     0.98565,     0.98561,     0.98558,     0.98555,     0.98551,\n",
              "            0.98534,     0.98517,     0.98492,     0.98465,     0.98418,     0.98397,     0.98308,     0.98247,     0.98077,     0.97998,     0.97951,     0.97937,     0.97922,     0.97906,     0.97887,     0.98238,           1,           1,           1,           1,           1,           1,           1,\n",
              "                  1,           1,           1,           1,           1,           1,           1,           1,           1,           1,           1,           1,           1,           1,           1,           1,           1,           1,           1,           1,           1,           1,           1,\n",
              "                  1,           1,           1,           1,           1,           1,           1,           1,           1,           1,           1,           1,           1,           1,           1,           1,           1,           1,           1,           1,           1,           1,           1,\n",
              "                  1,           1,           1,           1,           1,           1,           1,           1,           1,           1,           1,           1,           1,           1,           1,           1,           1,           1,           1,           1,           1,           1,           1,\n",
              "                  1,           1,           1,           1,           1,           1,           1,           1,           1,           1,           1,           1,           1,           1,           1,           1,           1,           1,           1,           1,           1,           1,           1,\n",
              "                  1,           1,           1,           1,           1,           1,           1,           1,           1,           1,           1,           1,           1,           1,           1,           1,           1,           1,           1,           1,           1,           1,           1,\n",
              "                  1,           1,           1,           1,           1,           1,           1,           1,           1,           1,           1]]), 'Confidence', 'Precision'], [array([          0,    0.001001,    0.002002,    0.003003,    0.004004,    0.005005,    0.006006,    0.007007,    0.008008,    0.009009,     0.01001,    0.011011,    0.012012,    0.013013,    0.014014,    0.015015,    0.016016,    0.017017,    0.018018,    0.019019,     0.02002,    0.021021,    0.022022,    0.023023,\n",
              "          0.024024,    0.025025,    0.026026,    0.027027,    0.028028,    0.029029,     0.03003,    0.031031,    0.032032,    0.033033,    0.034034,    0.035035,    0.036036,    0.037037,    0.038038,    0.039039,     0.04004,    0.041041,    0.042042,    0.043043,    0.044044,    0.045045,    0.046046,    0.047047,\n",
              "          0.048048,    0.049049,     0.05005,    0.051051,    0.052052,    0.053053,    0.054054,    0.055055,    0.056056,    0.057057,    0.058058,    0.059059,     0.06006,    0.061061,    0.062062,    0.063063,    0.064064,    0.065065,    0.066066,    0.067067,    0.068068,    0.069069,     0.07007,    0.071071,\n",
              "          0.072072,    0.073073,    0.074074,    0.075075,    0.076076,    0.077077,    0.078078,    0.079079,     0.08008,    0.081081,    0.082082,    0.083083,    0.084084,    0.085085,    0.086086,    0.087087,    0.088088,    0.089089,     0.09009,    0.091091,    0.092092,    0.093093,    0.094094,    0.095095,\n",
              "          0.096096,    0.097097,    0.098098,    0.099099,      0.1001,      0.1011,      0.1021,      0.1031,      0.1041,     0.10511,     0.10611,     0.10711,     0.10811,     0.10911,     0.11011,     0.11111,     0.11211,     0.11311,     0.11411,     0.11512,     0.11612,     0.11712,     0.11812,     0.11912,\n",
              "           0.12012,     0.12112,     0.12212,     0.12312,     0.12412,     0.12513,     0.12613,     0.12713,     0.12813,     0.12913,     0.13013,     0.13113,     0.13213,     0.13313,     0.13413,     0.13514,     0.13614,     0.13714,     0.13814,     0.13914,     0.14014,     0.14114,     0.14214,     0.14314,\n",
              "           0.14414,     0.14515,     0.14615,     0.14715,     0.14815,     0.14915,     0.15015,     0.15115,     0.15215,     0.15315,     0.15415,     0.15516,     0.15616,     0.15716,     0.15816,     0.15916,     0.16016,     0.16116,     0.16216,     0.16316,     0.16416,     0.16517,     0.16617,     0.16717,\n",
              "           0.16817,     0.16917,     0.17017,     0.17117,     0.17217,     0.17317,     0.17417,     0.17518,     0.17618,     0.17718,     0.17818,     0.17918,     0.18018,     0.18118,     0.18218,     0.18318,     0.18418,     0.18519,     0.18619,     0.18719,     0.18819,     0.18919,     0.19019,     0.19119,\n",
              "           0.19219,     0.19319,     0.19419,      0.1952,      0.1962,      0.1972,      0.1982,      0.1992,      0.2002,      0.2012,      0.2022,      0.2032,      0.2042,     0.20521,     0.20621,     0.20721,     0.20821,     0.20921,     0.21021,     0.21121,     0.21221,     0.21321,     0.21421,     0.21522,\n",
              "           0.21622,     0.21722,     0.21822,     0.21922,     0.22022,     0.22122,     0.22222,     0.22322,     0.22422,     0.22523,     0.22623,     0.22723,     0.22823,     0.22923,     0.23023,     0.23123,     0.23223,     0.23323,     0.23423,     0.23524,     0.23624,     0.23724,     0.23824,     0.23924,\n",
              "           0.24024,     0.24124,     0.24224,     0.24324,     0.24424,     0.24525,     0.24625,     0.24725,     0.24825,     0.24925,     0.25025,     0.25125,     0.25225,     0.25325,     0.25425,     0.25526,     0.25626,     0.25726,     0.25826,     0.25926,     0.26026,     0.26126,     0.26226,     0.26326,\n",
              "           0.26426,     0.26527,     0.26627,     0.26727,     0.26827,     0.26927,     0.27027,     0.27127,     0.27227,     0.27327,     0.27427,     0.27528,     0.27628,     0.27728,     0.27828,     0.27928,     0.28028,     0.28128,     0.28228,     0.28328,     0.28428,     0.28529,     0.28629,     0.28729,\n",
              "           0.28829,     0.28929,     0.29029,     0.29129,     0.29229,     0.29329,     0.29429,      0.2953,      0.2963,      0.2973,      0.2983,      0.2993,      0.3003,      0.3013,      0.3023,      0.3033,      0.3043,     0.30531,     0.30631,     0.30731,     0.30831,     0.30931,     0.31031,     0.31131,\n",
              "           0.31231,     0.31331,     0.31431,     0.31532,     0.31632,     0.31732,     0.31832,     0.31932,     0.32032,     0.32132,     0.32232,     0.32332,     0.32432,     0.32533,     0.32633,     0.32733,     0.32833,     0.32933,     0.33033,     0.33133,     0.33233,     0.33333,     0.33433,     0.33534,\n",
              "           0.33634,     0.33734,     0.33834,     0.33934,     0.34034,     0.34134,     0.34234,     0.34334,     0.34434,     0.34535,     0.34635,     0.34735,     0.34835,     0.34935,     0.35035,     0.35135,     0.35235,     0.35335,     0.35435,     0.35536,     0.35636,     0.35736,     0.35836,     0.35936,\n",
              "           0.36036,     0.36136,     0.36236,     0.36336,     0.36436,     0.36537,     0.36637,     0.36737,     0.36837,     0.36937,     0.37037,     0.37137,     0.37237,     0.37337,     0.37437,     0.37538,     0.37638,     0.37738,     0.37838,     0.37938,     0.38038,     0.38138,     0.38238,     0.38338,\n",
              "           0.38438,     0.38539,     0.38639,     0.38739,     0.38839,     0.38939,     0.39039,     0.39139,     0.39239,     0.39339,     0.39439,      0.3954,      0.3964,      0.3974,      0.3984,      0.3994,      0.4004,      0.4014,      0.4024,      0.4034,      0.4044,     0.40541,     0.40641,     0.40741,\n",
              "           0.40841,     0.40941,     0.41041,     0.41141,     0.41241,     0.41341,     0.41441,     0.41542,     0.41642,     0.41742,     0.41842,     0.41942,     0.42042,     0.42142,     0.42242,     0.42342,     0.42442,     0.42543,     0.42643,     0.42743,     0.42843,     0.42943,     0.43043,     0.43143,\n",
              "           0.43243,     0.43343,     0.43443,     0.43544,     0.43644,     0.43744,     0.43844,     0.43944,     0.44044,     0.44144,     0.44244,     0.44344,     0.44444,     0.44545,     0.44645,     0.44745,     0.44845,     0.44945,     0.45045,     0.45145,     0.45245,     0.45345,     0.45445,     0.45546,\n",
              "           0.45646,     0.45746,     0.45846,     0.45946,     0.46046,     0.46146,     0.46246,     0.46346,     0.46446,     0.46547,     0.46647,     0.46747,     0.46847,     0.46947,     0.47047,     0.47147,     0.47247,     0.47347,     0.47447,     0.47548,     0.47648,     0.47748,     0.47848,     0.47948,\n",
              "           0.48048,     0.48148,     0.48248,     0.48348,     0.48448,     0.48549,     0.48649,     0.48749,     0.48849,     0.48949,     0.49049,     0.49149,     0.49249,     0.49349,     0.49449,      0.4955,      0.4965,      0.4975,      0.4985,      0.4995,      0.5005,      0.5015,      0.5025,      0.5035,\n",
              "            0.5045,     0.50551,     0.50651,     0.50751,     0.50851,     0.50951,     0.51051,     0.51151,     0.51251,     0.51351,     0.51451,     0.51552,     0.51652,     0.51752,     0.51852,     0.51952,     0.52052,     0.52152,     0.52252,     0.52352,     0.52452,     0.52553,     0.52653,     0.52753,\n",
              "           0.52853,     0.52953,     0.53053,     0.53153,     0.53253,     0.53353,     0.53453,     0.53554,     0.53654,     0.53754,     0.53854,     0.53954,     0.54054,     0.54154,     0.54254,     0.54354,     0.54454,     0.54555,     0.54655,     0.54755,     0.54855,     0.54955,     0.55055,     0.55155,\n",
              "           0.55255,     0.55355,     0.55455,     0.55556,     0.55656,     0.55756,     0.55856,     0.55956,     0.56056,     0.56156,     0.56256,     0.56356,     0.56456,     0.56557,     0.56657,     0.56757,     0.56857,     0.56957,     0.57057,     0.57157,     0.57257,     0.57357,     0.57457,     0.57558,\n",
              "           0.57658,     0.57758,     0.57858,     0.57958,     0.58058,     0.58158,     0.58258,     0.58358,     0.58458,     0.58559,     0.58659,     0.58759,     0.58859,     0.58959,     0.59059,     0.59159,     0.59259,     0.59359,     0.59459,      0.5956,      0.5966,      0.5976,      0.5986,      0.5996,\n",
              "            0.6006,      0.6016,      0.6026,      0.6036,      0.6046,     0.60561,     0.60661,     0.60761,     0.60861,     0.60961,     0.61061,     0.61161,     0.61261,     0.61361,     0.61461,     0.61562,     0.61662,     0.61762,     0.61862,     0.61962,     0.62062,     0.62162,     0.62262,     0.62362,\n",
              "           0.62462,     0.62563,     0.62663,     0.62763,     0.62863,     0.62963,     0.63063,     0.63163,     0.63263,     0.63363,     0.63463,     0.63564,     0.63664,     0.63764,     0.63864,     0.63964,     0.64064,     0.64164,     0.64264,     0.64364,     0.64464,     0.64565,     0.64665,     0.64765,\n",
              "           0.64865,     0.64965,     0.65065,     0.65165,     0.65265,     0.65365,     0.65465,     0.65566,     0.65666,     0.65766,     0.65866,     0.65966,     0.66066,     0.66166,     0.66266,     0.66366,     0.66466,     0.66567,     0.66667,     0.66767,     0.66867,     0.66967,     0.67067,     0.67167,\n",
              "           0.67267,     0.67367,     0.67467,     0.67568,     0.67668,     0.67768,     0.67868,     0.67968,     0.68068,     0.68168,     0.68268,     0.68368,     0.68468,     0.68569,     0.68669,     0.68769,     0.68869,     0.68969,     0.69069,     0.69169,     0.69269,     0.69369,     0.69469,      0.6957,\n",
              "            0.6967,      0.6977,      0.6987,      0.6997,      0.7007,      0.7017,      0.7027,      0.7037,      0.7047,     0.70571,     0.70671,     0.70771,     0.70871,     0.70971,     0.71071,     0.71171,     0.71271,     0.71371,     0.71471,     0.71572,     0.71672,     0.71772,     0.71872,     0.71972,\n",
              "           0.72072,     0.72172,     0.72272,     0.72372,     0.72472,     0.72573,     0.72673,     0.72773,     0.72873,     0.72973,     0.73073,     0.73173,     0.73273,     0.73373,     0.73473,     0.73574,     0.73674,     0.73774,     0.73874,     0.73974,     0.74074,     0.74174,     0.74274,     0.74374,\n",
              "           0.74474,     0.74575,     0.74675,     0.74775,     0.74875,     0.74975,     0.75075,     0.75175,     0.75275,     0.75375,     0.75475,     0.75576,     0.75676,     0.75776,     0.75876,     0.75976,     0.76076,     0.76176,     0.76276,     0.76376,     0.76476,     0.76577,     0.76677,     0.76777,\n",
              "           0.76877,     0.76977,     0.77077,     0.77177,     0.77277,     0.77377,     0.77477,     0.77578,     0.77678,     0.77778,     0.77878,     0.77978,     0.78078,     0.78178,     0.78278,     0.78378,     0.78478,     0.78579,     0.78679,     0.78779,     0.78879,     0.78979,     0.79079,     0.79179,\n",
              "           0.79279,     0.79379,     0.79479,      0.7958,      0.7968,      0.7978,      0.7988,      0.7998,      0.8008,      0.8018,      0.8028,      0.8038,      0.8048,     0.80581,     0.80681,     0.80781,     0.80881,     0.80981,     0.81081,     0.81181,     0.81281,     0.81381,     0.81481,     0.81582,\n",
              "           0.81682,     0.81782,     0.81882,     0.81982,     0.82082,     0.82182,     0.82282,     0.82382,     0.82482,     0.82583,     0.82683,     0.82783,     0.82883,     0.82983,     0.83083,     0.83183,     0.83283,     0.83383,     0.83483,     0.83584,     0.83684,     0.83784,     0.83884,     0.83984,\n",
              "           0.84084,     0.84184,     0.84284,     0.84384,     0.84484,     0.84585,     0.84685,     0.84785,     0.84885,     0.84985,     0.85085,     0.85185,     0.85285,     0.85385,     0.85485,     0.85586,     0.85686,     0.85786,     0.85886,     0.85986,     0.86086,     0.86186,     0.86286,     0.86386,\n",
              "           0.86486,     0.86587,     0.86687,     0.86787,     0.86887,     0.86987,     0.87087,     0.87187,     0.87287,     0.87387,     0.87487,     0.87588,     0.87688,     0.87788,     0.87888,     0.87988,     0.88088,     0.88188,     0.88288,     0.88388,     0.88488,     0.88589,     0.88689,     0.88789,\n",
              "           0.88889,     0.88989,     0.89089,     0.89189,     0.89289,     0.89389,     0.89489,      0.8959,      0.8969,      0.8979,      0.8989,      0.8999,      0.9009,      0.9019,      0.9029,      0.9039,      0.9049,     0.90591,     0.90691,     0.90791,     0.90891,     0.90991,     0.91091,     0.91191,\n",
              "           0.91291,     0.91391,     0.91491,     0.91592,     0.91692,     0.91792,     0.91892,     0.91992,     0.92092,     0.92192,     0.92292,     0.92392,     0.92492,     0.92593,     0.92693,     0.92793,     0.92893,     0.92993,     0.93093,     0.93193,     0.93293,     0.93393,     0.93493,     0.93594,\n",
              "           0.93694,     0.93794,     0.93894,     0.93994,     0.94094,     0.94194,     0.94294,     0.94394,     0.94494,     0.94595,     0.94695,     0.94795,     0.94895,     0.94995,     0.95095,     0.95195,     0.95295,     0.95395,     0.95495,     0.95596,     0.95696,     0.95796,     0.95896,     0.95996,\n",
              "           0.96096,     0.96196,     0.96296,     0.96396,     0.96496,     0.96597,     0.96697,     0.96797,     0.96897,     0.96997,     0.97097,     0.97197,     0.97297,     0.97397,     0.97497,     0.97598,     0.97698,     0.97798,     0.97898,     0.97998,     0.98098,     0.98198,     0.98298,     0.98398,\n",
              "           0.98498,     0.98599,     0.98699,     0.98799,     0.98899,     0.98999,     0.99099,     0.99199,     0.99299,     0.99399,     0.99499,       0.996,       0.997,       0.998,       0.999,           1]), array([[    0.94848,     0.94848,     0.94848,     0.94848,     0.94848,     0.94848,     0.94848,     0.94848,     0.94848,     0.94848,     0.94848,     0.94848,     0.94848,     0.94848,     0.94545,     0.94545,     0.94545,     0.94545,     0.94545,     0.94545,     0.94545,     0.94545,     0.94545,\n",
              "            0.94545,     0.94545,     0.94545,     0.94545,     0.94545,     0.94545,     0.94242,     0.94242,     0.93939,     0.93939,     0.93939,     0.93636,      0.9303,      0.9303,      0.9303,      0.9303,      0.9303,      0.9303,      0.9303,     0.92121,     0.92121,     0.92121,     0.91818,\n",
              "            0.91818,     0.91515,     0.91515,     0.91515,     0.91515,     0.91515,     0.91515,     0.91212,     0.91212,     0.91212,     0.90909,     0.90909,     0.90909,     0.90909,     0.90606,     0.90606,     0.90303,     0.90303,     0.90303,         0.9,         0.9,         0.9,         0.9,\n",
              "                0.9,     0.89697,     0.89697,     0.89697,     0.89697,     0.89394,     0.89394,     0.89394,     0.89394,     0.89394,     0.89091,     0.89091,     0.88485,     0.88485,     0.88485,     0.88485,     0.88485,     0.88182,     0.88182,     0.88182,     0.88182,     0.88182,     0.88182,\n",
              "            0.88182,     0.88182,     0.88182,     0.88182,     0.88182,     0.88182,     0.88182,     0.88182,     0.88182,     0.88182,     0.88182,     0.88182,     0.88182,     0.88182,     0.88182,     0.88182,     0.88182,     0.88182,     0.88182,     0.88182,     0.88182,     0.88182,     0.88182,\n",
              "            0.88182,     0.88182,     0.88182,     0.87879,     0.87879,     0.87576,     0.87576,     0.87576,     0.87083,     0.86667,     0.86364,     0.86364,     0.86364,     0.86364,     0.86061,     0.86061,     0.86061,     0.86061,     0.86061,      0.8581,     0.85758,     0.85455,     0.85455,\n",
              "            0.85455,     0.85455,     0.85455,     0.85455,     0.85455,     0.85455,     0.85455,     0.85152,     0.85152,     0.85152,     0.85152,     0.84848,     0.84545,     0.84545,     0.84545,     0.84545,     0.84242,     0.83636,     0.83636,     0.83636,     0.83541,     0.83333,     0.83333,\n",
              "            0.83333,     0.83333,     0.83333,     0.83333,     0.83333,     0.83333,     0.83333,     0.83333,     0.83333,      0.8303,      0.8303,      0.8303,     0.82727,     0.82727,     0.82727,     0.82727,     0.82424,     0.82424,     0.82424,     0.82424,     0.82424,     0.82424,     0.82424,\n",
              "            0.82424,     0.82424,     0.82424,     0.82424,     0.82424,     0.82424,     0.82121,     0.82121,     0.82121,     0.81818,     0.81818,     0.81818,     0.81818,     0.81515,     0.81515,     0.81515,     0.81515,     0.81515,     0.81515,     0.81515,     0.81515,     0.81515,     0.81515,\n",
              "            0.81515,     0.81515,     0.81515,     0.81212,     0.81212,     0.81212,     0.81212,     0.80909,     0.80909,     0.80909,     0.80909,     0.80909,     0.80909,     0.80909,     0.80606,     0.80606,         0.8,         0.8,         0.8,         0.8,         0.8,         0.8,         0.8,\n",
              "                0.8,         0.8,     0.79697,     0.79697,     0.79697,     0.79697,     0.79394,     0.79394,     0.79394,     0.79394,     0.79394,     0.79394,     0.79394,     0.79394,     0.79394,     0.79394,     0.79394,     0.79394,     0.79394,     0.79394,     0.79394,     0.79394,     0.79394,\n",
              "            0.79394,     0.79394,     0.79394,     0.79394,     0.79394,     0.79394,     0.79394,     0.79091,     0.79091,     0.79091,     0.79091,     0.79091,     0.78931,     0.78788,     0.78788,     0.78788,     0.78788,     0.78788,     0.78788,     0.78788,     0.78788,     0.78788,     0.78788,\n",
              "            0.78788,     0.78788,     0.78537,     0.78485,     0.78433,     0.78226,     0.78182,     0.78182,     0.78182,     0.78182,     0.78182,     0.77961,     0.77879,     0.77879,     0.77879,     0.77879,     0.77879,     0.77879,     0.77879,     0.77879,     0.77879,     0.77879,     0.77879,\n",
              "            0.77879,     0.77879,     0.77879,     0.77879,     0.77879,     0.77879,     0.77879,     0.77879,     0.77879,     0.77879,     0.77879,     0.77879,     0.77879,     0.77879,     0.77879,     0.77748,     0.77576,     0.77576,     0.77576,     0.77576,      0.7728,      0.7697,      0.7697,\n",
              "             0.7697,      0.7697,      0.7697,      0.7697,      0.7697,      0.7697,      0.7697,      0.7697,      0.7697,      0.7697,      0.7697,      0.7697,     0.76796,     0.76667,     0.76667,     0.76505,     0.76364,     0.76364,     0.76364,     0.76364,     0.76364,     0.76364,     0.76364,\n",
              "            0.76331,     0.76083,     0.75949,     0.75702,     0.75578,     0.75152,     0.75152,     0.75152,     0.75152,     0.75152,     0.75152,     0.75152,     0.75152,     0.75152,     0.75152,     0.75152,     0.75152,     0.74848,     0.74848,     0.74848,     0.74848,     0.74848,     0.74848,\n",
              "            0.74848,     0.74848,     0.74848,     0.74848,     0.74848,     0.74848,     0.74848,     0.74848,      0.7481,     0.74561,     0.74545,     0.74545,     0.74371,     0.74242,     0.74242,     0.74242,     0.74242,     0.74242,     0.73994,     0.73939,     0.73939,     0.73939,     0.73939,\n",
              "            0.73939,     0.73939,     0.73939,     0.73693,     0.73636,     0.73636,     0.73636,     0.73636,     0.73437,     0.73333,     0.73333,     0.73333,     0.73333,     0.73333,     0.73333,      0.7303,      0.7303,      0.7303,     0.72935,     0.72727,     0.72727,     0.72727,     0.72727,\n",
              "            0.72727,     0.72727,     0.72727,     0.72727,     0.72727,     0.72727,     0.72727,     0.72727,     0.72727,     0.72727,     0.72727,      0.7227,     0.72121,     0.71818,     0.71818,     0.71675,     0.71212,     0.71212,     0.71206,     0.71111,     0.71015,      0.7092,     0.70606,\n",
              "            0.70606,     0.70606,     0.70606,     0.70606,     0.70606,     0.70483,     0.70328,     0.70303,     0.70303,     0.70303,     0.70303,     0.70303,     0.70303,     0.70303,     0.70303,     0.70266,         0.7,         0.7,         0.7,         0.7,         0.7,         0.7,         0.7,\n",
              "                0.7,         0.7,         0.7,         0.7,         0.7,         0.7,         0.7,     0.69824,     0.69394,     0.69394,     0.69394,     0.69394,     0.69394,     0.69394,     0.69394,     0.69394,     0.69394,     0.68485,     0.68485,     0.68485,     0.68485,     0.68008,     0.67879,\n",
              "            0.67879,     0.67774,      0.6765,     0.67576,     0.67576,     0.67576,     0.67576,     0.67576,     0.67561,     0.67273,     0.67273,     0.67273,     0.67058,     0.66702,     0.66364,     0.66364,     0.66364,     0.66364,     0.66061,     0.66042,     0.65747,     0.65623,     0.65498,\n",
              "            0.65152,     0.65152,     0.65119,     0.64964,     0.64848,     0.64848,      0.6475,     0.64626,     0.64545,     0.64545,     0.64545,     0.64242,     0.64242,      0.6421,     0.64141,     0.64072,     0.64002,     0.63913,     0.63636,     0.63636,     0.63636,     0.63636,      0.6362,\n",
              "            0.63543,     0.63465,     0.63387,     0.62967,      0.6276,     0.62402,      0.6234,     0.62278,     0.62216,     0.62154,     0.61973,     0.61515,     0.61515,     0.61515,     0.61515,     0.61515,     0.61515,     0.61515,     0.61515,     0.61515,     0.61515,     0.61515,     0.61515,\n",
              "            0.61515,     0.61515,     0.61515,     0.61474,     0.61426,     0.61378,      0.6133,     0.61283,     0.61235,     0.61212,     0.61193,     0.60896,      0.6074,     0.60606,     0.60303,     0.60303,     0.60303,     0.60262,     0.60206,     0.60149,     0.60093,     0.60036,         0.6,\n",
              "                0.6,         0.6,         0.6,     0.59986,     0.59955,     0.59924,     0.59893,     0.59862,     0.59831,       0.598,     0.59768,     0.59737,     0.59706,     0.59666,     0.59622,     0.59577,     0.59533,     0.59489,     0.59444,       0.594,     0.59394,     0.59209,     0.59091,\n",
              "            0.59091,     0.59091,     0.59091,     0.59091,     0.59091,     0.59091,     0.59091,     0.59091,     0.59091,     0.59091,     0.58946,     0.58764,      0.5866,     0.58557,     0.58485,     0.58485,     0.58485,     0.58406,     0.58199,     0.58182,     0.57889,     0.57879,     0.57879,\n",
              "            0.57879,     0.57879,     0.57879,     0.57576,     0.57576,     0.57576,     0.57492,     0.57368,     0.57273,     0.57273,     0.57113,      0.5697,     0.56842,     0.56687,     0.56667,     0.56611,     0.56549,     0.56487,     0.56425,     0.56364,     0.56364,     0.56321,     0.56243,\n",
              "            0.56165,     0.56088,     0.56003,     0.55914,     0.55825,     0.55611,     0.55222,     0.54426,      0.5427,     0.53987,     0.53677,     0.53636,     0.53617,     0.53569,     0.53521,     0.53474,     0.53426,     0.53378,      0.5303,     0.53016,     0.52861,     0.52727,     0.52727,\n",
              "            0.52727,     0.52727,     0.52727,     0.52727,     0.52727,     0.52535,     0.52297,     0.52141,     0.51396,     0.51184,     0.51115,     0.51046,     0.50977,     0.50906,     0.50699,      0.5052,     0.50365,     0.50303,     0.50303,     0.50303,     0.50303,     0.50237,     0.49951,\n",
              "            0.49744,     0.49637,     0.49559,     0.49482,     0.49404,     0.49214,     0.49049,     0.48945,     0.48842,     0.48788,     0.48788,     0.48783,     0.48658,     0.48534,      0.4841,     0.48286,     0.48167,     0.48079,      0.4799,     0.47901,     0.47413,     0.47273,     0.46931,\n",
              "            0.46807,     0.46683,     0.46183,     0.45934,     0.45758,     0.45758,     0.45425,     0.45363,       0.453,     0.45238,     0.45176,     0.45152,     0.45152,     0.45152,     0.45152,     0.45152,     0.45152,     0.45152,     0.45152,     0.45069,     0.44965,     0.44862,     0.44788,\n",
              "            0.44719,      0.4465,     0.44581,     0.44545,     0.44242,     0.44242,      0.4407,     0.43456,     0.42718,     0.42641,     0.42563,     0.42485,     0.42391,     0.42236,     0.42101,     0.42023,     0.41946,     0.41868,     0.41781,     0.41677,     0.41574,     0.41448,     0.41293,\n",
              "            0.41112,     0.40905,     0.40698,     0.40557,     0.40468,     0.40379,     0.40303,     0.40303,     0.39882,     0.39024,     0.38739,     0.38531,     0.38485,     0.38319,     0.38182,     0.38182,     0.38182,     0.37799,      0.3771,     0.37622,     0.37533,     0.37444,     0.37355,\n",
              "            0.36966,     0.36909,     0.36853,     0.36796,      0.3674,     0.36683,      0.3623,     0.35683,     0.35291,     0.35055,     0.34931,     0.34779,     0.34572,     0.34545,     0.34545,     0.34545,     0.34545,     0.34545,     0.34533,     0.34212,     0.34156,     0.34099,     0.34043,\n",
              "            0.33986,     0.33939,     0.33939,     0.33939,     0.33939,     0.33554,     0.33333,     0.33333,     0.33229,     0.32806,     0.32546,     0.31866,     0.31245,     0.31065,      0.3091,     0.30482,     0.30358,     0.29676,     0.29365,     0.29054,     0.28397,     0.27524,     0.27233,\n",
              "            0.27026,     0.26592,     0.26364,     0.26364,     0.26266,     0.25956,      0.2523,     0.25016,      0.2486,      0.2441,     0.23654,      0.2303,     0.22108,     0.21735,      0.2158,     0.21335,     0.20903,     0.20856,     0.20808,      0.2076,     0.20712,     0.20665,     0.20617,\n",
              "            0.20365,     0.20137,      0.1979,     0.19433,     0.18851,     0.18602,     0.17608,     0.16987,     0.15457,     0.14835,      0.1449,     0.14387,     0.14283,     0.14167,     0.14043,     0.13939,      0.1382,     0.13418,      0.1322,     0.13065,     0.11638,     0.10812,    0.098949,\n",
              "           0.096218,    0.094148,    0.091146,    0.086444,    0.084891,    0.081065,    0.079512,     0.07713,    0.074024,    0.070918,    0.064781,    0.059952,    0.058917,    0.057882,    0.053199,    0.049251,    0.046145,    0.037592,    0.031672,    0.028198,     0.02551,     0.02364,    0.022087,\n",
              "            0.02067,    0.019427,    0.018185,    0.013568,   0.0060437,   0.0056782,   0.0053128,   0.0049474,   0.0045819,   0.0042165,   0.0038511,   0.0034857,   0.0031202,           0,           0,           0,           0,           0,           0,           0,           0,           0,           0,\n",
              "                  0,           0,           0,           0,           0,           0,           0,           0,           0,           0,           0,           0,           0,           0,           0,           0,           0,           0,           0,           0,           0,           0,           0,\n",
              "                  0,           0,           0,           0,           0,           0,           0,           0,           0,           0,           0,           0,           0,           0,           0,           0,           0,           0,           0,           0,           0,           0,           0,\n",
              "                  0,           0,           0,           0,           0,           0,           0,           0,           0,           0,           0,           0,           0,           0,           0,           0,           0,           0,           0,           0,           0,           0,           0,\n",
              "                  0,           0,           0,           0,           0,           0,           0,           0,           0,           0,           0]]), 'Confidence', 'Recall']]\n",
              "fitness: np.float64(0.496085212015649)\n",
              "keys: ['metrics/precision(B)', 'metrics/recall(B)', 'metrics/mAP50(B)', 'metrics/mAP50-95(B)']\n",
              "maps: array([    0.47057])\n",
              "names: {0: 'pothole'}\n",
              "plot: True\n",
              "results_dict: {'metrics/precision(B)': np.float64(0.7263757649402135), 'metrics/recall(B)': np.float64(0.6757575757575758), 'metrics/mAP50(B)': np.float64(0.7256940856944838), 'metrics/mAP50-95(B)': np.float64(0.47057311494022286), 'fitness': np.float64(0.496085212015649)}\n",
              "save_dir: PosixPath('runs/detect/pothole_rtdetr_l2')\n",
              "speed: {'preprocess': 0.15736109022546407, 'inference': 3.970413428568894, 'loss': 0.0003152330826648031, 'postprocess': 0.42755568421470297}\n",
              "task: 'detect'"
            ]
          },
          "metadata": {},
          "execution_count": 5
        }
      ]
    },
    {
      "cell_type": "code",
      "source": [
        "from ultralytics import RTDETR\n",
        "\n",
        "model = RTDETR('/content/runs/detect/pothole_rtdetr_l2/weights/best.pt')\n",
        "\n",
        "results = model.val(\n",
        "    data='/content/drive/MyDrive/FINALPROJECT_DATASET1/POTHOLE/data.yaml',\n",
        "    split='test'\n",
        ")\n",
        "\n",
        "md = results.results_dict\n",
        "\n",
        "print(\"=== Test Set Metrics ===\")\n",
        "print(f\"Precision  (P):       {md['metrics/precision(B)']:.4f}\")\n",
        "print(f\"Recall     (R):       {md['metrics/recall(B)']:.4f}\")\n",
        "print(f\"mAP @ 0.5:            {md['metrics/mAP50(B)']:.4f}\")\n",
        "print(f\"mAP @ 0.5:0.95:       {md['metrics/mAP50-95(B)']:.4f}\")\n",
        "print(f\"Overall fitness score:{md['fitness']:.4f}\")"
      ],
      "metadata": {
        "colab": {
          "base_uri": "https://localhost:8080/"
        },
        "id": "dGFX5oen8U43",
        "outputId": "d70e53a9-2a48-4d83-8df2-42ddd67c94f8"
      },
      "execution_count": null,
      "outputs": [
        {
          "output_type": "stream",
          "name": "stdout",
          "text": [
            "Ultralytics 8.3.142 🚀 Python-3.11.12 torch-2.6.0+cu124 CUDA:0 (NVIDIA A100-SXM4-40GB, 40507MiB)\n",
            "rt-detr-l summary: 302 layers, 31,985,795 parameters, 0 gradients, 103.4 GFLOPs\n",
            "\u001b[34m\u001b[1mval: \u001b[0mFast image access ✅ (ping: 0.6±0.2 ms, read: 0.1±0.0 MB/s, size: 75.6 KB)\n"
          ]
        },
        {
          "output_type": "stream",
          "name": "stderr",
          "text": [
            "\u001b[34m\u001b[1mval: \u001b[0mScanning /content/drive/.shortcut-targets-by-id/12YKpieMOElYxQXm2s9MtLNp2JzIsTT88/FINALPROJECT_DATASET1/POTHOLE/test/labels... 67 images, 0 backgrounds, 0 corrupt: 100%|██████████| 67/67 [00:15<00:00,  4.43it/s]"
          ]
        },
        {
          "output_type": "stream",
          "name": "stdout",
          "text": [
            "\u001b[34m\u001b[1mval: \u001b[0mNew cache created: /content/drive/.shortcut-targets-by-id/12YKpieMOElYxQXm2s9MtLNp2JzIsTT88/FINALPROJECT_DATASET1/POTHOLE/test/labels.cache\n"
          ]
        },
        {
          "output_type": "stream",
          "name": "stderr",
          "text": [
            "\n",
            "                 Class     Images  Instances      Box(P          R      mAP50  mAP50-95): 100%|██████████| 5/5 [00:02<00:00,  2.40it/s]\n"
          ]
        },
        {
          "output_type": "stream",
          "name": "stdout",
          "text": [
            "                   all         67        153      0.836      0.701      0.811      0.514\n",
            "Speed: 2.5ms preprocess, 19.8ms inference, 0.0ms loss, 0.4ms postprocess per image\n",
            "Results saved to \u001b[1mruns/detect/val2\u001b[0m\n",
            "=== Test Set Metrics ===\n",
            "Precision  (P):       0.8362\n",
            "Recall     (R):       0.7007\n",
            "mAP @ 0.5:            0.8107\n",
            "mAP @ 0.5:0.95:       0.5142\n",
            "Overall fitness score:0.5439\n"
          ]
        }
      ]
    }
  ]
}